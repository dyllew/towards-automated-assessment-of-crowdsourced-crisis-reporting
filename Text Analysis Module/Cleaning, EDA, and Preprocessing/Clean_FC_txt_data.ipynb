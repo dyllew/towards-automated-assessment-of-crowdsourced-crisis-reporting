{
  "cells": [
    {
      "cell_type": "code",
      "execution_count": null,
      "metadata": {
        "colab": {
          "base_uri": "https://localhost:8080/"
        },
        "id": "NVrS5m3y9zV2",
        "outputId": "21bba140-4e35-457f-8446-fafb091a0d32"
      },
      "outputs": [
        {
          "name": "stdout",
          "output_type": "stream",
          "text": [
            "Mounted at /content/drive\n"
          ]
        }
      ],
      "source": [
        "from google.colab import drive\n",
        "drive.mount('/content/drive')"
      ]
    },
    {
      "cell_type": "code",
      "execution_count": null,
      "metadata": {
        "colab": {
          "base_uri": "https://localhost:8080/",
          "height": 1000
        },
        "id": "daY6IDtaJGcA",
        "outputId": "ad0efd91-7f0f-4fab-9277-42c07bba3773"
      },
      "outputs": [],
      "source": [
        "%pip install url-text-module==0.6.1"
      ]
    },
    {
      "cell_type": "markdown",
      "metadata": {
        "id": "0lNYRhk2RdYg"
      },
      "source": [
        "# **Don't forget to restart the runtime after the pip installs!**"
      ]
    },
    {
      "cell_type": "code",
      "execution_count": null,
      "metadata": {
        "colab": {
          "base_uri": "https://localhost:8080/"
        },
        "id": "HSpO9m5uOSrQ",
        "outputId": "048f2af0-f442-4585-b993-be7b800723bb"
      },
      "outputs": [
        {
          "name": "stdout",
          "output_type": "stream",
          "text": [
            "Using Version 0.6.1 of URL Text Module\n"
          ]
        }
      ],
      "source": [
        "from url_text_module import INPUT_COL_NAME"
      ]
    },
    {
      "cell_type": "code",
      "execution_count": null,
      "metadata": {
        "id": "OEtsrc_RFXVo"
      },
      "outputs": [],
      "source": [
        "import pandas as pd\n",
        "import numpy as np\n",
        "\n",
        "import matplotlib.pyplot as plt\n",
        "import seaborn as sns\n",
        "sns.set_theme()\n",
        "\n",
        "import os\n",
        "from os.path import join"
      ]
    },
    {
      "cell_type": "code",
      "execution_count": null,
      "metadata": {
        "id": "wpj8OXI_aGc3"
      },
      "outputs": [],
      "source": [
        "DATA_PATH = '/content/drive/MyDrive/05_REACT AI/Research/AI & ML/Datasets'\n",
        "FC_TXT_DATA_PATH = join(DATA_PATH, 'Text_labels_Fukuchiyama Report Data.csv')\n",
        "INTERMEDIATE_DATA_PATH = join(DATA_PATH, 'FC Text Analysis Intermediate Data')\n",
        "FC_data_df = pd.read_csv(FC_TXT_DATA_PATH)"
      ]
    },
    {
      "cell_type": "markdown",
      "metadata": {
        "id": "W6WlkeZKiqH8"
      },
      "source": [
        "Only keep relevant columns"
      ]
    },
    {
      "cell_type": "code",
      "execution_count": null,
      "metadata": {
        "id": "H8OBWUxPmuP0"
      },
      "outputs": [],
      "source": [
        "EOC_CAT_COL, HUMAN_RISK_COL, ENG_COL = 'eoc_label', 'human_risk_label', 'eng_translation'"
      ]
    },
    {
      "cell_type": "markdown",
      "metadata": {
        "id": "myrdTKSe-TU5"
      },
      "source": [
        "Rename original columns to new names"
      ]
    },
    {
      "cell_type": "code",
      "execution_count": null,
      "metadata": {
        "id": "MwrC3MJqM0sg"
      },
      "outputs": [],
      "source": [
        "column_mapper = {\n",
        "    'Manual Category by EOC': EOC_CAT_COL,\n",
        "    'Human Damage': HUMAN_RISK_COL,\n",
        "    'Original Text in JP': INPUT_COL_NAME,\n",
        "    'English Translation by DeepL + manually cleaned': ENG_COL\n",
        "}"
      ]
    },
    {
      "cell_type": "code",
      "execution_count": null,
      "metadata": {
        "id": "Pvf_cKJ2MkeV"
      },
      "outputs": [],
      "source": [
        "FC_data_df.rename(columns = column_mapper, inplace = True)"
      ]
    },
    {
      "cell_type": "code",
      "execution_count": null,
      "metadata": {
        "id": "8RYw1dI6ew0B"
      },
      "outputs": [],
      "source": [
        "col_list = list(column_mapper.values())"
      ]
    },
    {
      "cell_type": "code",
      "execution_count": null,
      "metadata": {
        "id": "_Mtrz4qge3GQ"
      },
      "outputs": [],
      "source": [
        "FC_data_df = FC_data_df[col_list].copy()"
      ]
    },
    {
      "cell_type": "markdown",
      "metadata": {
        "id": "i76P1ERIiePW"
      },
      "source": [
        "Remove rows which do not have input data or labels & rows which do not have input text"
      ]
    },
    {
      "cell_type": "code",
      "execution_count": null,
      "metadata": {
        "id": "VUUXYwIxe-2b"
      },
      "outputs": [],
      "source": [
        "FC_data_df.dropna(axis = 0, subset = col_list, how = 'all', inplace = True)\n",
        "FC_data_df.dropna(subset=[INPUT_COL_NAME], inplace = True)\n",
        "FC_data_df.reset_index(inplace=True, drop=True)"
      ]
    },
    {
      "cell_type": "code",
      "execution_count": null,
      "metadata": {
        "colab": {
          "base_uri": "https://localhost:8080/"
        },
        "id": "U2V4a1wyfI5p",
        "outputId": "89a79b52-1301-4c18-9564-649484987bc0"
      },
      "outputs": [
        {
          "name": "stdout",
          "output_type": "stream",
          "text": [
            "<class 'pandas.core.frame.DataFrame'>\n",
            "RangeIndex: 716 entries, 0 to 715\n",
            "Data columns (total 4 columns):\n",
            " #   Column            Non-Null Count  Dtype \n",
            "---  ------            --------------  ----- \n",
            " 0   eoc_label         584 non-null    object\n",
            " 1   human_risk_label  715 non-null    object\n",
            " 2   input             716 non-null    object\n",
            " 3   eng_translation   716 non-null    object\n",
            "dtypes: object(4)\n",
            "memory usage: 22.5+ KB\n"
          ]
        }
      ],
      "source": [
        "FC_data_df.info()"
      ]
    },
    {
      "cell_type": "code",
      "execution_count": null,
      "metadata": {
        "id": "dLsO-0yPAmJz"
      },
      "outputs": [],
      "source": [
        "CLEANED_FC_INPUT_CSV_PATH = join(INTERMEDIATE_DATA_PATH, 'cleaned_FC_txt_inputs.csv')\n",
        "FC_data_df.to_csv(CLEANED_FC_INPUT_CSV_PATH, encoding = 'utf-8', index = False)"
      ]
    }
  ],
  "metadata": {
    "colab": {
      "collapsed_sections": [],
      "name": "Clean_FC_txt_data.ipynb",
      "provenance": []
    },
    "kernelspec": {
      "display_name": "Python 3",
      "name": "python3"
    },
    "language_info": {
      "name": "python"
    }
  },
  "nbformat": 4,
  "nbformat_minor": 0
}
