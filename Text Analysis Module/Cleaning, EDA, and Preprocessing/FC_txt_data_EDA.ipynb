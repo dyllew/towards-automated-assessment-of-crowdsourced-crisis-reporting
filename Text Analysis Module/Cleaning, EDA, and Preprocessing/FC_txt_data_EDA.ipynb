{
  "cells": [
    {
      "cell_type": "code",
      "execution_count": null,
      "metadata": {
        "colab": {
          "base_uri": "https://localhost:8080/"
        },
        "id": "NVrS5m3y9zV2",
        "outputId": "a1e63256-be6f-4c92-e66c-49a8a7c8f94e"
      },
      "outputs": [
        {
          "name": "stdout",
          "output_type": "stream",
          "text": [
            "Mounted at /content/drive\n"
          ]
        }
      ],
      "source": [
        "from google.colab import drive\n",
        "drive.mount('/content/drive')"
      ]
    },
    {
      "cell_type": "code",
      "execution_count": null,
      "metadata": {
        "colab": {
          "base_uri": "https://localhost:8080/",
          "height": 1000
        },
        "id": "KqIp2UO-I789",
        "outputId": "4f335361-a62a-4a16-8505-614d2275149c"
      },
      "outputs": [],
      "source": [
        "%pip install url-text-module==0.6.1"
      ]
    },
    {
      "cell_type": "markdown",
      "metadata": {
        "id": "vbhNPKa1Rkb_"
      },
      "source": [
        "# **Don't forget to restart the runtime after the pip installs!**"
      ]
    },
    {
      "cell_type": "code",
      "execution_count": null,
      "metadata": {
        "colab": {
          "base_uri": "https://localhost:8080/"
        },
        "id": "HSpO9m5uOSrQ",
        "outputId": "07b7c549-40cb-4a84-958d-044a498f152a"
      },
      "outputs": [
        {
          "name": "stdout",
          "output_type": "stream",
          "text": [
            "Using Version 0.6.1 of URL Text Module\n"
          ]
        }
      ],
      "source": [
        "from url_text_module import (\n",
        "    INPUT_COL_NAME, \n",
        "    CHAR_COUNT_COL_NAME, \n",
        "    plot_data_hist,\n",
        "    plot_data_box_plot,\n",
        "    plot_box_plot_data_comparison,\n",
        "    compute_distribution_skew\n",
        ")"
      ]
    },
    {
      "cell_type": "code",
      "execution_count": null,
      "metadata": {
        "id": "OEtsrc_RFXVo"
      },
      "outputs": [],
      "source": [
        "import pandas as pd\n",
        "import numpy as np\n",
        "\n",
        "import matplotlib.pyplot as plt\n",
        "\n",
        "import os\n",
        "from os.path import join"
      ]
    },
    {
      "cell_type": "markdown",
      "metadata": {
        "id": "IK6VYP-ylSos"
      },
      "source": [
        "Fukuchiyama Text Data"
      ]
    },
    {
      "cell_type": "code",
      "execution_count": null,
      "metadata": {
        "id": "wpj8OXI_aGc3"
      },
      "outputs": [],
      "source": [
        "DATA_PATH = '/content/drive/MyDrive/05_REACT AI/Research/AI & ML/Datasets'\n",
        "INTERMEDIATE_DATA_PATH = '/content/drive/MyDrive/05_REACT AI/Research/AI & ML/Datasets/FC Text Analysis Intermediate Data'\n",
        "FC_TXT_DATA_PATH = join(INTERMEDIATE_DATA_PATH, 'cleaned_FC_txt_inputs.csv')\n",
        "FC_data_df = pd.read_csv(FC_TXT_DATA_PATH)"
      ]
    },
    {
      "cell_type": "markdown",
      "metadata": {
        "id": "yuO5RcpllVXp"
      },
      "source": [
        "Typhoon Hagibis RiskMap Report Data"
      ]
    },
    {
      "cell_type": "code",
      "execution_count": null,
      "metadata": {
        "id": "4i10NjXD2UdB"
      },
      "outputs": [],
      "source": [
        "typhoon_hagibis_csv_path = \"/content/drive/MyDrive/05_REACT AI/Research/AI & ML/REACT Simulation/jp.riskmap.org.csv\"\n",
        "riskmap_df = pd.read_csv(typhoon_hagibis_csv_path)"
      ]
    },
    {
      "cell_type": "code",
      "execution_count": null,
      "metadata": {
        "id": "H8OBWUxPmuP0"
      },
      "outputs": [],
      "source": [
        "EOC_CAT_COL, HUMAN_RISK_COL, ENG_COL = 'eoc_label', 'human_risk_label', 'eng_translation'"
      ]
    },
    {
      "cell_type": "markdown",
      "metadata": {
        "id": "PBx5bgZGQbUA"
      },
      "source": [
        "## Exploratory Data Analysis (EDA)\n",
        "\n",
        "\n",
        "---\n",
        "\n"
      ]
    },
    {
      "cell_type": "code",
      "execution_count": null,
      "metadata": {
        "colab": {
          "base_uri": "https://localhost:8080/"
        },
        "id": "vmq5336_nN57",
        "outputId": "68143b6e-6580-470d-9742-9031e7537098"
      },
      "outputs": [
        {
          "name": "stdout",
          "output_type": "stream",
          "text": [
            "<class 'pandas.core.frame.DataFrame'>\n",
            "RangeIndex: 716 entries, 0 to 715\n",
            "Data columns (total 4 columns):\n",
            " #   Column            Non-Null Count  Dtype \n",
            "---  ------            --------------  ----- \n",
            " 0   eoc_label         584 non-null    object\n",
            " 1   human_risk_label  715 non-null    object\n",
            " 2   input             716 non-null    object\n",
            " 3   eng_translation   716 non-null    object\n",
            "dtypes: object(4)\n",
            "memory usage: 22.5+ KB\n"
          ]
        }
      ],
      "source": [
        "FC_data_df.info()"
      ]
    },
    {
      "cell_type": "code",
      "execution_count": null,
      "metadata": {
        "colab": {
          "base_uri": "https://localhost:8080/"
        },
        "id": "qqg-KAErLHTy",
        "outputId": "dbb7ee68-3342-408c-d784-9cfeb1baeeef"
      },
      "outputs": [
        {
          "data": {
            "text/plain": [
              "Road Submersion                                                     82\n",
              "Damage report                                                       63\n",
              "Road Restrictions                                                   54\n",
              "Landslide                                                           47\n",
              "Rescue                                                              31\n",
              "River                                                               23\n",
              "Fallen Tree                                                         21\n",
              "Weather Information                                                 17\n",
              "Road Traffic Closure                                                17\n",
              "Road Flooding                                                       17\n",
              "Dam                                                                 14\n",
              "Flood above Floor                                                   14\n",
              "Flood below Floor                                                   13\n",
              "Residential Building Flooding                                       12\n",
              "Power Outage                                                         9\n",
              "Residential Building Damage                                          9\n",
              "Rescue Request                                                       7\n",
              "Flood Below Floor                                                    6\n",
              "Overflowing                                                          6\n",
              "Road Collaption                                                      6\n",
              "Damage Situation Awareness                                           5\n",
              "Submersion                                                           5\n",
              "Submerged Vehicle                                                    3\n",
              "Safety Confirmation                                                  3\n",
              "Flood in the residential house                                       3\n",
              "Warning                                                              3\n",
              "Others                                                               3\n",
              "Road Closure                                                         3\n",
              "Human Safety Confirmation                                            3\n",
              "Residential Housing Damage                                           2\n",
              "Submerge                                                             2\n",
              "Road Submersion、Traffic Closure                                      2\n",
              "Residential Building Floodingの恐れ                                     2\n",
              "Traffic Obstruction                                                  2\n",
              "Residential Building Damage                                          2\n",
              "Possibility of Road Flood                                            2\n",
              "Hazumaki Prefectural Road Submersion、Traffic Closure                 1\n",
              "City Road Submersion                                                 1\n",
              "Road Submersion, Road Closure                                        1\n",
              "Traffic Restriction                                                  1\n",
              "問い合わせ                                                                1\n",
              "Landslide by the City Road、Road Closure                              1\n",
              "Emergency Supply Request                                             1\n",
              "Traffic Control                                                      1\n",
              "Submersion Investigation                                             1\n",
              "Backhill Landslide                                                   1\n",
              "Both banks of the Yatsu River have sunk.                             1\n",
              "Rock spilled                                                         1\n",
              "Landslide on Forest Road Tonryama Line                               1\n",
              "Sediment and branches from Otani River accumulated on city roads     1\n",
              "Water Outage                                                         1\n",
              "Fallen Tree on the Power Line                                        1\n",
              "Road Traffic Control                                                 1\n",
              "Road closed                                                          1\n",
              "BuildingDamage                                                       1\n",
              "Shutter Corrupsed                                                    1\n",
              "Shed Corrupsed                                                       1\n",
              "Submergion                                                           1\n",
              "Flopod                                                               1\n",
              "Submersion、Traffic Closure                                           1\n",
              "SubmergeDamage                                                       1\n",
              "Rescue Report                                                        1\n",
              "Earth accumulated                                                    1\n",
              "rockfall                                                             1\n",
              "Flood, Road Closure                                                  1\n",
              "Fallen Rocks                                                         1\n",
              "Sediment inflow into waterways                                       1\n",
              "Flood                                                                1\n",
              "Road Collapsed                                                       1\n",
              "油漏れ調査                                                                1\n",
              "Landslide on Cliff                                                   1\n",
              "Emergency Transportation                                             1\n",
              "Stranded truck                                                       1\n",
              "Submersion Situation                                                 1\n",
              "Shutter collaption                                                   1\n",
              "Shed collaption                                                      1\n",
              "Road Closure due to Fallen Tree                                      1\n",
              "Road Colluption                                                      1\n",
              "Tree fallen on Power Cable                                           1\n",
              "異臭調査                                                                 1\n",
              "Shutter Damage                                                       1\n",
              "residential housing damage                                           1\n",
              " Road Flood                                                          1\n",
              "Non-residential building damage                                      1\n",
              "Rock fall                                                            1\n",
              "Ditch                                                                1\n",
              "Flood Damage                                                         1\n",
              "2 ton track not accessible                                           1\n",
              "Pond                                                                 1\n",
              "River Water Level                                                    1\n",
              "メール送信                                                                1\n",
              "Traffic Obstruction                                                  1\n",
              "Situation Awareness                                                  1\n",
              "Evacuation Support                                                   1\n",
              "Debris Flow                                                          1\n",
              "Rockfall                                                             1\n",
              "Road Collupse                                                        1\n",
              "上豊地内Warning                                                          1\n",
              "Residential Budlding Completely Corrapsed                            1\n",
              "Landslide and Flood                                                  1\n",
              "Road SubmergeonLandslide                                             1\n",
              "Evacuation Information                                               1\n",
              "Danger of Breakwater                                                 1\n",
              "Road Fallen Tree                                                     1\n",
              "Flood below Floorの恐れ                                                 1\n",
              "Water Level Investigation                                            1\n",
              "railroad crossing Traffic Closureめ                                   1\n",
              "Name: eoc_label, dtype: int64"
            ]
          },
          "execution_count": 8,
          "metadata": {},
          "output_type": "execute_result"
        }
      ],
      "source": [
        "FC_data_df[EOC_CAT_COL].value_counts(normalize = False)"
      ]
    },
    {
      "cell_type": "code",
      "execution_count": null,
      "metadata": {
        "colab": {
          "base_uri": "https://localhost:8080/"
        },
        "id": "3uDHFtmwKliS",
        "outputId": "166cadd4-f926-4ae2-e324-e1719fcd7c71"
      },
      "outputs": [
        {
          "data": {
            "text/plain": [
              "Road Submersion                                                     0.140411\n",
              "Damage report                                                       0.107877\n",
              "Road Restrictions                                                   0.092466\n",
              "Landslide                                                           0.080479\n",
              "Rescue                                                              0.053082\n",
              "River                                                               0.039384\n",
              "Fallen Tree                                                         0.035959\n",
              "Weather Information                                                 0.029110\n",
              "Road Traffic Closure                                                0.029110\n",
              "Road Flooding                                                       0.029110\n",
              "Dam                                                                 0.023973\n",
              "Flood above Floor                                                   0.023973\n",
              "Flood below Floor                                                   0.022260\n",
              "Residential Building Flooding                                       0.020548\n",
              "Power Outage                                                        0.015411\n",
              "Residential Building Damage                                         0.015411\n",
              "Rescue Request                                                      0.011986\n",
              "Flood Below Floor                                                   0.010274\n",
              "Overflowing                                                         0.010274\n",
              "Road Collaption                                                     0.010274\n",
              "Damage Situation Awareness                                          0.008562\n",
              "Submersion                                                          0.008562\n",
              "Submerged Vehicle                                                   0.005137\n",
              "Safety Confirmation                                                 0.005137\n",
              "Flood in the residential house                                      0.005137\n",
              "Warning                                                             0.005137\n",
              "Others                                                              0.005137\n",
              "Road Closure                                                        0.005137\n",
              "Human Safety Confirmation                                           0.005137\n",
              "Residential Housing Damage                                          0.003425\n",
              "Submerge                                                            0.003425\n",
              "Road Submersion、Traffic Closure                                     0.003425\n",
              "Residential Building Floodingの恐れ                                    0.003425\n",
              "Traffic Obstruction                                                 0.003425\n",
              "Residential Building Damage                                         0.003425\n",
              "Possibility of Road Flood                                           0.003425\n",
              "Hazumaki Prefectural Road Submersion、Traffic Closure                0.001712\n",
              "City Road Submersion                                                0.001712\n",
              "Road Submersion, Road Closure                                       0.001712\n",
              "Traffic Restriction                                                 0.001712\n",
              "問い合わせ                                                               0.001712\n",
              "Landslide by the City Road、Road Closure                             0.001712\n",
              "Emergency Supply Request                                            0.001712\n",
              "Traffic Control                                                     0.001712\n",
              "Submersion Investigation                                            0.001712\n",
              "Backhill Landslide                                                  0.001712\n",
              "Both banks of the Yatsu River have sunk.                            0.001712\n",
              "Rock spilled                                                        0.001712\n",
              "Landslide on Forest Road Tonryama Line                              0.001712\n",
              "Sediment and branches from Otani River accumulated on city roads    0.001712\n",
              "Water Outage                                                        0.001712\n",
              "Fallen Tree on the Power Line                                       0.001712\n",
              "Road Traffic Control                                                0.001712\n",
              "Road closed                                                         0.001712\n",
              "BuildingDamage                                                      0.001712\n",
              "Shutter Corrupsed                                                   0.001712\n",
              "Shed Corrupsed                                                      0.001712\n",
              "Submergion                                                          0.001712\n",
              "Flopod                                                              0.001712\n",
              "Submersion、Traffic Closure                                          0.001712\n",
              "SubmergeDamage                                                      0.001712\n",
              "Rescue Report                                                       0.001712\n",
              "Earth accumulated                                                   0.001712\n",
              "rockfall                                                            0.001712\n",
              "Flood, Road Closure                                                 0.001712\n",
              "Fallen Rocks                                                        0.001712\n",
              "Sediment inflow into waterways                                      0.001712\n",
              "Flood                                                               0.001712\n",
              "Road Collapsed                                                      0.001712\n",
              "油漏れ調査                                                               0.001712\n",
              "Landslide on Cliff                                                  0.001712\n",
              "Emergency Transportation                                            0.001712\n",
              "Stranded truck                                                      0.001712\n",
              "Submersion Situation                                                0.001712\n",
              "Shutter collaption                                                  0.001712\n",
              "Shed collaption                                                     0.001712\n",
              "Road Closure due to Fallen Tree                                     0.001712\n",
              "Road Colluption                                                     0.001712\n",
              "Tree fallen on Power Cable                                          0.001712\n",
              "異臭調査                                                                0.001712\n",
              "Shutter Damage                                                      0.001712\n",
              "residential housing damage                                          0.001712\n",
              " Road Flood                                                         0.001712\n",
              "Non-residential building damage                                     0.001712\n",
              "Rock fall                                                           0.001712\n",
              "Ditch                                                               0.001712\n",
              "Flood Damage                                                        0.001712\n",
              "2 ton track not accessible                                          0.001712\n",
              "Pond                                                                0.001712\n",
              "River Water Level                                                   0.001712\n",
              "メール送信                                                               0.001712\n",
              "Traffic Obstruction                                                 0.001712\n",
              "Situation Awareness                                                 0.001712\n",
              "Evacuation Support                                                  0.001712\n",
              "Debris Flow                                                         0.001712\n",
              "Rockfall                                                            0.001712\n",
              "Road Collupse                                                       0.001712\n",
              "上豊地内Warning                                                         0.001712\n",
              "Residential Budlding Completely Corrapsed                           0.001712\n",
              "Landslide and Flood                                                 0.001712\n",
              "Road SubmergeonLandslide                                            0.001712\n",
              "Evacuation Information                                              0.001712\n",
              "Danger of Breakwater                                                0.001712\n",
              "Road Fallen Tree                                                    0.001712\n",
              "Flood below Floorの恐れ                                                0.001712\n",
              "Water Level Investigation                                           0.001712\n",
              "railroad crossing Traffic Closureめ                                  0.001712\n",
              "Name: eoc_label, dtype: float64"
            ]
          },
          "execution_count": 9,
          "metadata": {},
          "output_type": "execute_result"
        }
      ],
      "source": [
        "FC_data_df[EOC_CAT_COL].value_counts(normalize = True)"
      ]
    },
    {
      "cell_type": "code",
      "execution_count": null,
      "metadata": {
        "colab": {
          "base_uri": "https://localhost:8080/"
        },
        "id": "_0g9-O95x88x",
        "outputId": "61b80e17-16c3-49f5-a73c-4f40c85d79b9"
      },
      "outputs": [
        {
          "name": "stdout",
          "output_type": "stream",
          "text": [
            "There are 108 unique EOC categories\n"
          ]
        }
      ],
      "source": [
        "num_unique_EOC_cats = len(FC_data_df[EOC_CAT_COL].unique())\n",
        "print(f\"There are {num_unique_EOC_cats} unique EOC categories\")"
      ]
    },
    {
      "cell_type": "markdown",
      "metadata": {
        "id": "kDHJTQ-LRDkA"
      },
      "source": [
        "### Save DF of unique EOC categories"
      ]
    },
    {
      "cell_type": "code",
      "execution_count": null,
      "metadata": {
        "id": "r9vU_0VnQ_Bb"
      },
      "outputs": [],
      "source": [
        "unique_eoc_cats = FC_data_df[EOC_CAT_COL].unique()\n",
        "categories_df = pd.DataFrame({'EOC_categories': unique_eoc_cats})\n",
        "categories_df.dropna(inplace = True)\n",
        "EOC_CATEGORIES_CSV_PATH = join(DATA_PATH, 'EOC_txt_categories.csv')\n",
        "categories_df.to_csv(EOC_CATEGORIES_CSV_PATH, encoding='utf-8', index=False)"
      ]
    },
    {
      "cell_type": "markdown",
      "metadata": {
        "id": "iE78sN3Oi1jQ"
      },
      "source": [
        "## There are 716 text data points, 584 have EOC categories and 715 of them have a human damage label (yes/no).\n",
        "---"
      ]
    },
    {
      "cell_type": "markdown",
      "metadata": {
        "id": "EdkaHMg6jFCD"
      },
      "source": [
        "Clean up the Human Risk labels"
      ]
    },
    {
      "cell_type": "code",
      "execution_count": null,
      "metadata": {
        "id": "Sta6Iajgkm6q"
      },
      "outputs": [],
      "source": [
        "unique_vals_human_damage = FC_data_df[HUMAN_RISK_COL].unique()"
      ]
    },
    {
      "cell_type": "code",
      "execution_count": null,
      "metadata": {
        "colab": {
          "base_uri": "https://localhost:8080/"
        },
        "id": "zXP0W5IDksFY",
        "outputId": "c5fe0995-b10a-43a7-d074-320a0f474dcb"
      },
      "outputs": [
        {
          "data": {
            "text/plain": [
              "array(['No', 'Yes', nan, 'yes', 'YEs'], dtype=object)"
            ]
          },
          "execution_count": 13,
          "metadata": {},
          "output_type": "execute_result"
        }
      ],
      "source": [
        "unique_vals_human_damage"
      ]
    },
    {
      "cell_type": "code",
      "execution_count": null,
      "metadata": {
        "id": "pX2gIcsplXjO"
      },
      "outputs": [],
      "source": [
        "def yes_mapping(hum_damage_label):\n",
        "  if type(hum_damage_label) == str:\n",
        "    return 'Yes' if hum_damage_label.lower() == 'yes' else hum_damage_label\n",
        "  return hum_damage_label"
      ]
    },
    {
      "cell_type": "code",
      "execution_count": null,
      "metadata": {
        "id": "cam-Kep5vLBg"
      },
      "outputs": [],
      "source": [
        "FC_data_df[HUMAN_RISK_COL] = FC_data_df[HUMAN_RISK_COL].apply(yes_mapping)"
      ]
    },
    {
      "cell_type": "code",
      "execution_count": null,
      "metadata": {
        "colab": {
          "base_uri": "https://localhost:8080/"
        },
        "id": "DmpLEgjBmXSH",
        "outputId": "55d5774a-fe14-4b11-bab6-4256e8672651"
      },
      "outputs": [
        {
          "data": {
            "text/plain": [
              "No     620\n",
              "Yes     95\n",
              "Name: human_risk_label, dtype: int64"
            ]
          },
          "execution_count": 16,
          "metadata": {},
          "output_type": "execute_result"
        }
      ],
      "source": [
        "FC_data_df[HUMAN_RISK_COL].value_counts(normalize=False)"
      ]
    },
    {
      "cell_type": "code",
      "execution_count": null,
      "metadata": {
        "colab": {
          "base_uri": "https://localhost:8080/"
        },
        "id": "AsG9n1AQMZlx",
        "outputId": "c5f89b99-4032-493a-945c-9ca3854d4cfc"
      },
      "outputs": [
        {
          "data": {
            "text/plain": [
              "No     0.867133\n",
              "Yes    0.132867\n",
              "Name: human_risk_label, dtype: float64"
            ]
          },
          "execution_count": 17,
          "metadata": {},
          "output_type": "execute_result"
        }
      ],
      "source": [
        "FC_data_df[HUMAN_RISK_COL].value_counts(normalize=True)"
      ]
    },
    {
      "cell_type": "markdown",
      "metadata": {
        "id": "lpB3c0CK64uR"
      },
      "source": [
        "Save data with cleaned Human Risk Labels, i.e. Yes & No"
      ]
    },
    {
      "cell_type": "code",
      "execution_count": null,
      "metadata": {
        "id": "2A-5MHO664Sn"
      },
      "outputs": [],
      "source": [
        "FC_data_df.to_csv(FC_TXT_DATA_PATH, encoding = 'utf-8', index =  False)"
      ]
    },
    {
      "cell_type": "code",
      "execution_count": null,
      "metadata": {
        "id": "skFXXD0_loXz"
      },
      "outputs": [],
      "source": [
        "FC_data_df[CHAR_COUNT_COL_NAME] = FC_data_df[INPUT_COL_NAME].map(lambda input_str: len(input_str))"
      ]
    },
    {
      "cell_type": "code",
      "execution_count": null,
      "metadata": {
        "colab": {
          "base_uri": "https://localhost:8080/"
        },
        "id": "eolmb3npiNBm",
        "outputId": "585f0f07-a4c9-4988-96c6-499fccc4695e"
      },
      "outputs": [
        {
          "name": "stdout",
          "output_type": "stream",
          "text": [
            "<class 'pandas.core.frame.DataFrame'>\n",
            "RangeIndex: 68 entries, 0 to 67\n",
            "Data columns (total 11 columns):\n",
            " #   Column            Non-Null Count  Dtype  \n",
            "---  ------            --------------  -----  \n",
            " 0   pkey              68 non-null     int64  \n",
            " 1   report_data       68 non-null     object \n",
            " 2   the_geom          68 non-null     object \n",
            " 3   created_at        68 non-null     object \n",
            " 4   status            0 non-null      float64\n",
            " 5   text              68 non-null     object \n",
            " 6   type              68 non-null     object \n",
            " 7   source            0 non-null      float64\n",
            " 8   database          68 non-null     object \n",
            " 9   flood_depth       19 non-null     float64\n",
            " 10  local_image_path  26 non-null     object \n",
            "dtypes: float64(3), int64(1), object(7)\n",
            "memory usage: 6.0+ KB\n"
          ]
        }
      ],
      "source": [
        "riskmap_df.info()"
      ]
    },
    {
      "cell_type": "code",
      "execution_count": null,
      "metadata": {
        "id": "-y98IU-l3L2F"
      },
      "outputs": [],
      "source": [
        "riskmap_df[CHAR_COUNT_COL_NAME] = riskmap_df['text'].map(lambda input_str: len(input_str))"
      ]
    },
    {
      "cell_type": "code",
      "execution_count": null,
      "metadata": {
        "id": "9YrO6pxvHfUu"
      },
      "outputs": [],
      "source": [
        "TEXT_ANALYSIS_FIGS_DIR = \"/content/drive/MyDrive/05_REACT AI/Research/AI & ML/Fukuchiyama Crisis Text Data Analysis/Figures\"\n",
        "EDA_PLOTS_DIR = join(TEXT_ANALYSIS_FIGS_DIR, 'EDA')"
      ]
    },
    {
      "cell_type": "code",
      "execution_count": null,
      "metadata": {
        "id": "AQ_FlP7IaXqY"
      },
      "outputs": [],
      "source": [
        "x_label = \"Character Count\""
      ]
    },
    {
      "cell_type": "code",
      "execution_count": null,
      "metadata": {
        "colab": {
          "base_uri": "https://localhost:8080/",
          "height": 297
        },
        "id": "-98EB_b-agcT",
        "outputId": "fed92715-5478-4e55-83d9-f03bbd5b0246"
      },
      "outputs": [
        {
          "data": {
            "image/png": "[encoded data removed]",
            "text/plain": [
              "<Figure size 432x288 with 1 Axes>"
            ]
          },
          "metadata": {
            "needs_background": "light"
          },
          "output_type": "display_data"
        }
      ],
      "source": [
        "char_count_rm = riskmap_df[CHAR_COUNT_COL_NAME]\n",
        "plot_data_hist(\n",
        "    char_count_rm,\n",
        "    x_label,\n",
        "    title = \"Character Counts from RM Typhoon Hagibis Report Text\"\n",
        ")\n",
        "plt.savefig(join(EDA_PLOTS_DIR, \"character_hist_rm.png\"))"
      ]
    },
    {
      "cell_type": "code",
      "execution_count": null,
      "metadata": {
        "colab": {
          "base_uri": "https://localhost:8080/"
        },
        "id": "YAiIAxgWqQph",
        "outputId": "f7ae482a-f4f9-40da-fa9b-804e9d4e2622"
      },
      "outputs": [
        {
          "name": "stdout",
          "output_type": "stream",
          "text": [
            "Skewness for RM Typhoon Hagibis data 2.010650744334077\n"
          ]
        }
      ],
      "source": [
        "rm_skew = compute_distribution_skew(riskmap_df[CHAR_COUNT_COL_NAME])\n",
        "print(f'Skewness for RM Typhoon Hagibis data {rm_skew}')"
      ]
    },
    {
      "cell_type": "code",
      "execution_count": null,
      "metadata": {
        "colab": {
          "base_uri": "https://localhost:8080/",
          "height": 297
        },
        "id": "fYmXQjdi4DkK",
        "outputId": "67bcbc29-578a-4506-a951-5fcd4384c3c9"
      },
      "outputs": [
        {
          "data": {
            "image/png": "[encoded data removed]",
            "text/plain": [
              "<Figure size 432x288 with 1 Axes>"
            ]
          },
          "metadata": {
            "needs_background": "light"
          },
          "output_type": "display_data"
        }
      ],
      "source": [
        "plot_data_box_plot(\n",
        "    char_count_rm,\n",
        "    x_label,\n",
        "    title = \"Character Count Distribution of RM Typhoon Hagibis Report Text\"\n",
        ")\n",
        "plt.savefig(join(EDA_PLOTS_DIR, \"character_box_and_whisk_rm.png\"))"
      ]
    },
    {
      "cell_type": "code",
      "execution_count": null,
      "metadata": {
        "colab": {
          "base_uri": "https://localhost:8080/",
          "height": 297
        },
        "id": "z-fwJwVYlc3q",
        "outputId": "a2b72d8b-07dc-457b-b86a-d0dae6d18458"
      },
      "outputs": [
        {
          "data": {
            "image/png": "[encoded data removed]",
            "text/plain": [
              "<Figure size 432x288 with 1 Axes>"
            ]
          },
          "metadata": {
            "needs_background": "light"
          },
          "output_type": "display_data"
        }
      ],
      "source": [
        "char_count_fc = FC_data_df[CHAR_COUNT_COL_NAME]\n",
        "plot_data_hist(\n",
        "    char_count_fc,\n",
        "    x_label,\n",
        "    title = \"Character Counts from FC Firefighter Text Reports\"\n",
        ")\n",
        "plt.savefig(join(EDA_PLOTS_DIR, \"character_hist_fc.png\"))"
      ]
    },
    {
      "cell_type": "code",
      "execution_count": null,
      "metadata": {
        "colab": {
          "base_uri": "https://localhost:8080/"
        },
        "id": "j1dIyhtRuGvn",
        "outputId": "9eae734e-b28a-4624-a1e0-804726774bb6"
      },
      "outputs": [
        {
          "name": "stdout",
          "output_type": "stream",
          "text": [
            "Skewness for FC Firefighter Report data 1.5716327230632525\n"
          ]
        }
      ],
      "source": [
        "fc_skew = compute_distribution_skew(FC_data_df[CHAR_COUNT_COL_NAME])\n",
        "print(f'Skewness for FC Firefighter Report data {fc_skew}')"
      ]
    },
    {
      "cell_type": "code",
      "execution_count": null,
      "metadata": {
        "colab": {
          "base_uri": "https://localhost:8080/",
          "height": 297
        },
        "id": "LXOLvFZ2pPer",
        "outputId": "d24cbd22-2471-4776-81f5-7d952e2ec6ab"
      },
      "outputs": [
        {
          "data": {
            "image/png": "[encoded data removed]",
            "text/plain": [
              "<Figure size 432x288 with 1 Axes>"
            ]
          },
          "metadata": {
            "needs_background": "light"
          },
          "output_type": "display_data"
        }
      ],
      "source": [
        "plot_data_box_plot(\n",
        "    char_count_fc,\n",
        "    x_label,\n",
        "    title = \"Character Count Distribution of FC Firefighter Text Reports\"\n",
        ")\n",
        "plt.savefig(join(EDA_PLOTS_DIR, \"character_box_and_whisk_fc.png\"))"
      ]
    },
    {
      "cell_type": "code",
      "execution_count": null,
      "metadata": {
        "id": "uiITWSrsepUM"
      },
      "outputs": [],
      "source": [
        "colors = ['skyblue', '#d291bc']"
      ]
    },
    {
      "cell_type": "code",
      "execution_count": null,
      "metadata": {
        "colab": {
          "base_uri": "https://localhost:8080/",
          "height": 369
        },
        "id": "IENS-7J4j-2T",
        "outputId": "55350624-6a86-46c4-fb49-74254270bd18"
      },
      "outputs": [
        {
          "data": {
            "image/png": "[encoded data removed]",
            "text/plain": [
              "<Figure size 432x360 with 1 Axes>"
            ]
          },
          "metadata": {
            "needs_background": "light"
          },
          "output_type": "display_data"
        }
      ],
      "source": [
        "plot_box_plot_data_comparison(\n",
        "    [char_count_fc, char_count_rm],\n",
        "    [\"FC Firefighter Reports\", \"Typhoon Hagibis RM Reports\"],\n",
        "    'Character Count',\n",
        "    title = \"Japanese Crisis Report Text Character Count Distributions\",\n",
        "    colors_list = colors\n",
        ")\n",
        "plt.savefig(join(EDA_PLOTS_DIR, \"character_box_and_whisk_fc_rm.png\"))"
      ]
    }
  ],
  "metadata": {
    "colab": {
      "collapsed_sections": [],
      "name": "FC_txt_data_EDA.ipynb",
      "provenance": []
    },
    "kernelspec": {
      "display_name": "Python 3",
      "name": "python3"
    },
    "language_info": {
      "name": "python"
    }
  },
  "nbformat": 4,
  "nbformat_minor": 0
}
