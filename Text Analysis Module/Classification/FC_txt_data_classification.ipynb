{
  "cells": [
    {
      "cell_type": "code",
      "execution_count": null,
      "metadata": {
        "colab": {
          "base_uri": "https://localhost:8080/"
        },
        "id": "NVrS5m3y9zV2",
        "outputId": "891f4ca4-55a9-41c4-bf82-5f838f557254"
      },
      "outputs": [
        {
          "name": "stdout",
          "output_type": "stream",
          "text": [
            "Mounted at /content/drive\n"
          ]
        }
      ],
      "source": [
        "from google.colab import drive, data_table\n",
        "drive.mount('/content/drive')"
      ]
    },
    {
      "cell_type": "code",
      "execution_count": null,
      "metadata": {
        "colab": {
          "base_uri": "https://localhost:8080/",
          "height": 1000
        },
        "id": "JEKYQ4eHLe9i",
        "outputId": "15e51fae-5dee-4226-ba62-3f5c3cf5d3b9"
      },
      "outputs": [],
      "source": [
        "%pip install url-image-module==0.27.0"
      ]
    },
    {
      "cell_type": "code",
      "execution_count": null,
      "metadata": {
        "colab": {
          "base_uri": "https://localhost:8080/"
        },
        "id": "FPezAFD_7_YS",
        "outputId": "107e18a9-7011-4efc-a5b3-7a8b9e039d7e"
      },
      "outputs": [],
      "source": [
        "%pip install url-text-module==0.6.1"
      ]
    },
    {
      "cell_type": "markdown",
      "metadata": {
        "id": "3XDdn-unMyAR"
      },
      "source": [
        "Note: The original computations in this notebook used scikit-learn==0.24.2, i.e. before the url-text-module was developed, which uses scikit-learn==1.0.2, so for reproducibility we elect to maintain that dependency in this notebook even though url-text-module uses scikit-learn==1.0.2"
      ]
    },
    {
      "cell_type": "code",
      "execution_count": null,
      "metadata": {
        "colab": {
          "base_uri": "https://localhost:8080/"
        },
        "id": "zFHXOztb8AJh",
        "outputId": "4324c7b4-7d32-477a-d05f-8ac6b34b358f"
      },
      "outputs": [],
      "source": [
        "%pip install scikit-learn==0.24.2"
      ]
    },
    {
      "cell_type": "markdown",
      "metadata": {
        "id": "2w8-Wp7T6plo"
      },
      "source": [
        "# **Don't forget to restart the runtime after the pip installs!**"
      ]
    },
    {
      "cell_type": "code",
      "execution_count": null,
      "metadata": {
        "id": "OEtsrc_RFXVo"
      },
      "outputs": [],
      "source": [
        "import pandas as pd\n",
        "import numpy as np\n",
        "\n",
        "from sklearn.model_selection import train_test_split\n",
        "\n",
        "from os.path import join"
      ]
    },
    {
      "cell_type": "code",
      "execution_count": null,
      "metadata": {
        "colab": {
          "base_uri": "https://localhost:8080/"
        },
        "id": "VCB99BWpq_ug",
        "outputId": "16defbd0-a6dd-465d-8f78-1c997071b6a7"
      },
      "outputs": [
        {
          "name": "stdout",
          "output_type": "stream",
          "text": [
            "Using Version 0.27.0 of URL Image Module\n"
          ]
        }
      ],
      "source": [
        "from url_image_module import (\n",
        "    plot_label_dist_bar_chart,\n",
        "    plot_confusion_matrix_heatmap,\n",
        "    plot_per_class_metric_bar_chart,\n",
        ")"
      ]
    },
    {
      "cell_type": "code",
      "execution_count": null,
      "metadata": {
        "colab": {
          "base_uri": "https://localhost:8080/"
        },
        "id": "8WlJKEl9iZ5c",
        "outputId": "80414b37-a243-4a06-917a-3426e38666ce"
      },
      "outputs": [
        {
          "name": "stdout",
          "output_type": "stream",
          "text": [
            "Using Version 0.6.1 of URL Text Module\n"
          ]
        }
      ],
      "source": [
        "from url_text_module import (\n",
        "    INPUT_COL_NAME,\n",
        "    EMBEDDINGS_COL_NAME,\n",
        "    seed_everything,\n",
        ")"
      ]
    },
    {
      "cell_type": "code",
      "execution_count": null,
      "metadata": {
        "id": "PaUkrd3h0BAq"
      },
      "outputs": [],
      "source": [
        "## Manual seeding for reproducibility and move the code to CUDA (GPU)\n",
        "SEED = 1\n",
        "seed_everything(SEED)"
      ]
    },
    {
      "cell_type": "code",
      "execution_count": null,
      "metadata": {
        "id": "wpj8OXI_aGc3"
      },
      "outputs": [],
      "source": [
        "DATA_PATH = '/content/drive/MyDrive/05_REACT AI/Research/AI & ML/Datasets/FC Text Analysis Intermediate Data'\n",
        "FC_TXT_DATA_PATH = join(DATA_PATH, 'preprocessed_text_data.pkl')\n",
        "data_df = pd.read_pickle(FC_TXT_DATA_PATH)"
      ]
    },
    {
      "cell_type": "code",
      "execution_count": null,
      "metadata": {
        "id": "9YrO6pxvHfUu"
      },
      "outputs": [],
      "source": [
        "TEXT_ANALYSIS_FIGS_DIR = \"/content/drive/MyDrive/05_REACT AI/Research/AI & ML/Fukuchiyama Crisis Text Data Analysis/Figures\"\n",
        "CLASSIFICATION_PLOTS_DIR = join(TEXT_ANALYSIS_FIGS_DIR, 'Classification')"
      ]
    },
    {
      "cell_type": "code",
      "execution_count": null,
      "metadata": {
        "id": "I8U6qBhA9JgL"
      },
      "outputs": [],
      "source": [
        "TOKENS_COL_NAME, HUMAN_RISK_COL_NAME = 'tokens', 'human_risk_label'"
      ]
    },
    {
      "cell_type": "markdown",
      "metadata": {
        "id": "_RZcMp2SG4k0"
      },
      "source": [
        "### **Human Risk Text Classification**"
      ]
    },
    {
      "cell_type": "markdown",
      "metadata": {
        "id": "mhoKgj5Vitzv"
      },
      "source": [
        "Let's make Train/Test splits in proportions of 80%/20%"
      ]
    },
    {
      "cell_type": "code",
      "execution_count": null,
      "metadata": {
        "id": "pga35e1oitzw"
      },
      "outputs": [],
      "source": [
        "human_risk_dataset = data_df[[INPUT_COL_NAME, TOKENS_COL_NAME, EMBEDDINGS_COL_NAME, HUMAN_RISK_COL_NAME]].copy()"
      ]
    },
    {
      "cell_type": "code",
      "execution_count": null,
      "metadata": {
        "id": "Z2D2INzCitzw"
      },
      "outputs": [],
      "source": [
        "human_risk_dataset.dropna(subset = [HUMAN_RISK_COL_NAME], inplace = True)"
      ]
    },
    {
      "cell_type": "markdown",
      "metadata": {
        "id": "bPmuX8Hx4Wrx"
      },
      "source": [
        "Label Preprocessing"
      ]
    },
    {
      "cell_type": "code",
      "execution_count": null,
      "metadata": {
        "id": "IsY6mh_fpDxq"
      },
      "outputs": [],
      "source": [
        "human_risk_class_idx_map = {\n",
        "    \"Yes\": 1,\n",
        "    \"No\": 0\n",
        "}"
      ]
    },
    {
      "cell_type": "code",
      "execution_count": null,
      "metadata": {
        "id": "-FKYR8wFxL39"
      },
      "outputs": [],
      "source": [
        "human_risk_dataset[HUMAN_RISK_COL_NAME] = human_risk_dataset[HUMAN_RISK_COL_NAME].map(human_risk_class_idx_map)"
      ]
    },
    {
      "cell_type": "code",
      "execution_count": null,
      "metadata": {
        "id": "mTjqxy8wBkUr"
      },
      "outputs": [],
      "source": [
        "human_risk_class_str_idx_map = {\"no_human_risk\": 0, \"human_risk\": 1}\n",
        "human_risk_idx_class_str_map = {idx: class_name for class_name, idx in human_risk_class_str_idx_map.items()}"
      ]
    },
    {
      "cell_type": "code",
      "execution_count": null,
      "metadata": {
        "id": "RtRnJFLLBrAu"
      },
      "outputs": [],
      "source": [
        "HUMAN_RISK_STR_LABEL_COL_NAME = 'hum_risk_str_label'"
      ]
    },
    {
      "cell_type": "code",
      "execution_count": null,
      "metadata": {
        "id": "AEKfcBRqBcc1"
      },
      "outputs": [],
      "source": [
        "human_risk_dataset[HUMAN_RISK_STR_LABEL_COL_NAME] = human_risk_dataset[HUMAN_RISK_COL_NAME].map(human_risk_idx_class_str_map)"
      ]
    },
    {
      "cell_type": "code",
      "execution_count": null,
      "metadata": {
        "colab": {
          "base_uri": "https://localhost:8080/"
        },
        "id": "zL54IwgiqQKO",
        "outputId": "38454bd9-7512-4596-a745-f0d735801a37"
      },
      "outputs": [
        {
          "name": "stdout",
          "output_type": "stream",
          "text": [
            "<class 'pandas.core.frame.DataFrame'>\n",
            "Int64Index: 715 entries, 0 to 715\n",
            "Data columns (total 5 columns):\n",
            " #   Column              Non-Null Count  Dtype \n",
            "---  ------              --------------  ----- \n",
            " 0   input               715 non-null    object\n",
            " 1   tokens              715 non-null    object\n",
            " 2   embeddings          715 non-null    object\n",
            " 3   human_risk_label    715 non-null    int64 \n",
            " 4   hum_risk_str_label  715 non-null    object\n",
            "dtypes: int64(1), object(4)\n",
            "memory usage: 33.5+ KB\n"
          ]
        }
      ],
      "source": [
        "human_risk_dataset.info()"
      ]
    },
    {
      "cell_type": "code",
      "execution_count": null,
      "metadata": {
        "id": "LEI_-_aR4QuZ"
      },
      "outputs": [],
      "source": [
        "y = np.array(human_risk_dataset[HUMAN_RISK_COL_NAME].tolist())"
      ]
    },
    {
      "cell_type": "markdown",
      "metadata": {
        "id": "KOfxzWCDHBIz"
      },
      "source": [
        "#### Split the data into train/test in proportions of 80/20"
      ]
    },
    {
      "cell_type": "code",
      "execution_count": null,
      "metadata": {
        "id": "kaUqvYD06XmE"
      },
      "outputs": [],
      "source": [
        "TRAIN_RATIO, TEST_RATIO = 0.8, 0.2"
      ]
    },
    {
      "cell_type": "code",
      "execution_count": null,
      "metadata": {
        "id": "-O8O56Pu2BAv"
      },
      "outputs": [],
      "source": [
        "X_train, X_test, y_train, y_test = train_test_split(human_risk_dataset.index.values, y, test_size = TEST_RATIO, shuffle = True, stratify = y, random_state = SEED)"
      ]
    },
    {
      "cell_type": "code",
      "execution_count": null,
      "metadata": {
        "id": "FsphTiaPSvsR"
      },
      "outputs": [],
      "source": [
        "train_df, test_df = human_risk_dataset.loc[X_train], human_risk_dataset.loc[X_test]"
      ]
    },
    {
      "cell_type": "code",
      "execution_count": null,
      "metadata": {
        "id": "fzr57pCxtOfo"
      },
      "outputs": [],
      "source": [
        "training_docs, test_docs = train_df[TOKENS_COL_NAME].to_numpy(), test_df[TOKENS_COL_NAME].to_numpy()\n",
        "train_bert_embeddings, test_bert_embeddings = np.array(train_df[EMBEDDINGS_COL_NAME].tolist()), np.array(test_df[EMBEDDINGS_COL_NAME].tolist())"
      ]
    },
    {
      "cell_type": "markdown",
      "metadata": {
        "id": "gD3vKxJbhJ8L"
      },
      "source": [
        "### Human Damage Train/Test Data Distributions"
      ]
    },
    {
      "cell_type": "code",
      "execution_count": null,
      "metadata": {
        "colab": {
          "base_uri": "https://localhost:8080/",
          "height": 437
        },
        "id": "eC1yjgnPhPtY",
        "outputId": "2a6d3ccd-475a-488e-e335-e6d22c2eac1e"
      },
      "outputs": [
        {
          "data": {
            "image/png": "[encoded data removed]",
            "text/plain": [
              "<Figure size 360x432 with 1 Axes>"
            ]
          },
          "metadata": {},
          "output_type": "display_data"
        }
      ],
      "source": [
        "training_hum_damage_fig = plot_label_dist_bar_chart(\n",
        "    \"Human Risk\", \n",
        "    train_df[HUMAN_RISK_STR_LABEL_COL_NAME], \n",
        "    ['human_risk', 'no_human_risk'], \n",
        "    width = 0.45,\n",
        "    fig_size = (5, 6),\n",
        "    colors = ['orange', 'slategray'],\n",
        "    label_size = 15, \n",
        "    title = 'Label Counts for Human Risk Training Dataset'\n",
        ")\n",
        "training_hum_damage_fig.savefig(join(CLASSIFICATION_PLOTS_DIR, 'hum_risk_train_dist.png'), bbox_inches='tight', dpi=150)"
      ]
    },
    {
      "cell_type": "code",
      "execution_count": null,
      "metadata": {
        "colab": {
          "base_uri": "https://localhost:8080/",
          "height": 437
        },
        "id": "Cj11ridtyZt3",
        "outputId": "2faad848-3705-4533-f2d0-fd5a466501ca"
      },
      "outputs": [
        {
          "data": {
            "image/png": "[encoded data removed]",
            "text/plain": [
              "<Figure size 360x432 with 1 Axes>"
            ]
          },
          "metadata": {},
          "output_type": "display_data"
        }
      ],
      "source": [
        "test_hum_damage_fig = plot_label_dist_bar_chart(\n",
        "    \"Human Risk\", \n",
        "    test_df[HUMAN_RISK_STR_LABEL_COL_NAME], \n",
        "    ['human_risk', 'no_human_risk'], \n",
        "    width=0.45,\n",
        "    fig_size=(5, 6),\n",
        "    colors=['orange', 'slategray'],\n",
        "    label_size=15, \n",
        "    title = 'Label Counts for Human Risk Test Dataset'\n",
        ")\n",
        "test_hum_damage_fig.savefig(join(CLASSIFICATION_PLOTS_DIR, 'hum_risk_test_dist.png'), bbox_inches='tight', dpi=150)"
      ]
    },
    {
      "cell_type": "markdown",
      "metadata": {
        "id": "a_oluKvnhRyi"
      },
      "source": [
        "### Human Damage Classification Experiments"
      ]
    },
    {
      "cell_type": "code",
      "execution_count": null,
      "metadata": {
        "id": "YboLogEN-chd"
      },
      "outputs": [],
      "source": [
        "from url_text_module import (\n",
        "    LOGISTIC_REGRESSION_KEY, \n",
        "    RANDOM_FOREST_KEY, \n",
        "    DECISION_TREE_KEY, \n",
        "    MULTINOMIAL_NAIVE_BAYES_KEY, \n",
        "    K_NEAREST_NEIGHBORS_KEY, \n",
        "    SUPPORT_VECTOR_MACHINE_KEY,\n",
        ")"
      ]
    },
    {
      "cell_type": "markdown",
      "metadata": {
        "id": "oa5cXkYLXV0P"
      },
      "source": [
        "### Perform Nested 5 x 5 CV"
      ]
    },
    {
      "cell_type": "code",
      "execution_count": null,
      "metadata": {
        "id": "T-WsfYdhLbQb"
      },
      "outputs": [],
      "source": [
        "# Nested CV Code inspired from: https://github.com/rasbt/stat451-machine-learning-fs20/blob/master/L11/code/11-eval4-algo__nested-cv_verbose1.ipynb"
      ]
    },
    {
      "cell_type": "markdown",
      "metadata": {
        "id": "ilZ4DJTkHJNU"
      },
      "source": [
        "### Standardize the data, fit a logistic regression model, tune on the dev set"
      ]
    },
    {
      "cell_type": "code",
      "execution_count": null,
      "metadata": {
        "id": "dg94IDxbftD6"
      },
      "outputs": [],
      "source": [
        "import numpy as np"
      ]
    },
    {
      "cell_type": "code",
      "execution_count": null,
      "metadata": {
        "id": "0BOe2iBbWiDZ"
      },
      "outputs": [],
      "source": [
        "param_grid_1 = {\n",
        "    \"classifier__dual\": [True],\n",
        "    \"classifier__solver\": [\"liblinear\"],\n",
        "    \"classifier__C\": np.power(10., np.arange(-4, 3)).tolist(),\n",
        "    \"classifier__class_weight\": [None, 'balanced']\n",
        "}\n",
        "\n",
        "param_grid_2 = {\n",
        "    \"classifier__solver\": [\"saga\"],\n",
        "    \"classifier__penalty\": ['elasticnet'],\n",
        "    \"classifier__l1_ratio\": [0.1, 0.2, 0.3, 0.4, 0.5, 0.6, 0.7, 0.8, 0.9],\n",
        "    \"classifier__C\": np.power(10., np.arange(-4, 3)).tolist(),\n",
        "    \"classifier__class_weight\": [None, 'balanced']\n",
        "}\n",
        "\n",
        "param_grid_3 = {\n",
        "    \"classifier__solver\": [\"newton-cg\", \"lbfgs\", \"liblinear\", \"saga\", \"sag\"],\n",
        "    \"classifier__penalty\": ['l2'],\n",
        "    \"classifier__C\": np.power(10., np.arange(-4, 3)).tolist(),\n",
        "    \"classifier__class_weight\": [None, 'balanced']\n",
        "}\n",
        "\n",
        "param_grid_4 = {\n",
        "    \"classifier__solver\": [\"liblinear\", \"saga\"],\n",
        "    \"classifier__penalty\": ['l1'],\n",
        "    \"classifier__C\": np.power(10., np.arange(-4, 3)).tolist(),\n",
        "    \"classifier__class_weight\": [None, 'balanced'],\n",
        "}"
      ]
    },
    {
      "cell_type": "code",
      "execution_count": null,
      "metadata": {
        "id": "1HUxELRGjjK6"
      },
      "outputs": [],
      "source": [
        "# Build pipeline\n",
        "lr_params = [param_grid_1, param_grid_2, param_grid_3, param_grid_4]\n",
        "rf_params = [{'classifier__n_estimators': [10, 100, 250, 500, 1000, 10000],\n",
        "              'classifier__max_depth': [5, 10, 20],\n",
        "              'classifier__class_weight': [None, 'balanced']}]\n",
        "dt_params = [{'classifier__max_depth': [5, 10, 20, None],\n",
        "              'classifier__min_samples_split': [2, 5, 10],\n",
        "              'classifier__criterion': ['gini', 'entropy'],\n",
        "              'classifier__class_weight': [None, 'balanced']}]\n",
        "mb_params = [{'classifier__alpha': [10**0, 10**1, 10**2]}]\n",
        "knn_params = [{'classifier__n_neighbors': list(range(2, 16)),\n",
        "              'classifier__p': [1, 2],\n",
        "              'classifier__algorithm': ['ball_tree'],\n",
        "              'classifier__leaf_size': [50]}]\n",
        "svc_params = [{'classifier__kernel': ['rbf'],\n",
        "               'classifier__C': np.power(10., np.arange(-4, 3)).tolist(),\n",
        "               'classifier__gamma': np.power(10., np.arange(-5, 0)).tolist(),\n",
        "               'classifier__class_weight': [None, 'balanced']},\n",
        "               {'classifier__kernel': ['linear'],\n",
        "                'classifier__C': np.power(10., np.arange(-4, 3)).tolist(),\n",
        "                'classifier__class_weight': [None, 'balanced']}]"
      ]
    },
    {
      "cell_type": "code",
      "execution_count": null,
      "metadata": {
        "id": "qJxTPLl-h3Mt"
      },
      "outputs": [],
      "source": [
        "NESTED_CV_DIR = join(CLASSIFICATION_PLOTS_DIR, 'Nested CV')"
      ]
    },
    {
      "cell_type": "markdown",
      "metadata": {
        "id": "CU6FehJ5XoEE"
      },
      "source": [
        "Algorithms"
      ]
    },
    {
      "cell_type": "markdown",
      "metadata": {
        "id": "v6RvVeNpXrzK"
      },
      "source": [
        "Construct Param Grid Dictionary for all Algorithms"
      ]
    },
    {
      "cell_type": "code",
      "execution_count": null,
      "metadata": {
        "id": "m4-Fd7KpxI8B"
      },
      "outputs": [],
      "source": [
        "ALGO_SPECIFIC_HYPERPARAMETERS = {\n",
        "    LOGISTIC_REGRESSION_KEY: lr_params.copy(),\n",
        "    RANDOM_FOREST_KEY: rf_params.copy(),\n",
        "    DECISION_TREE_KEY: dt_params.copy(),\n",
        "    MULTINOMIAL_NAIVE_BAYES_KEY: mb_params.copy(),\n",
        "    K_NEAREST_NEIGHBORS_KEY: knn_params.copy(),\n",
        "    SUPPORT_VECTOR_MACHINE_KEY: svc_params.copy(),\n",
        "}"
      ]
    },
    {
      "cell_type": "code",
      "execution_count": null,
      "metadata": {
        "id": "v--sDH81-yJW"
      },
      "outputs": [],
      "source": [
        "from url_text_module import (\n",
        "    UNIGRAM_NAME,\n",
        "    BIGRAM_NAME,\n",
        "    TFIDF_NAME,\n",
        "    BERT_NAME,\n",
        "    STANDARD_SCALER_KEY,\n",
        "    FEATURIZATION_HYPERPARAM_KEY,\n",
        "    HYPERPARAMETERS_KEY,\n",
        "    NORMALIZER_TYPE_KEY,\n",
        "    N_PARAM_STR,\n",
        "    K_HIGHEST_PARAM_STR,\n",
        "    TF_NORMALIZE_PARAM_STR,\n",
        ")"
      ]
    },
    {
      "cell_type": "markdown",
      "metadata": {
        "id": "tAwU-6RyjMQL"
      },
      "source": [
        "Set up Vectorizers"
      ]
    },
    {
      "cell_type": "code",
      "execution_count": null,
      "metadata": {
        "id": "TFzZNfsu_YPv"
      },
      "outputs": [],
      "source": [
        "unigram_named_params = {\n",
        "    N_PARAM_STR: 1, \n",
        "    K_HIGHEST_PARAM_STR: None\n",
        "}\n",
        "\n",
        "bigram_named_params = {\n",
        "    N_PARAM_STR: 2, \n",
        "    K_HIGHEST_PARAM_STR: None\n",
        "}\n",
        "tfidf_named_params = {\n",
        "    N_PARAM_STR: 1, \n",
        "    K_HIGHEST_PARAM_STR: None,\n",
        "    TF_NORMALIZE_PARAM_STR: True\n",
        "}"
      ]
    },
    {
      "cell_type": "code",
      "execution_count": null,
      "metadata": {
        "id": "ueS-FcDF-7q6"
      },
      "outputs": [],
      "source": [
        "from url_text_module import (\n",
        "    FUGASHI_STR,\n",
        "    TOKENIZED_WITH_KEY,\n",
        "    STOPWORDS_KEY,\n",
        "    STOPWORDS_URL_KEY,\n",
        "    LEMMATIZE_KEY,\n",
        "    AUTO_MODEL_MASKED_ML_STR,\n",
        "    MODEL_BASE_TYPE_KEY,\n",
        "    MODEL_HF_HUB_NAME_KEY,\n",
        "    REVISION_HASH_KEY\n",
        ")"
      ]
    },
    {
      "cell_type": "markdown",
      "metadata": {
        "id": "xooyzraKMzyA"
      },
      "source": [
        "##### Featurization Metadata"
      ]
    },
    {
      "cell_type": "code",
      "execution_count": null,
      "metadata": {
        "id": "QDe0QWWnMy7g"
      },
      "outputs": [],
      "source": [
        "ngram_based_metadata = {\n",
        "    TOKENIZED_WITH_KEY: FUGASHI_STR,\n",
        "    STOPWORDS_KEY: {\n",
        "        STOPWORDS_URL_KEY: \"https://raw.githubusercontent.com/stopwords-iso/stopwords-ja/5a000f6a62f9e3a12f436f36d168e2fcd2fb1878/stopwords-ja.json\"\n",
        "    },\n",
        "    LEMMATIZE_KEY: True\n",
        "}\n",
        "FEATURIZATION_METADATA = {\n",
        "    UNIGRAM_NAME: ngram_based_metadata.copy(),\n",
        "    BIGRAM_NAME: ngram_based_metadata.copy(),\n",
        "    TFIDF_NAME: ngram_based_metadata.copy(),\n",
        "    BERT_NAME: {\n",
        "        MODEL_BASE_TYPE_KEY: AUTO_MODEL_MASKED_ML_STR,\n",
        "        MODEL_HF_HUB_NAME_KEY: \"cl-tohoku/bert-base-japanese-v2\",\n",
        "        REVISION_HASH_KEY: 'e4211d7c20b078ac29b022be35ae4b63f3fe1679'\n",
        "    }\n",
        "}"
      ]
    },
    {
      "cell_type": "code",
      "execution_count": null,
      "metadata": {
        "id": "yWJbkNbg_IXk"
      },
      "outputs": [],
      "source": [
        "from url_text_module import (\n",
        "    Featurization\n",
        ")"
      ]
    },
    {
      "cell_type": "code",
      "execution_count": null,
      "metadata": {
        "id": "aMuWq4b51Wnj"
      },
      "outputs": [],
      "source": [
        "GENERAL_EMBEDDING_OPTIONS = [\n",
        "  Featurization(UNIGRAM_NAME, unigram_named_params, FEATURIZATION_METADATA[UNIGRAM_NAME]), \n",
        "  Featurization(BIGRAM_NAME, bigram_named_params, FEATURIZATION_METADATA[BIGRAM_NAME]), \n",
        "  Featurization(TFIDF_NAME, tfidf_named_params, FEATURIZATION_METADATA[TFIDF_NAME]), \n",
        "  Featurization(BERT_NAME, None, FEATURIZATION_METADATA[BERT_NAME])\n",
        "]\n",
        "MB_EMBEDDINGS = [\n",
        "  Featurization(UNIGRAM_NAME, unigram_named_params, FEATURIZATION_METADATA[UNIGRAM_NAME]), \n",
        "  Featurization(BIGRAM_NAME, bigram_named_params, FEATURIZATION_METADATA[BIGRAM_NAME]), \n",
        "  Featurization(TFIDF_NAME, tfidf_named_params, FEATURIZATION_METADATA[TFIDF_NAME]),\n",
        "]"
      ]
    },
    {
      "cell_type": "code",
      "execution_count": null,
      "metadata": {
        "id": "EC3W558HaiBo"
      },
      "outputs": [],
      "source": [
        "ALGO_FEATURIZATIONS_HYPERPARAMETERS = {\n",
        "    LOGISTIC_REGRESSION_KEY: GENERAL_EMBEDDING_OPTIONS.copy(),\n",
        "    RANDOM_FOREST_KEY: GENERAL_EMBEDDING_OPTIONS.copy(),\n",
        "    DECISION_TREE_KEY: GENERAL_EMBEDDING_OPTIONS.copy(),\n",
        "    MULTINOMIAL_NAIVE_BAYES_KEY: MB_EMBEDDINGS.copy(),\n",
        "    K_NEAREST_NEIGHBORS_KEY: GENERAL_EMBEDDING_OPTIONS.copy(),\n",
        "    SUPPORT_VECTOR_MACHINE_KEY: GENERAL_EMBEDDING_OPTIONS.copy(),\n",
        "}"
      ]
    },
    {
      "cell_type": "code",
      "execution_count": null,
      "metadata": {
        "id": "NkEgMgcd6t1n"
      },
      "outputs": [],
      "source": [
        "featurization_data_map = {\n",
        "    UNIGRAM_NAME: training_docs,\n",
        "    BIGRAM_NAME: training_docs,\n",
        "    TFIDF_NAME: training_docs,\n",
        "    BERT_NAME: train_bert_embeddings,\n",
        "}"
      ]
    },
    {
      "cell_type": "code",
      "execution_count": null,
      "metadata": {
        "id": "dmXwGPXyblWN"
      },
      "outputs": [],
      "source": [
        "ALGO_INPUT_NORMALIZER = {\n",
        "    LOGISTIC_REGRESSION_KEY: STANDARD_SCALER_KEY,\n",
        "    RANDOM_FOREST_KEY: None,\n",
        "    DECISION_TREE_KEY: None,\n",
        "    MULTINOMIAL_NAIVE_BAYES_KEY: None,\n",
        "    K_NEAREST_NEIGHBORS_KEY: STANDARD_SCALER_KEY,\n",
        "    SUPPORT_VECTOR_MACHINE_KEY: STANDARD_SCALER_KEY,\n",
        "}"
      ]
    },
    {
      "cell_type": "markdown",
      "metadata": {
        "id": "mnCGIksOX2c7"
      },
      "source": [
        "Parameter Grids include both the algorithm-specific hyperparameters and the featurizations used"
      ]
    },
    {
      "cell_type": "code",
      "execution_count": null,
      "metadata": {
        "id": "60ibEuxvAiGq"
      },
      "outputs": [],
      "source": [
        "from url_text_module import create_multiple_algorithm_metadata_dict"
      ]
    },
    {
      "cell_type": "code",
      "execution_count": null,
      "metadata": {
        "id": "GfQ5ZE0zwgPl"
      },
      "outputs": [],
      "source": [
        "all_algos_metadata_dict = create_multiple_algorithm_metadata_dict(\n",
        "    ALGO_SPECIFIC_HYPERPARAMETERS,\n",
        "    ALGO_FEATURIZATIONS_HYPERPARAMETERS,\n",
        "    ALGO_INPUT_NORMALIZER\n",
        ")"
      ]
    },
    {
      "cell_type": "code",
      "execution_count": null,
      "metadata": {
        "id": "_7nev626BcSP"
      },
      "outputs": [],
      "source": [
        "from url_text_module import (\n",
        "    STRATIFIED_K_CV_NAME,\n",
        "    F2_NAME,\n",
        "    DEFAULT_N_JOBS\n",
        ")"
      ]
    },
    {
      "cell_type": "markdown",
      "metadata": {
        "id": "0RSgHKLN2uqf"
      },
      "source": [
        "#### Save Hyperparameters used for each Algorithm, including embeddings"
      ]
    },
    {
      "cell_type": "code",
      "execution_count": null,
      "metadata": {
        "id": "9ivwycoU6hoQ"
      },
      "outputs": [],
      "source": [
        "CV_TYPE = STRATIFIED_K_CV_NAME\n",
        "SHUFFLE = True\n",
        "N_JOBS = DEFAULT_N_JOBS\n",
        "OPTIMIZE_METRIC = F2_NAME\n",
        "OUTER_SPLITS_NUM = 5\n",
        "INNER_SPLITS_NUM = 5"
      ]
    },
    {
      "cell_type": "code",
      "execution_count": null,
      "metadata": {
        "id": "8L5UkK-dZkvk"
      },
      "outputs": [],
      "source": [
        "from url_text_module import (\n",
        "    NestedCVWithGridSearch,\n",
        "    SAVE_DIR_KEY,\n",
        "    SAVE_ALGO_METADATA_KEY,\n",
        "    SAVE_CV_METADATA_KEY,\n",
        ")"
      ]
    },
    {
      "cell_type": "markdown",
      "metadata": {
        "id": "txSODkojE5_W"
      },
      "source": [
        "# Perform Nested CV for Algorithm Selection"
      ]
    },
    {
      "cell_type": "code",
      "execution_count": null,
      "metadata": {
        "id": "s_6Ukj-fE-jZ"
      },
      "outputs": [],
      "source": [
        "nested_cv = NestedCVWithGridSearch(\n",
        "    CV_TYPE,\n",
        "    OUTER_SPLITS_NUM,\n",
        "    INNER_SPLITS_NUM,\n",
        "    OPTIMIZE_METRIC,\n",
        "    shuffle = SHUFFLE,\n",
        "    n_jobs = N_JOBS,\n",
        "    seed = SEED\n",
        ")"
      ]
    },
    {
      "cell_type": "code",
      "execution_count": null,
      "metadata": {
        "colab": {
          "base_uri": "https://localhost:8080/"
        },
        "id": "LnVwyLUBq9XK",
        "outputId": "84808fb4-79a3-4e6b-ff86-b9ea6563098b"
      },
      "outputs": [
        {
          "name": "stdout",
          "output_type": "stream",
          "text": [
            "-------------------------------------------------- \n",
            "\n",
            "Algorithm:  Logistic Regression\n",
            "\n",
            "Outer Split 0:\n",
            "    Inner Loop (Grid Search):\n",
            "\n",
            "\n",
            "Performing Grid Search with unigram featurization with Named Parameters {'n': 1, 'k_highest': None}...\n",
            "Performing Grid Search with bigram featurization with Named Parameters {'n': 2, 'k_highest': None}...\n",
            "Performing Grid Search with TF-IDF featurization with Named Parameters {'n': 1, 'k_highest': None, 'tf_normalize': True}...\n"
          ]
        },
        {
          "name": "stderr",
          "output_type": "stream",
          "text": [
            "/usr/local/lib/python3.7/dist-packages/sklearn/linear_model/_sag.py:329: ConvergenceWarning: The max_iter was reached which means the coef_ did not converge\n",
            "  \"the coef_ did not converge\", ConvergenceWarning)\n"
          ]
        },
        {
          "name": "stdout",
          "output_type": "stream",
          "text": [
            "Performing Grid Search with BERT featurization with Named Parameters None...\n",
            "\n",
            "Best Mean Test f2 Score for each featurization:\n",
            "\n",
            "Featurization_type: unigram / Named Parameters For Vectorizer: {'n': 1, 'k_highest': None}\n",
            "Score: 0.7707929096935888\n",
            "Featurization_type: bigram / Named Parameters For Vectorizer: {'n': 2, 'k_highest': None}\n",
            "Score: 0.7414812958988278\n",
            "Featurization_type: TF-IDF / Named Parameters For Vectorizer: {'n': 1, 'k_highest': None, 'tf_normalize': True}\n",
            "Score: 0.7918143206817134\n",
            "Featurization_type: BERT / Named Parameters For Vectorizer: None\n",
            "Score: 0.822858675034581\n",
            "\n",
            "Grid Search Results:\n",
            "\n",
            "    Best f2: (avg. of test folds) 82.29% / (std. of test folds) 10.03%\n",
            "    Best parameters: {'classifier__C': 0.1, 'classifier__class_weight': None, 'classifier__dual': True, 'classifier__solver': 'liblinear'}\n",
            "    Featurization_type: BERT / Named Parameters For Vectorizer: None\n",
            "\n",
            "\n",
            "Outer Split 0 Test Fold Performance:\n",
            "    f2: 82.28%\n",
            "\n",
            "Outer Split 1:\n",
            "    Inner Loop (Grid Search):\n",
            "\n",
            "\n",
            "Performing Grid Search with unigram featurization with Named Parameters {'n': 1, 'k_highest': None}...\n"
          ]
        },
        {
          "name": "stderr",
          "output_type": "stream",
          "text": [
            "/usr/local/lib/python3.7/dist-packages/sklearn/linear_model/_sag.py:329: ConvergenceWarning: The max_iter was reached which means the coef_ did not converge\n",
            "  \"the coef_ did not converge\", ConvergenceWarning)\n"
          ]
        },
        {
          "name": "stdout",
          "output_type": "stream",
          "text": [
            "Performing Grid Search with bigram featurization with Named Parameters {'n': 2, 'k_highest': None}...\n",
            "Performing Grid Search with TF-IDF featurization with Named Parameters {'n': 1, 'k_highest': None, 'tf_normalize': True}...\n",
            "Performing Grid Search with BERT featurization with Named Parameters None...\n"
          ]
        },
        {
          "name": "stderr",
          "output_type": "stream",
          "text": [
            "/usr/local/lib/python3.7/dist-packages/sklearn/linear_model/_sag.py:329: ConvergenceWarning: The max_iter was reached which means the coef_ did not converge\n",
            "  \"the coef_ did not converge\", ConvergenceWarning)\n"
          ]
        },
        {
          "name": "stdout",
          "output_type": "stream",
          "text": [
            "\n",
            "Best Mean Test f2 Score for each featurization:\n",
            "\n",
            "Featurization_type: unigram / Named Parameters For Vectorizer: {'n': 1, 'k_highest': None}\n",
            "Score: 0.7712482468443198\n",
            "Featurization_type: bigram / Named Parameters For Vectorizer: {'n': 2, 'k_highest': None}\n",
            "Score: 0.7237684081346424\n",
            "Featurization_type: TF-IDF / Named Parameters For Vectorizer: {'n': 1, 'k_highest': None, 'tf_normalize': True}\n",
            "Score: 0.7710221215351812\n",
            "Featurization_type: BERT / Named Parameters For Vectorizer: None\n",
            "Score: 0.8429691170289049\n",
            "\n",
            "Grid Search Results:\n",
            "\n",
            "    Best f2: (avg. of test folds) 84.30% / (std. of test folds) 3.30%\n",
            "    Best parameters: {'classifier__C': 1.0, 'classifier__class_weight': 'balanced', 'classifier__penalty': 'l2', 'classifier__solver': 'saga'}\n",
            "    Featurization_type: BERT / Named Parameters For Vectorizer: None\n",
            "\n",
            "\n",
            "Outer Split 1 Test Fold Performance:\n",
            "    f2: 82.35%\n",
            "\n",
            "Outer Split 2:\n",
            "    Inner Loop (Grid Search):\n",
            "\n",
            "\n",
            "Performing Grid Search with unigram featurization with Named Parameters {'n': 1, 'k_highest': None}...\n",
            "Performing Grid Search with bigram featurization with Named Parameters {'n': 2, 'k_highest': None}...\n",
            "Performing Grid Search with TF-IDF featurization with Named Parameters {'n': 1, 'k_highest': None, 'tf_normalize': True}...\n",
            "Performing Grid Search with BERT featurization with Named Parameters None...\n",
            "\n",
            "Best Mean Test f2 Score for each featurization:\n",
            "\n",
            "Featurization_type: unigram / Named Parameters For Vectorizer: {'n': 1, 'k_highest': None}\n",
            "Score: 0.7168401689033822\n",
            "Featurization_type: bigram / Named Parameters For Vectorizer: {'n': 2, 'k_highest': None}\n",
            "Score: 0.6461717853042479\n",
            "Featurization_type: TF-IDF / Named Parameters For Vectorizer: {'n': 1, 'k_highest': None, 'tf_normalize': True}\n",
            "Score: 0.725010739344184\n",
            "Featurization_type: BERT / Named Parameters For Vectorizer: None\n",
            "Score: 0.8627824961839048\n",
            "\n",
            "Grid Search Results:\n",
            "\n",
            "    Best f2: (avg. of test folds) 86.28% / (std. of test folds) 6.63%\n",
            "    Best parameters: {'classifier__C': 100.0, 'classifier__class_weight': 'balanced', 'classifier__penalty': 'l2', 'classifier__solver': 'liblinear'}\n",
            "    Featurization_type: BERT / Named Parameters For Vectorizer: None\n",
            "\n",
            "\n",
            "Outer Split 2 Test Fold Performance:\n",
            "    f2: 64.94%\n",
            "\n",
            "Outer Split 3:\n",
            "    Inner Loop (Grid Search):\n",
            "\n",
            "\n",
            "Performing Grid Search with unigram featurization with Named Parameters {'n': 1, 'k_highest': None}...\n",
            "Performing Grid Search with bigram featurization with Named Parameters {'n': 2, 'k_highest': None}...\n",
            "Performing Grid Search with TF-IDF featurization with Named Parameters {'n': 1, 'k_highest': None, 'tf_normalize': True}...\n",
            "Performing Grid Search with BERT featurization with Named Parameters None...\n",
            "\n",
            "Best Mean Test f2 Score for each featurization:\n",
            "\n",
            "Featurization_type: unigram / Named Parameters For Vectorizer: {'n': 1, 'k_highest': None}\n",
            "Score: 0.7012113275994819\n",
            "Featurization_type: bigram / Named Parameters For Vectorizer: {'n': 2, 'k_highest': None}\n",
            "Score: 0.6547154874196138\n",
            "Featurization_type: TF-IDF / Named Parameters For Vectorizer: {'n': 1, 'k_highest': None, 'tf_normalize': True}\n",
            "Score: 0.7215553582690171\n",
            "Featurization_type: BERT / Named Parameters For Vectorizer: None\n",
            "Score: 0.7974986480640277\n",
            "\n",
            "Grid Search Results:\n",
            "\n",
            "    Best f2: (avg. of test folds) 79.75% / (std. of test folds) 8.45%\n",
            "    Best parameters: {'classifier__C': 0.01, 'classifier__class_weight': None, 'classifier__dual': True, 'classifier__solver': 'liblinear'}\n",
            "    Featurization_type: BERT / Named Parameters For Vectorizer: None\n",
            "\n",
            "\n",
            "Outer Split 3 Test Fold Performance:\n",
            "    f2: 91.46%\n",
            "\n",
            "Outer Split 4:\n",
            "    Inner Loop (Grid Search):\n",
            "\n",
            "\n",
            "Performing Grid Search with unigram featurization with Named Parameters {'n': 1, 'k_highest': None}...\n"
          ]
        },
        {
          "name": "stderr",
          "output_type": "stream",
          "text": [
            "/usr/local/lib/python3.7/dist-packages/sklearn/linear_model/_sag.py:329: ConvergenceWarning: The max_iter was reached which means the coef_ did not converge\n",
            "  \"the coef_ did not converge\", ConvergenceWarning)\n"
          ]
        },
        {
          "name": "stdout",
          "output_type": "stream",
          "text": [
            "Performing Grid Search with bigram featurization with Named Parameters {'n': 2, 'k_highest': None}...\n",
            "Performing Grid Search with TF-IDF featurization with Named Parameters {'n': 1, 'k_highest': None, 'tf_normalize': True}...\n"
          ]
        },
        {
          "name": "stderr",
          "output_type": "stream",
          "text": [
            "/usr/local/lib/python3.7/dist-packages/sklearn/linear_model/_sag.py:329: ConvergenceWarning: The max_iter was reached which means the coef_ did not converge\n",
            "  \"the coef_ did not converge\", ConvergenceWarning)\n"
          ]
        },
        {
          "name": "stdout",
          "output_type": "stream",
          "text": [
            "Performing Grid Search with BERT featurization with Named Parameters None...\n",
            "\n",
            "Best Mean Test f2 Score for each featurization:\n",
            "\n",
            "Featurization_type: unigram / Named Parameters For Vectorizer: {'n': 1, 'k_highest': None}\n",
            "Score: 0.7822798931128252\n",
            "Featurization_type: bigram / Named Parameters For Vectorizer: {'n': 2, 'k_highest': None}\n",
            "Score: 0.6661616692465968\n",
            "Featurization_type: TF-IDF / Named Parameters For Vectorizer: {'n': 1, 'k_highest': None, 'tf_normalize': True}\n",
            "Score: 0.781567232248608\n",
            "Featurization_type: BERT / Named Parameters For Vectorizer: None\n",
            "Score: 0.8278308135583894\n",
            "\n",
            "Grid Search Results:\n",
            "\n",
            "    Best f2: (avg. of test folds) 82.78% / (std. of test folds) 5.16%\n",
            "    Best parameters: {'classifier__C': 0.1, 'classifier__class_weight': None, 'classifier__dual': True, 'classifier__solver': 'liblinear'}\n",
            "    Featurization_type: BERT / Named Parameters For Vectorizer: None\n",
            "\n",
            "\n",
            "Outer Split 4 Test Fold Performance:\n",
            "    f2: 81.08%\n",
            "\n",
            "Outer Loop:\n",
            "    f2 80.42% +/- 8.59\n",
            "-------------------------------------------------- \n",
            "\n",
            "Algorithm:  Random Forest\n",
            "\n",
            "Outer Split 0:\n",
            "    Inner Loop (Grid Search):\n",
            "\n",
            "\n",
            "Performing Grid Search with unigram featurization with Named Parameters {'n': 1, 'k_highest': None}...\n",
            "Performing Grid Search with bigram featurization with Named Parameters {'n': 2, 'k_highest': None}...\n",
            "Performing Grid Search with TF-IDF featurization with Named Parameters {'n': 1, 'k_highest': None, 'tf_normalize': True}...\n",
            "Performing Grid Search with BERT featurization with Named Parameters None...\n",
            "\n",
            "Best Mean Test f2 Score for each featurization:\n",
            "\n",
            "Featurization_type: unigram / Named Parameters For Vectorizer: {'n': 1, 'k_highest': None}\n",
            "Score: 0.6726489028213167\n",
            "Featurization_type: bigram / Named Parameters For Vectorizer: {'n': 2, 'k_highest': None}\n",
            "Score: 0.40577703229833056\n",
            "Featurization_type: TF-IDF / Named Parameters For Vectorizer: {'n': 1, 'k_highest': None, 'tf_normalize': True}\n",
            "Score: 0.6605195447242165\n",
            "Featurization_type: BERT / Named Parameters For Vectorizer: None\n",
            "Score: 0.5302584615154137\n",
            "\n",
            "Grid Search Results:\n",
            "\n",
            "    Best f2: (avg. of test folds) 67.26% / (std. of test folds) 5.63%\n",
            "    Best parameters: {'classifier__class_weight': 'balanced', 'classifier__max_depth': 5, 'classifier__n_estimators': 500}\n",
            "    Featurization_type: unigram / Named Parameters For Vectorizer: {'n': 1, 'k_highest': None}\n",
            "\n",
            "\n",
            "Outer Split 0 Test Fold Performance:\n",
            "    f2: 35.71%\n",
            "\n",
            "Outer Split 1:\n",
            "    Inner Loop (Grid Search):\n",
            "\n",
            "\n",
            "Performing Grid Search with unigram featurization with Named Parameters {'n': 1, 'k_highest': None}...\n",
            "Performing Grid Search with bigram featurization with Named Parameters {'n': 2, 'k_highest': None}...\n",
            "Performing Grid Search with TF-IDF featurization with Named Parameters {'n': 1, 'k_highest': None, 'tf_normalize': True}...\n",
            "Performing Grid Search with BERT featurization with Named Parameters None...\n",
            "\n",
            "Best Mean Test f2 Score for each featurization:\n",
            "\n",
            "Featurization_type: unigram / Named Parameters For Vectorizer: {'n': 1, 'k_highest': None}\n",
            "Score: 0.6083563115118092\n",
            "Featurization_type: bigram / Named Parameters For Vectorizer: {'n': 2, 'k_highest': None}\n",
            "Score: 0.3086442098206804\n",
            "Featurization_type: TF-IDF / Named Parameters For Vectorizer: {'n': 1, 'k_highest': None, 'tf_normalize': True}\n",
            "Score: 0.607968727620045\n",
            "Featurization_type: BERT / Named Parameters For Vectorizer: None\n",
            "Score: 0.4986036137351927\n",
            "\n",
            "Grid Search Results:\n",
            "\n",
            "    Best f2: (avg. of test folds) 60.84% / (std. of test folds) 15.45%\n",
            "    Best parameters: {'classifier__class_weight': 'balanced', 'classifier__max_depth': 5, 'classifier__n_estimators': 100}\n",
            "    Featurization_type: unigram / Named Parameters For Vectorizer: {'n': 1, 'k_highest': None}\n",
            "\n",
            "\n",
            "Outer Split 1 Test Fold Performance:\n",
            "    f2: 56.96%\n",
            "\n",
            "Outer Split 2:\n",
            "    Inner Loop (Grid Search):\n",
            "\n",
            "\n",
            "Performing Grid Search with unigram featurization with Named Parameters {'n': 1, 'k_highest': None}...\n",
            "Performing Grid Search with bigram featurization with Named Parameters {'n': 2, 'k_highest': None}...\n",
            "Performing Grid Search with TF-IDF featurization with Named Parameters {'n': 1, 'k_highest': None, 'tf_normalize': True}...\n",
            "Performing Grid Search with BERT featurization with Named Parameters None...\n",
            "\n",
            "Best Mean Test f2 Score for each featurization:\n",
            "\n",
            "Featurization_type: unigram / Named Parameters For Vectorizer: {'n': 1, 'k_highest': None}\n",
            "Score: 0.6055710552143181\n",
            "Featurization_type: bigram / Named Parameters For Vectorizer: {'n': 2, 'k_highest': None}\n",
            "Score: 0.3235004618023486\n",
            "Featurization_type: TF-IDF / Named Parameters For Vectorizer: {'n': 1, 'k_highest': None, 'tf_normalize': True}\n",
            "Score: 0.5916624551760655\n",
            "Featurization_type: BERT / Named Parameters For Vectorizer: None\n",
            "Score: 0.5169315499531748\n",
            "\n",
            "Grid Search Results:\n",
            "\n",
            "    Best f2: (avg. of test folds) 60.56% / (std. of test folds) 15.18%\n",
            "    Best parameters: {'classifier__class_weight': 'balanced', 'classifier__max_depth': 5, 'classifier__n_estimators': 100}\n",
            "    Featurization_type: unigram / Named Parameters For Vectorizer: {'n': 1, 'k_highest': None}\n",
            "\n",
            "\n",
            "Outer Split 2 Test Fold Performance:\n",
            "    f2: 63.38%\n",
            "\n",
            "Outer Split 3:\n",
            "    Inner Loop (Grid Search):\n",
            "\n",
            "\n",
            "Performing Grid Search with unigram featurization with Named Parameters {'n': 1, 'k_highest': None}...\n",
            "Performing Grid Search with bigram featurization with Named Parameters {'n': 2, 'k_highest': None}...\n",
            "Performing Grid Search with TF-IDF featurization with Named Parameters {'n': 1, 'k_highest': None, 'tf_normalize': True}...\n",
            "Performing Grid Search with BERT featurization with Named Parameters None...\n",
            "\n",
            "Best Mean Test f2 Score for each featurization:\n",
            "\n",
            "Featurization_type: unigram / Named Parameters For Vectorizer: {'n': 1, 'k_highest': None}\n",
            "Score: 0.5373403849818944\n",
            "Featurization_type: bigram / Named Parameters For Vectorizer: {'n': 2, 'k_highest': None}\n",
            "Score: 0.3763823351482154\n",
            "Featurization_type: TF-IDF / Named Parameters For Vectorizer: {'n': 1, 'k_highest': None, 'tf_normalize': True}\n",
            "Score: 0.5299756542909313\n",
            "Featurization_type: BERT / Named Parameters For Vectorizer: None\n",
            "Score: 0.48005063599437464\n",
            "\n",
            "Grid Search Results:\n",
            "\n",
            "    Best f2: (avg. of test folds) 53.73% / (std. of test folds) 8.46%\n",
            "    Best parameters: {'classifier__class_weight': 'balanced', 'classifier__max_depth': 5, 'classifier__n_estimators': 100}\n",
            "    Featurization_type: unigram / Named Parameters For Vectorizer: {'n': 1, 'k_highest': None}\n",
            "\n",
            "\n",
            "Outer Split 3 Test Fold Performance:\n",
            "    f2: 76.39%\n",
            "\n",
            "Outer Split 4:\n",
            "    Inner Loop (Grid Search):\n",
            "\n",
            "\n",
            "Performing Grid Search with unigram featurization with Named Parameters {'n': 1, 'k_highest': None}...\n",
            "Performing Grid Search with bigram featurization with Named Parameters {'n': 2, 'k_highest': None}...\n",
            "Performing Grid Search with TF-IDF featurization with Named Parameters {'n': 1, 'k_highest': None, 'tf_normalize': True}...\n",
            "Performing Grid Search with BERT featurization with Named Parameters None...\n",
            "\n",
            "Best Mean Test f2 Score for each featurization:\n",
            "\n",
            "Featurization_type: unigram / Named Parameters For Vectorizer: {'n': 1, 'k_highest': None}\n",
            "Score: 0.6286907181819512\n",
            "Featurization_type: bigram / Named Parameters For Vectorizer: {'n': 2, 'k_highest': None}\n",
            "Score: 0.4046632573766168\n",
            "Featurization_type: TF-IDF / Named Parameters For Vectorizer: {'n': 1, 'k_highest': None, 'tf_normalize': True}\n",
            "Score: 0.6345571950623061\n",
            "Featurization_type: BERT / Named Parameters For Vectorizer: None\n",
            "Score: 0.48107889917100444\n",
            "\n",
            "Grid Search Results:\n",
            "\n",
            "    Best f2: (avg. of test folds) 63.46% / (std. of test folds) 11.88%\n",
            "    Best parameters: {'classifier__class_weight': 'balanced', 'classifier__max_depth': 5, 'classifier__n_estimators': 10}\n",
            "    Featurization_type: TF-IDF / Named Parameters For Vectorizer: {'n': 1, 'k_highest': None, 'tf_normalize': True}\n",
            "\n",
            "\n",
            "Outer Split 4 Test Fold Performance:\n",
            "    f2: 61.64%\n",
            "\n",
            "Outer Loop:\n",
            "    f2 58.82% +/- 13.23\n",
            "-------------------------------------------------- \n",
            "\n",
            "Algorithm:  Decision Tree\n",
            "\n",
            "Outer Split 0:\n",
            "    Inner Loop (Grid Search):\n",
            "\n",
            "\n",
            "Performing Grid Search with unigram featurization with Named Parameters {'n': 1, 'k_highest': None}...\n",
            "Performing Grid Search with bigram featurization with Named Parameters {'n': 2, 'k_highest': None}...\n",
            "Performing Grid Search with TF-IDF featurization with Named Parameters {'n': 1, 'k_highest': None, 'tf_normalize': True}...\n",
            "Performing Grid Search with BERT featurization with Named Parameters None...\n",
            "\n",
            "Best Mean Test f2 Score for each featurization:\n",
            "\n",
            "Featurization_type: unigram / Named Parameters For Vectorizer: {'n': 1, 'k_highest': None}\n",
            "Score: 0.6812248011332679\n",
            "Featurization_type: bigram / Named Parameters For Vectorizer: {'n': 2, 'k_highest': None}\n",
            "Score: 0.5522413329251435\n",
            "Featurization_type: TF-IDF / Named Parameters For Vectorizer: {'n': 1, 'k_highest': None, 'tf_normalize': True}\n",
            "Score: 0.642967562769806\n",
            "Featurization_type: BERT / Named Parameters For Vectorizer: None\n",
            "Score: 0.6041549953314659\n",
            "\n",
            "Grid Search Results:\n",
            "\n",
            "    Best f2: (avg. of test folds) 68.12% / (std. of test folds) 8.85%\n",
            "    Best parameters: {'classifier__class_weight': None, 'classifier__criterion': 'gini', 'classifier__max_depth': 20, 'classifier__min_samples_split': 10}\n",
            "    Featurization_type: unigram / Named Parameters For Vectorizer: {'n': 1, 'k_highest': None}\n",
            "\n",
            "\n",
            "Outer Split 0 Test Fold Performance:\n",
            "    f2: 54.05%\n",
            "\n",
            "Outer Split 1:\n",
            "    Inner Loop (Grid Search):\n",
            "\n",
            "\n",
            "Performing Grid Search with unigram featurization with Named Parameters {'n': 1, 'k_highest': None}...\n",
            "Performing Grid Search with bigram featurization with Named Parameters {'n': 2, 'k_highest': None}...\n",
            "Performing Grid Search with TF-IDF featurization with Named Parameters {'n': 1, 'k_highest': None, 'tf_normalize': True}...\n",
            "Performing Grid Search with BERT featurization with Named Parameters None...\n",
            "\n",
            "Best Mean Test f2 Score for each featurization:\n",
            "\n",
            "Featurization_type: unigram / Named Parameters For Vectorizer: {'n': 1, 'k_highest': None}\n",
            "Score: 0.6579214712420116\n",
            "Featurization_type: bigram / Named Parameters For Vectorizer: {'n': 2, 'k_highest': None}\n",
            "Score: 0.5437912964228753\n",
            "Featurization_type: TF-IDF / Named Parameters For Vectorizer: {'n': 1, 'k_highest': None, 'tf_normalize': True}\n",
            "Score: 0.6456040669856459\n",
            "Featurization_type: BERT / Named Parameters For Vectorizer: None\n",
            "Score: 0.6163954119197086\n",
            "\n",
            "Grid Search Results:\n",
            "\n",
            "    Best f2: (avg. of test folds) 65.79% / (std. of test folds) 9.66%\n",
            "    Best parameters: {'classifier__class_weight': 'balanced', 'classifier__criterion': 'gini', 'classifier__max_depth': 20, 'classifier__min_samples_split': 5}\n",
            "    Featurization_type: unigram / Named Parameters For Vectorizer: {'n': 1, 'k_highest': None}\n",
            "\n",
            "\n",
            "Outer Split 1 Test Fold Performance:\n",
            "    f2: 67.90%\n",
            "\n",
            "Outer Split 2:\n",
            "    Inner Loop (Grid Search):\n",
            "\n",
            "\n",
            "Performing Grid Search with unigram featurization with Named Parameters {'n': 1, 'k_highest': None}...\n",
            "Performing Grid Search with bigram featurization with Named Parameters {'n': 2, 'k_highest': None}...\n",
            "Performing Grid Search with TF-IDF featurization with Named Parameters {'n': 1, 'k_highest': None, 'tf_normalize': True}...\n",
            "Performing Grid Search with BERT featurization with Named Parameters None...\n",
            "\n",
            "Best Mean Test f2 Score for each featurization:\n",
            "\n",
            "Featurization_type: unigram / Named Parameters For Vectorizer: {'n': 1, 'k_highest': None}\n",
            "Score: 0.636655144723308\n",
            "Featurization_type: bigram / Named Parameters For Vectorizer: {'n': 2, 'k_highest': None}\n",
            "Score: 0.5325377139212503\n",
            "Featurization_type: TF-IDF / Named Parameters For Vectorizer: {'n': 1, 'k_highest': None, 'tf_normalize': True}\n",
            "Score: 0.584313524590164\n",
            "Featurization_type: BERT / Named Parameters For Vectorizer: None\n",
            "Score: 0.6497717075433436\n",
            "\n",
            "Grid Search Results:\n",
            "\n",
            "    Best f2: (avg. of test folds) 64.98% / (std. of test folds) 9.27%\n",
            "    Best parameters: {'classifier__class_weight': 'balanced', 'classifier__criterion': 'entropy', 'classifier__max_depth': 5, 'classifier__min_samples_split': 2}\n",
            "    Featurization_type: BERT / Named Parameters For Vectorizer: None\n",
            "\n",
            "\n",
            "Outer Split 2 Test Fold Performance:\n",
            "    f2: 56.25%\n",
            "\n",
            "Outer Split 3:\n",
            "    Inner Loop (Grid Search):\n",
            "\n",
            "\n",
            "Performing Grid Search with unigram featurization with Named Parameters {'n': 1, 'k_highest': None}...\n",
            "Performing Grid Search with bigram featurization with Named Parameters {'n': 2, 'k_highest': None}...\n",
            "Performing Grid Search with TF-IDF featurization with Named Parameters {'n': 1, 'k_highest': None, 'tf_normalize': True}...\n",
            "Performing Grid Search with BERT featurization with Named Parameters None...\n",
            "\n",
            "Best Mean Test f2 Score for each featurization:\n",
            "\n",
            "Featurization_type: unigram / Named Parameters For Vectorizer: {'n': 1, 'k_highest': None}\n",
            "Score: 0.6179361518938945\n",
            "Featurization_type: bigram / Named Parameters For Vectorizer: {'n': 2, 'k_highest': None}\n",
            "Score: 0.5792302391058272\n",
            "Featurization_type: TF-IDF / Named Parameters For Vectorizer: {'n': 1, 'k_highest': None, 'tf_normalize': True}\n",
            "Score: 0.557328216374269\n",
            "Featurization_type: BERT / Named Parameters For Vectorizer: None\n",
            "Score: 0.5842329602719813\n",
            "\n",
            "Grid Search Results:\n",
            "\n",
            "    Best f2: (avg. of test folds) 61.79% / (std. of test folds) 11.37%\n",
            "    Best parameters: {'classifier__class_weight': 'balanced', 'classifier__criterion': 'gini', 'classifier__max_depth': 20, 'classifier__min_samples_split': 10}\n",
            "    Featurization_type: unigram / Named Parameters For Vectorizer: {'n': 1, 'k_highest': None}\n",
            "\n",
            "\n",
            "Outer Split 3 Test Fold Performance:\n",
            "    f2: 90.91%\n",
            "\n",
            "Outer Split 4:\n",
            "    Inner Loop (Grid Search):\n",
            "\n",
            "\n",
            "Performing Grid Search with unigram featurization with Named Parameters {'n': 1, 'k_highest': None}...\n",
            "Performing Grid Search with bigram featurization with Named Parameters {'n': 2, 'k_highest': None}...\n",
            "Performing Grid Search with TF-IDF featurization with Named Parameters {'n': 1, 'k_highest': None, 'tf_normalize': True}...\n",
            "Performing Grid Search with BERT featurization with Named Parameters None...\n",
            "\n",
            "Best Mean Test f2 Score for each featurization:\n",
            "\n",
            "Featurization_type: unigram / Named Parameters For Vectorizer: {'n': 1, 'k_highest': None}\n",
            "Score: 0.7054016159279317\n",
            "Featurization_type: bigram / Named Parameters For Vectorizer: {'n': 2, 'k_highest': None}\n",
            "Score: 0.5693099273607749\n",
            "Featurization_type: TF-IDF / Named Parameters For Vectorizer: {'n': 1, 'k_highest': None, 'tf_normalize': True}\n",
            "Score: 0.6458833312281589\n",
            "Featurization_type: BERT / Named Parameters For Vectorizer: None\n",
            "Score: 0.6485090992504717\n",
            "\n",
            "Grid Search Results:\n",
            "\n",
            "    Best f2: (avg. of test folds) 70.54% / (std. of test folds) 15.70%\n",
            "    Best parameters: {'classifier__class_weight': 'balanced', 'classifier__criterion': 'gini', 'classifier__max_depth': 20, 'classifier__min_samples_split': 2}\n",
            "    Featurization_type: unigram / Named Parameters For Vectorizer: {'n': 1, 'k_highest': None}\n",
            "\n",
            "\n",
            "Outer Split 4 Test Fold Performance:\n",
            "    f2: 63.38%\n",
            "\n",
            "Outer Loop:\n",
            "    f2 66.50% +/- 13.17\n",
            "-------------------------------------------------- \n",
            "\n",
            "Algorithm:  Multinomial Naive Bayes\n",
            "\n",
            "Outer Split 0:\n",
            "    Inner Loop (Grid Search):\n",
            "\n",
            "\n",
            "Performing Grid Search with unigram featurization with Named Parameters {'n': 1, 'k_highest': None}...\n",
            "Performing Grid Search with bigram featurization with Named Parameters {'n': 2, 'k_highest': None}...\n",
            "Performing Grid Search with TF-IDF featurization with Named Parameters {'n': 1, 'k_highest': None, 'tf_normalize': True}...\n",
            "\n",
            "Best Mean Test f2 Score for each featurization:\n",
            "\n",
            "Featurization_type: unigram / Named Parameters For Vectorizer: {'n': 1, 'k_highest': None}\n",
            "Score: 0.7685363921641837\n",
            "Featurization_type: bigram / Named Parameters For Vectorizer: {'n': 2, 'k_highest': None}\n",
            "Score: 0.6794805785162301\n",
            "Featurization_type: TF-IDF / Named Parameters For Vectorizer: {'n': 1, 'k_highest': None, 'tf_normalize': True}\n",
            "Score: 0.26679902730322896\n",
            "\n",
            "Grid Search Results:\n",
            "\n",
            "    Best f2: (avg. of test folds) 76.85% / (std. of test folds) 12.25%\n",
            "    Best parameters: {'classifier__alpha': 1}\n",
            "    Featurization_type: unigram / Named Parameters For Vectorizer: {'n': 1, 'k_highest': None}\n",
            "\n",
            "\n",
            "Outer Split 0 Test Fold Performance:\n",
            "    f2: 69.44%\n",
            "\n",
            "Outer Split 1:\n",
            "    Inner Loop (Grid Search):\n",
            "\n",
            "\n",
            "Performing Grid Search with unigram featurization with Named Parameters {'n': 1, 'k_highest': None}...\n",
            "Performing Grid Search with bigram featurization with Named Parameters {'n': 2, 'k_highest': None}...\n",
            "Performing Grid Search with TF-IDF featurization with Named Parameters {'n': 1, 'k_highest': None, 'tf_normalize': True}...\n",
            "\n",
            "Best Mean Test f2 Score for each featurization:\n",
            "\n",
            "Featurization_type: unigram / Named Parameters For Vectorizer: {'n': 1, 'k_highest': None}\n",
            "Score: 0.6887578795473532\n",
            "Featurization_type: bigram / Named Parameters For Vectorizer: {'n': 2, 'k_highest': None}\n",
            "Score: 0.6005847953216374\n",
            "Featurization_type: TF-IDF / Named Parameters For Vectorizer: {'n': 1, 'k_highest': None, 'tf_normalize': True}\n",
            "Score: 0.25357131531858024\n",
            "\n",
            "Grid Search Results:\n",
            "\n",
            "    Best f2: (avg. of test folds) 68.88% / (std. of test folds) 14.37%\n",
            "    Best parameters: {'classifier__alpha': 1}\n",
            "    Featurization_type: unigram / Named Parameters For Vectorizer: {'n': 1, 'k_highest': None}\n",
            "\n",
            "\n",
            "Outer Split 1 Test Fold Performance:\n",
            "    f2: 80.25%\n",
            "\n",
            "Outer Split 2:\n",
            "    Inner Loop (Grid Search):\n",
            "\n",
            "\n",
            "Performing Grid Search with unigram featurization with Named Parameters {'n': 1, 'k_highest': None}...\n",
            "Performing Grid Search with bigram featurization with Named Parameters {'n': 2, 'k_highest': None}...\n",
            "Performing Grid Search with TF-IDF featurization with Named Parameters {'n': 1, 'k_highest': None, 'tf_normalize': True}...\n",
            "\n",
            "Best Mean Test f2 Score for each featurization:\n",
            "\n",
            "Featurization_type: unigram / Named Parameters For Vectorizer: {'n': 1, 'k_highest': None}\n",
            "Score: 0.680197541645166\n",
            "Featurization_type: bigram / Named Parameters For Vectorizer: {'n': 2, 'k_highest': None}\n",
            "Score: 0.5889522757943811\n",
            "Featurization_type: TF-IDF / Named Parameters For Vectorizer: {'n': 1, 'k_highest': None, 'tf_normalize': True}\n",
            "Score: 0.2889541535046529\n",
            "\n",
            "Grid Search Results:\n",
            "\n",
            "    Best f2: (avg. of test folds) 68.02% / (std. of test folds) 15.79%\n",
            "    Best parameters: {'classifier__alpha': 1}\n",
            "    Featurization_type: unigram / Named Parameters For Vectorizer: {'n': 1, 'k_highest': None}\n",
            "\n",
            "\n",
            "Outer Split 2 Test Fold Performance:\n",
            "    f2: 73.33%\n",
            "\n",
            "Outer Split 3:\n",
            "    Inner Loop (Grid Search):\n",
            "\n",
            "\n",
            "Performing Grid Search with unigram featurization with Named Parameters {'n': 1, 'k_highest': None}...\n",
            "Performing Grid Search with bigram featurization with Named Parameters {'n': 2, 'k_highest': None}...\n",
            "Performing Grid Search with TF-IDF featurization with Named Parameters {'n': 1, 'k_highest': None, 'tf_normalize': True}...\n",
            "\n",
            "Best Mean Test f2 Score for each featurization:\n",
            "\n",
            "Featurization_type: unigram / Named Parameters For Vectorizer: {'n': 1, 'k_highest': None}\n",
            "Score: 0.6568135517525019\n",
            "Featurization_type: bigram / Named Parameters For Vectorizer: {'n': 2, 'k_highest': None}\n",
            "Score: 0.553020482240083\n",
            "Featurization_type: TF-IDF / Named Parameters For Vectorizer: {'n': 1, 'k_highest': None, 'tf_normalize': True}\n",
            "Score: 0.2304253159239682\n",
            "\n",
            "Grid Search Results:\n",
            "\n",
            "    Best f2: (avg. of test folds) 65.68% / (std. of test folds) 3.30%\n",
            "    Best parameters: {'classifier__alpha': 1}\n",
            "    Featurization_type: unigram / Named Parameters For Vectorizer: {'n': 1, 'k_highest': None}\n",
            "\n",
            "\n",
            "Outer Split 3 Test Fold Performance:\n",
            "    f2: 82.19%\n",
            "\n",
            "Outer Split 4:\n",
            "    Inner Loop (Grid Search):\n",
            "\n",
            "\n",
            "Performing Grid Search with unigram featurization with Named Parameters {'n': 1, 'k_highest': None}...\n",
            "Performing Grid Search with bigram featurization with Named Parameters {'n': 2, 'k_highest': None}...\n",
            "Performing Grid Search with TF-IDF featurization with Named Parameters {'n': 1, 'k_highest': None, 'tf_normalize': True}...\n",
            "\n",
            "Best Mean Test f2 Score for each featurization:\n",
            "\n",
            "Featurization_type: unigram / Named Parameters For Vectorizer: {'n': 1, 'k_highest': None}\n",
            "Score: 0.7461473530737724\n",
            "Featurization_type: bigram / Named Parameters For Vectorizer: {'n': 2, 'k_highest': None}\n",
            "Score: 0.6194340122129349\n",
            "Featurization_type: TF-IDF / Named Parameters For Vectorizer: {'n': 1, 'k_highest': None, 'tf_normalize': True}\n",
            "Score: 0.19066026410564224\n",
            "\n",
            "Grid Search Results:\n",
            "\n",
            "    Best f2: (avg. of test folds) 74.61% / (std. of test folds) 14.26%\n",
            "    Best parameters: {'classifier__alpha': 1}\n",
            "    Featurization_type: unigram / Named Parameters For Vectorizer: {'n': 1, 'k_highest': None}\n",
            "\n",
            "\n",
            "Outer Split 4 Test Fold Performance:\n",
            "    f2: 75.34%\n",
            "\n",
            "Outer Loop:\n",
            "    f2 76.11% +/- 4.62\n",
            "-------------------------------------------------- \n",
            "\n",
            "Algorithm:  K-Nearest Neighbors\n",
            "\n",
            "Outer Split 0:\n",
            "    Inner Loop (Grid Search):\n",
            "\n",
            "\n",
            "Performing Grid Search with unigram featurization with Named Parameters {'n': 1, 'k_highest': None}...\n",
            "Performing Grid Search with bigram featurization with Named Parameters {'n': 2, 'k_highest': None}...\n",
            "Performing Grid Search with TF-IDF featurization with Named Parameters {'n': 1, 'k_highest': None, 'tf_normalize': True}...\n",
            "Performing Grid Search with BERT featurization with Named Parameters None...\n",
            "\n",
            "Best Mean Test f2 Score for each featurization:\n",
            "\n",
            "Featurization_type: unigram / Named Parameters For Vectorizer: {'n': 1, 'k_highest': None}\n",
            "Score: 0.2877086065987287\n",
            "Featurization_type: bigram / Named Parameters For Vectorizer: {'n': 2, 'k_highest': None}\n",
            "Score: 0.020408163265306124\n",
            "Featurization_type: TF-IDF / Named Parameters For Vectorizer: {'n': 1, 'k_highest': None, 'tf_normalize': True}\n",
            "Score: 0.2451600849983599\n",
            "Featurization_type: BERT / Named Parameters For Vectorizer: None\n",
            "Score: 0.5723104601651016\n",
            "\n",
            "Grid Search Results:\n",
            "\n",
            "    Best f2: (avg. of test folds) 57.23% / (std. of test folds) 11.44%\n",
            "    Best parameters: {'classifier__algorithm': 'ball_tree', 'classifier__leaf_size': 50, 'classifier__n_neighbors': 3, 'classifier__p': 1}\n",
            "    Featurization_type: BERT / Named Parameters For Vectorizer: None\n",
            "\n",
            "\n",
            "Outer Split 0 Test Fold Performance:\n",
            "    f2: 47.95%\n",
            "\n",
            "Outer Split 1:\n",
            "    Inner Loop (Grid Search):\n",
            "\n",
            "\n",
            "Performing Grid Search with unigram featurization with Named Parameters {'n': 1, 'k_highest': None}...\n",
            "Performing Grid Search with bigram featurization with Named Parameters {'n': 2, 'k_highest': None}...\n",
            "Performing Grid Search with TF-IDF featurization with Named Parameters {'n': 1, 'k_highest': None, 'tf_normalize': True}...\n",
            "Performing Grid Search with BERT featurization with Named Parameters None...\n",
            "\n",
            "Best Mean Test f2 Score for each featurization:\n",
            "\n",
            "Featurization_type: unigram / Named Parameters For Vectorizer: {'n': 1, 'k_highest': None}\n",
            "Score: 0.10122448979591836\n",
            "Featurization_type: bigram / Named Parameters For Vectorizer: {'n': 2, 'k_highest': None}\n",
            "Score: 0.0\n",
            "Featurization_type: TF-IDF / Named Parameters For Vectorizer: {'n': 1, 'k_highest': None, 'tf_normalize': True}\n",
            "Score: 0.0816326530612245\n",
            "Featurization_type: BERT / Named Parameters For Vectorizer: None\n",
            "Score: 0.572931370572024\n",
            "\n",
            "Grid Search Results:\n",
            "\n",
            "    Best f2: (avg. of test folds) 57.29% / (std. of test folds) 14.22%\n",
            "    Best parameters: {'classifier__algorithm': 'ball_tree', 'classifier__leaf_size': 50, 'classifier__n_neighbors': 5, 'classifier__p': 1}\n",
            "    Featurization_type: BERT / Named Parameters For Vectorizer: None\n",
            "\n",
            "\n",
            "Outer Split 1 Test Fold Performance:\n",
            "    f2: 44.87%\n",
            "\n",
            "Outer Split 2:\n",
            "    Inner Loop (Grid Search):\n",
            "\n",
            "\n",
            "Performing Grid Search with unigram featurization with Named Parameters {'n': 1, 'k_highest': None}...\n",
            "Performing Grid Search with bigram featurization with Named Parameters {'n': 2, 'k_highest': None}...\n",
            "Performing Grid Search with TF-IDF featurization with Named Parameters {'n': 1, 'k_highest': None, 'tf_normalize': True}...\n",
            "Performing Grid Search with BERT featurization with Named Parameters None...\n",
            "\n",
            "Best Mean Test f2 Score for each featurization:\n",
            "\n",
            "Featurization_type: unigram / Named Parameters For Vectorizer: {'n': 1, 'k_highest': None}\n",
            "Score: 0.13137665967854648\n",
            "Featurization_type: bigram / Named Parameters For Vectorizer: {'n': 2, 'k_highest': None}\n",
            "Score: 0.0\n",
            "Featurization_type: TF-IDF / Named Parameters For Vectorizer: {'n': 1, 'k_highest': None, 'tf_normalize': True}\n",
            "Score: 0.08009241432422025\n",
            "Featurization_type: BERT / Named Parameters For Vectorizer: None\n",
            "Score: 0.6145380431103074\n",
            "\n",
            "Grid Search Results:\n",
            "\n",
            "    Best f2: (avg. of test folds) 61.45% / (std. of test folds) 15.45%\n",
            "    Best parameters: {'classifier__algorithm': 'ball_tree', 'classifier__leaf_size': 50, 'classifier__n_neighbors': 3, 'classifier__p': 2}\n",
            "    Featurization_type: BERT / Named Parameters For Vectorizer: None\n",
            "\n",
            "\n",
            "Outer Split 2 Test Fold Performance:\n",
            "    f2: 48.61%\n",
            "\n",
            "Outer Split 3:\n",
            "    Inner Loop (Grid Search):\n",
            "\n",
            "\n",
            "Performing Grid Search with unigram featurization with Named Parameters {'n': 1, 'k_highest': None}...\n",
            "Performing Grid Search with bigram featurization with Named Parameters {'n': 2, 'k_highest': None}...\n",
            "Performing Grid Search with TF-IDF featurization with Named Parameters {'n': 1, 'k_highest': None, 'tf_normalize': True}...\n",
            "Performing Grid Search with BERT featurization with Named Parameters None...\n",
            "\n",
            "Best Mean Test f2 Score for each featurization:\n",
            "\n",
            "Featurization_type: unigram / Named Parameters For Vectorizer: {'n': 1, 'k_highest': None}\n",
            "Score: 0.15548441598861767\n",
            "Featurization_type: bigram / Named Parameters For Vectorizer: {'n': 2, 'k_highest': None}\n",
            "Score: 0.0\n",
            "Featurization_type: TF-IDF / Named Parameters For Vectorizer: {'n': 1, 'k_highest': None, 'tf_normalize': True}\n",
            "Score: 0.13744520030234314\n",
            "Featurization_type: BERT / Named Parameters For Vectorizer: None\n",
            "Score: 0.4856505220250645\n",
            "\n",
            "Grid Search Results:\n",
            "\n",
            "    Best f2: (avg. of test folds) 48.57% / (std. of test folds) 19.61%\n",
            "    Best parameters: {'classifier__algorithm': 'ball_tree', 'classifier__leaf_size': 50, 'classifier__n_neighbors': 5, 'classifier__p': 1}\n",
            "    Featurization_type: BERT / Named Parameters For Vectorizer: None\n",
            "\n",
            "\n",
            "Outer Split 3 Test Fold Performance:\n",
            "    f2: 57.97%\n",
            "\n",
            "Outer Split 4:\n",
            "    Inner Loop (Grid Search):\n",
            "\n",
            "\n",
            "Performing Grid Search with unigram featurization with Named Parameters {'n': 1, 'k_highest': None}...\n",
            "Performing Grid Search with bigram featurization with Named Parameters {'n': 2, 'k_highest': None}...\n",
            "Performing Grid Search with TF-IDF featurization with Named Parameters {'n': 1, 'k_highest': None, 'tf_normalize': True}...\n",
            "Performing Grid Search with BERT featurization with Named Parameters None...\n",
            "\n",
            "Best Mean Test f2 Score for each featurization:\n",
            "\n",
            "Featurization_type: unigram / Named Parameters For Vectorizer: {'n': 1, 'k_highest': None}\n",
            "Score: 0.15773940345368914\n",
            "Featurization_type: bigram / Named Parameters For Vectorizer: {'n': 2, 'k_highest': None}\n",
            "Score: 0.0\n",
            "Featurization_type: TF-IDF / Named Parameters For Vectorizer: {'n': 1, 'k_highest': None, 'tf_normalize': True}\n",
            "Score: 0.1860785194580977\n",
            "Featurization_type: BERT / Named Parameters For Vectorizer: None\n",
            "Score: 0.5621781727044886\n",
            "\n",
            "Grid Search Results:\n",
            "\n",
            "    Best f2: (avg. of test folds) 56.22% / (std. of test folds) 14.65%\n",
            "    Best parameters: {'classifier__algorithm': 'ball_tree', 'classifier__leaf_size': 50, 'classifier__n_neighbors': 3, 'classifier__p': 1}\n",
            "    Featurization_type: BERT / Named Parameters For Vectorizer: None\n",
            "\n",
            "\n",
            "Outer Split 4 Test Fold Performance:\n",
            "    f2: 61.64%\n",
            "\n",
            "Outer Loop:\n",
            "    f2 52.21% +/- 6.44\n",
            "-------------------------------------------------- \n",
            "\n",
            "Algorithm:  Support Vector Machine\n",
            "\n",
            "Outer Split 0:\n",
            "    Inner Loop (Grid Search):\n",
            "\n",
            "\n",
            "Performing Grid Search with unigram featurization with Named Parameters {'n': 1, 'k_highest': None}...\n",
            "Performing Grid Search with bigram featurization with Named Parameters {'n': 2, 'k_highest': None}...\n",
            "Performing Grid Search with TF-IDF featurization with Named Parameters {'n': 1, 'k_highest': None, 'tf_normalize': True}...\n",
            "Performing Grid Search with BERT featurization with Named Parameters None...\n",
            "\n",
            "Best Mean Test f2 Score for each featurization:\n",
            "\n",
            "Featurization_type: unigram / Named Parameters For Vectorizer: {'n': 1, 'k_highest': None}\n",
            "Score: 0.5914540138224348\n",
            "Featurization_type: bigram / Named Parameters For Vectorizer: {'n': 2, 'k_highest': None}\n",
            "Score: 0.4349848692474592\n",
            "Featurization_type: TF-IDF / Named Parameters For Vectorizer: {'n': 1, 'k_highest': None, 'tf_normalize': True}\n",
            "Score: 0.6698395593869733\n",
            "Featurization_type: BERT / Named Parameters For Vectorizer: None\n",
            "Score: 0.7888885731181039\n",
            "\n",
            "Grid Search Results:\n",
            "\n",
            "    Best f2: (avg. of test folds) 78.89% / (std. of test folds) 11.33%\n",
            "    Best parameters: {'classifier__C': 10.0, 'classifier__class_weight': 'balanced', 'classifier__gamma': 1e-05, 'classifier__kernel': 'rbf'}\n",
            "    Featurization_type: BERT / Named Parameters For Vectorizer: None\n",
            "\n",
            "\n",
            "Outer Split 0 Test Fold Performance:\n",
            "    f2: 83.33%\n",
            "\n",
            "Outer Split 1:\n",
            "    Inner Loop (Grid Search):\n",
            "\n",
            "\n",
            "Performing Grid Search with unigram featurization with Named Parameters {'n': 1, 'k_highest': None}...\n",
            "Performing Grid Search with bigram featurization with Named Parameters {'n': 2, 'k_highest': None}...\n",
            "Performing Grid Search with TF-IDF featurization with Named Parameters {'n': 1, 'k_highest': None, 'tf_normalize': True}...\n",
            "Performing Grid Search with BERT featurization with Named Parameters None...\n",
            "\n",
            "Best Mean Test f2 Score for each featurization:\n",
            "\n",
            "Featurization_type: unigram / Named Parameters For Vectorizer: {'n': 1, 'k_highest': None}\n",
            "Score: 0.4979121683575494\n",
            "Featurization_type: bigram / Named Parameters For Vectorizer: {'n': 2, 'k_highest': None}\n",
            "Score: 0.4688104150513935\n",
            "Featurization_type: TF-IDF / Named Parameters For Vectorizer: {'n': 1, 'k_highest': None, 'tf_normalize': True}\n",
            "Score: 0.5058494550019974\n",
            "Featurization_type: BERT / Named Parameters For Vectorizer: None\n",
            "Score: 0.8356930861674694\n",
            "\n",
            "Grid Search Results:\n",
            "\n",
            "    Best f2: (avg. of test folds) 83.57% / (std. of test folds) 4.49%\n",
            "    Best parameters: {'classifier__C': 0.001, 'classifier__class_weight': 'balanced', 'classifier__kernel': 'linear'}\n",
            "    Featurization_type: BERT / Named Parameters For Vectorizer: None\n",
            "\n",
            "\n",
            "Outer Split 1 Test Fold Performance:\n",
            "    f2: 80.46%\n",
            "\n",
            "Outer Split 2:\n",
            "    Inner Loop (Grid Search):\n",
            "\n",
            "\n",
            "Performing Grid Search with unigram featurization with Named Parameters {'n': 1, 'k_highest': None}...\n",
            "Performing Grid Search with bigram featurization with Named Parameters {'n': 2, 'k_highest': None}...\n",
            "Performing Grid Search with TF-IDF featurization with Named Parameters {'n': 1, 'k_highest': None, 'tf_normalize': True}...\n",
            "Performing Grid Search with BERT featurization with Named Parameters None...\n",
            "\n",
            "Best Mean Test f2 Score for each featurization:\n",
            "\n",
            "Featurization_type: unigram / Named Parameters For Vectorizer: {'n': 1, 'k_highest': None}\n",
            "Score: 0.5311986863711001\n",
            "Featurization_type: bigram / Named Parameters For Vectorizer: {'n': 2, 'k_highest': None}\n",
            "Score: 0.3119908777952255\n",
            "Featurization_type: TF-IDF / Named Parameters For Vectorizer: {'n': 1, 'k_highest': None, 'tf_normalize': True}\n",
            "Score: 0.6279919352411905\n",
            "Featurization_type: BERT / Named Parameters For Vectorizer: None\n",
            "Score: 0.8250141235215862\n",
            "\n",
            "Grid Search Results:\n",
            "\n",
            "    Best f2: (avg. of test folds) 82.50% / (std. of test folds) 6.80%\n",
            "    Best parameters: {'classifier__C': 0.001, 'classifier__class_weight': 'balanced', 'classifier__kernel': 'linear'}\n",
            "    Featurization_type: BERT / Named Parameters For Vectorizer: None\n",
            "\n",
            "\n",
            "Outer Split 2 Test Fold Performance:\n",
            "    f2: 75.00%\n",
            "\n",
            "Outer Split 3:\n",
            "    Inner Loop (Grid Search):\n",
            "\n",
            "\n",
            "Performing Grid Search with unigram featurization with Named Parameters {'n': 1, 'k_highest': None}...\n",
            "Performing Grid Search with bigram featurization with Named Parameters {'n': 2, 'k_highest': None}...\n",
            "Performing Grid Search with TF-IDF featurization with Named Parameters {'n': 1, 'k_highest': None, 'tf_normalize': True}...\n",
            "Performing Grid Search with BERT featurization with Named Parameters None...\n",
            "\n",
            "Best Mean Test f2 Score for each featurization:\n",
            "\n",
            "Featurization_type: unigram / Named Parameters For Vectorizer: {'n': 1, 'k_highest': None}\n",
            "Score: 0.5201270233118237\n",
            "Featurization_type: bigram / Named Parameters For Vectorizer: {'n': 2, 'k_highest': None}\n",
            "Score: 0.3084088573297207\n",
            "Featurization_type: TF-IDF / Named Parameters For Vectorizer: {'n': 1, 'k_highest': None, 'tf_normalize': True}\n",
            "Score: 0.5674997788998755\n",
            "Featurization_type: BERT / Named Parameters For Vectorizer: None\n",
            "Score: 0.7634555271383915\n",
            "\n",
            "Grid Search Results:\n",
            "\n",
            "    Best f2: (avg. of test folds) 76.35% / (std. of test folds) 11.10%\n",
            "    Best parameters: {'classifier__C': 0.0001, 'classifier__class_weight': 'balanced', 'classifier__kernel': 'linear'}\n",
            "    Featurization_type: BERT / Named Parameters For Vectorizer: None\n",
            "\n",
            "\n",
            "Outer Split 3 Test Fold Performance:\n",
            "    f2: 83.33%\n",
            "\n",
            "Outer Split 4:\n",
            "    Inner Loop (Grid Search):\n",
            "\n",
            "\n",
            "Performing Grid Search with unigram featurization with Named Parameters {'n': 1, 'k_highest': None}...\n",
            "Performing Grid Search with bigram featurization with Named Parameters {'n': 2, 'k_highest': None}...\n",
            "Performing Grid Search with TF-IDF featurization with Named Parameters {'n': 1, 'k_highest': None, 'tf_normalize': True}...\n",
            "Performing Grid Search with BERT featurization with Named Parameters None...\n",
            "\n",
            "Best Mean Test f2 Score for each featurization:\n",
            "\n",
            "Featurization_type: unigram / Named Parameters For Vectorizer: {'n': 1, 'k_highest': None}\n",
            "Score: 0.5473063229452506\n",
            "Featurization_type: bigram / Named Parameters For Vectorizer: {'n': 2, 'k_highest': None}\n",
            "Score: 0.3133351268944489\n",
            "Featurization_type: TF-IDF / Named Parameters For Vectorizer: {'n': 1, 'k_highest': None, 'tf_normalize': True}\n",
            "Score: 0.61707449467762\n",
            "Featurization_type: BERT / Named Parameters For Vectorizer: None\n",
            "Score: 0.7771330511041301\n",
            "\n",
            "Grid Search Results:\n",
            "\n",
            "    Best f2: (avg. of test folds) 77.71% / (std. of test folds) 9.08%\n",
            "    Best parameters: {'classifier__C': 100.0, 'classifier__class_weight': 'balanced', 'classifier__gamma': 1e-05, 'classifier__kernel': 'rbf'}\n",
            "    Featurization_type: BERT / Named Parameters For Vectorizer: None\n",
            "\n",
            "\n",
            "Outer Split 4 Test Fold Performance:\n",
            "    f2: 87.84%\n",
            "\n",
            "Outer Loop:\n",
            "    f2 81.99% +/- 4.22\n"
          ]
        }
      ],
      "source": [
        "nested_cv_algo_performance_dict = nested_cv.perform_nested_cv_for_multiple_algos(\n",
        "    all_algos_metadata_dict,\n",
        "    featurization_data_map,\n",
        "    y_train,\n",
        "    save_dir = NESTED_CV_DIR,\n",
        "    verbose = True\n",
        ")"
      ]
    },
    {
      "cell_type": "code",
      "execution_count": null,
      "metadata": {
        "id": "WgDMjwS8WfPg"
      },
      "outputs": [],
      "source": [
        "from url_text_module import (\n",
        "    NESTED_CV_RESULTS_FILENAME, \n",
        "    read_json_as_dict,\n",
        "    prettify_algo_performance_dict,\n",
        "    print_prettier_algo_performance_dict,\n",
        "    plot_nested_cv_results\n",
        ")"
      ]
    },
    {
      "cell_type": "code",
      "execution_count": null,
      "metadata": {
        "id": "ofOVLUTgLY0J"
      },
      "outputs": [],
      "source": [
        "PATH_TO_NESTED_CV_PERFORMANCE_DICT = join(CLASSIFICATION_PLOTS_DIR, 'Nested CV', NESTED_CV_RESULTS_FILENAME)\n",
        "nested_cv_algo_performance_dict = read_json_as_dict(PATH_TO_NESTED_CV_PERFORMANCE_DICT)"
      ]
    },
    {
      "cell_type": "code",
      "execution_count": null,
      "metadata": {
        "colab": {
          "base_uri": "https://localhost:8080/"
        },
        "id": "iR08CUyS9lPJ",
        "outputId": "34f97427-5ac2-4bb6-9a90-43e1286e5484"
      },
      "outputs": [
        {
          "name": "stdout",
          "output_type": "stream",
          "text": [
            "Nested CV Outer Fold Scores (F2):\n",
            "\n",
            "   Logistic Regression: 80.42 +/- 8.59\n",
            "\n",
            "   Random Forest: 58.82 +/- 13.23\n",
            "\n",
            "   Decision Tree: 66.5 +/- 13.17\n",
            "\n",
            "   Multinomial Naive Bayes: 76.11 +/- 4.62\n",
            "\n",
            "   K-Nearest Neighbors: 52.21 +/- 6.44\n",
            "\n",
            "   Support Vector Machine: 81.99 +/- 4.22\n",
            "\n"
          ]
        }
      ],
      "source": [
        "nested_cv_results_dict = prettify_algo_performance_dict(nested_cv_algo_performance_dict)\n",
        "nested_cv_results_dict = {key: (mean_score * 100, std * 100) for key, (mean_score, std) in nested_cv_results_dict.items()} # convert score values to percentages\n",
        "print_prettier_algo_performance_dict(nested_cv_results_dict, optimize_metric = 'F2')"
      ]
    },
    {
      "cell_type": "code",
      "execution_count": null,
      "metadata": {
        "colab": {
          "base_uri": "https://localhost:8080/",
          "height": 386
        },
        "id": "s9gG5OGNmuyr",
        "outputId": "b536e96f-c2ed-40bc-ca93-9f8e2394c96b"
      },
      "outputs": [
        {
          "data": {
            "image/png": "[encoded data removed]",
            "text/plain": [
              "<Figure size 576x396 with 1 Axes>"
            ]
          },
          "metadata": {},
          "output_type": "display_data"
        }
      ],
      "source": [
        "title = f\"Outer Folds F2 Scores for Human Risk Text Classification\"\n",
        "xlabel = \"F2 Score\"\n",
        "plot_nested_cv_results(nested_cv_results_dict, title, xlabel, CLASSIFICATION_PLOTS_DIR)"
      ]
    },
    {
      "cell_type": "markdown",
      "metadata": {
        "id": "Pdg2NtBKs-fa"
      },
      "source": [
        "## We select Support Vector Machine since it performs relatively well by having high mean and low variance F2 scores comparatively."
      ]
    },
    {
      "cell_type": "code",
      "execution_count": null,
      "metadata": {
        "id": "HE22pfHaAjfm"
      },
      "outputs": [],
      "source": [
        "from url_text_module import (\n",
        "    CrossValidationWithGridSearch,\n",
        "    pretty_print_cv_results\n",
        ")"
      ]
    },
    {
      "cell_type": "markdown",
      "metadata": {
        "id": "cR7AtxzPtkzG"
      },
      "source": [
        "Since Support Vector Machine (SVM) which had the best performance across folds with the various hyperparameter sets for SVM, we use the full training set to train a model with those hyperparameters and test it on the test set"
      ]
    },
    {
      "cell_type": "code",
      "execution_count": null,
      "metadata": {
        "id": "3hKVwSPEGyvO"
      },
      "outputs": [],
      "source": [
        "stratified_cv = CrossValidationWithGridSearch(\n",
        "    STRATIFIED_K_CV_NAME,\n",
        "    INNER_SPLITS_NUM,\n",
        "    OPTIMIZE_METRIC,\n",
        "    shuffle = SHUFFLE,\n",
        "    n_jobs = N_JOBS,\n",
        "    seed = SEED\n",
        ")"
      ]
    },
    {
      "cell_type": "code",
      "execution_count": null,
      "metadata": {
        "colab": {
          "base_uri": "https://localhost:8080/"
        },
        "id": "5okR8ePQSEz4",
        "outputId": "e8f3f68d-a806-4d5d-a648-68cf4ea81e41"
      },
      "outputs": [
        {
          "name": "stdout",
          "output_type": "stream",
          "text": [
            "Performing grid search on entire training set for Support Vector Machine\n",
            "\n",
            "\n",
            "Performing Grid Search with unigram featurization with Named Parameters {'n': 1, 'k_highest': None}...\n",
            "Performing Grid Search with bigram featurization with Named Parameters {'n': 2, 'k_highest': None}...\n",
            "Performing Grid Search with TF-IDF featurization with Named Parameters {'n': 1, 'k_highest': None, 'tf_normalize': True}...\n",
            "Performing Grid Search with BERT featurization with Named Parameters None...\n",
            "\n",
            "Best Mean Test f2 Score for each featurization:\n",
            "\n",
            "Featurization_type: unigram / Named Parameters For Vectorizer: {'n': 1, 'k_highest': None}\n",
            "Score: 0.5823030340318343\n",
            "Featurization_type: bigram / Named Parameters For Vectorizer: {'n': 2, 'k_highest': None}\n",
            "Score: 0.4337204502297933\n",
            "Featurization_type: TF-IDF / Named Parameters For Vectorizer: {'n': 1, 'k_highest': None, 'tf_normalize': True}\n",
            "Score: 0.6457854732125131\n",
            "Featurization_type: BERT / Named Parameters For Vectorizer: None\n",
            "Score: 0.8496431689218682\n",
            "\n",
            "Grid Search Results:\n",
            "\n",
            "    Best f2: (avg. of test folds) 84.96% / (std. of test folds) 7.40%\n",
            "    Best parameters: {'classifier__C': 0.001, 'classifier__class_weight': 'balanced', 'classifier__kernel': 'linear'}\n",
            "    Featurization_type: BERT / Named Parameters For Vectorizer: None\n",
            "\n",
            "Best CV mean f2 score: 84.96%\n",
            "Best CV f2 std: 7.40%\n",
            "Best parameters: {'classifier__C': 0.001, 'classifier__class_weight': 'balanced', 'classifier__kernel': 'linear'}\n",
            "Best featurization type:  BERT\n",
            "Featurization Name Parameters:  None\n"
          ]
        }
      ],
      "source": [
        "print(f'Performing grid search on entire training set for Support Vector Machine')\n",
        "fitted_svm_grid_search_obj, best_featurization, splits_dict, final_results_dict, cv_df = stratified_cv.run_grid_search(\n",
        "      all_algos_metadata_dict[SUPPORT_VECTOR_MACHINE_KEY],\n",
        "      featurization_data_map,\n",
        "      y_train,\n",
        "      save_options = {\n",
        "         SAVE_DIR_KEY: join(CLASSIFICATION_PLOTS_DIR, 'SVM_CV_TUNING'),\n",
        "         SAVE_ALGO_METADATA_KEY: True,\n",
        "         SAVE_CV_METADATA_KEY: True\n",
        "      },\n",
        "      verbose = True,\n",
        ")\n",
        "pretty_print_cv_results(fitted_svm_grid_search_obj, best_featurization, OPTIMIZE_METRIC)"
      ]
    },
    {
      "cell_type": "markdown",
      "metadata": {
        "id": "MU55NZuIjJsZ"
      },
      "source": [
        "# Model Evaluation"
      ]
    },
    {
      "cell_type": "code",
      "execution_count": null,
      "metadata": {
        "id": "aSttvbMlFZYG"
      },
      "outputs": [],
      "source": [
        "from url_text_module import (\n",
        "    get_metric_func_and_scorer,\n",
        "    STRATEGY_KEY,\n",
        "    CONSTANT_STR,\n",
        "    CONSTANT_KEY,\n",
        "    RANDOM_STATE_STR,\n",
        "    get_dummy_classifier_preds_and_probs\n",
        ")"
      ]
    },
    {
      "cell_type": "markdown",
      "metadata": {
        "id": "FF6KNOXreyvU"
      },
      "source": [
        "#### **F2 Score and Related Metrics**"
      ]
    },
    {
      "cell_type": "code",
      "execution_count": null,
      "metadata": {
        "id": "rBskfVbajGYP"
      },
      "outputs": [],
      "source": [
        "f2_func, _ = get_metric_func_and_scorer(OPTIMIZE_METRIC)"
      ]
    },
    {
      "cell_type": "markdown",
      "metadata": {
        "id": "qRlEFQ8vkSDV"
      },
      "source": [
        "F2 score for classifier which always predicts \"Human Risk Class\""
      ]
    },
    {
      "cell_type": "code",
      "execution_count": null,
      "metadata": {
        "colab": {
          "base_uri": "https://localhost:8080/"
        },
        "id": "Hffz3fhbh-Rj",
        "outputId": "e569543c-932a-442d-c4e2-4e61b5430986"
      },
      "outputs": [
        {
          "name": "stdout",
          "output_type": "stream",
          "text": [
            "Baseline F2 score for Dummy Classifier which always predicts 'Human Risk': 0.4337899543378996\n"
          ]
        }
      ],
      "source": [
        "all_pos_dummy_options = {STRATEGY_KEY: CONSTANT_STR, CONSTANT_KEY: 1, RANDOM_STATE_STR: SEED}\n",
        "all_pos_preds, all_pos_probas = get_dummy_classifier_preds_and_probs(all_pos_dummy_options, train_bert_embeddings, y_train, test_bert_embeddings)\n",
        "all_pos_baseline_f2 = f2_func(y_true = y_test, y_pred = all_pos_preds)\n",
        "print(f'Baseline F2 score for Dummy Classifier which always predicts \\'Human Risk\\': {all_pos_baseline_f2}')"
      ]
    },
    {
      "cell_type": "code",
      "execution_count": null,
      "metadata": {
        "colab": {
          "base_uri": "https://localhost:8080/"
        },
        "id": "BPrbVok3u3EK",
        "outputId": "012faa77-3a73-485a-fecc-c3194dbe2a16"
      },
      "outputs": [
        {
          "name": "stdout",
          "output_type": "stream",
          "text": [
            "SVM F2 score on training data: 0.9398496240601505\n",
            "SVM F2 score on test data: 0.9278350515463917\n"
          ]
        }
      ],
      "source": [
        "svm_train_f2 = f2_func(y_true = y_train, y_pred = fitted_svm_grid_search_obj.predict(train_bert_embeddings))\n",
        "print(f'SVM F2 score on training data: {svm_train_f2}')\n",
        "svm_preds = fitted_svm_grid_search_obj.predict(test_bert_embeddings)\n",
        "svm_test_f2 = f2_func(y_true = y_test, y_pred = svm_preds)\n",
        "print(f'SVM F2 score on test data: {svm_test_f2}')"
      ]
    },
    {
      "cell_type": "code",
      "execution_count": null,
      "metadata": {
        "id": "DU8oqHF6Fo9e"
      },
      "outputs": [],
      "source": [
        "import matplotlib.pyplot as plt"
      ]
    },
    {
      "cell_type": "code",
      "execution_count": null,
      "metadata": {
        "colab": {
          "base_uri": "https://localhost:8080/"
        },
        "id": "jK_fGhroYsq_",
        "outputId": "e8c47f89-0e00-485b-b7cc-a7bbf592ed65"
      },
      "outputs": [
        {
          "data": {
            "image/png": "[encoded data removed]",
            "text/plain": [
              "<Figure size 576x396 with 2 Axes>"
            ]
          },
          "metadata": {},
          "output_type": "display_data"
        }
      ],
      "source": [
        "plot_confusion_matrix_heatmap(y_test, svm_preds, ordered_labels_list = [0, 1], labels = [\"No Human Risk\", \"Human Risk\"], title = \"Confusion Matrix for Human Risk SVM Model\")\n",
        "plt.savefig(join(CLASSIFICATION_PLOTS_DIR, \"human_risk_cm_svm.png\"), bbox_inches = 'tight', dpi = 150)"
      ]
    },
    {
      "cell_type": "code",
      "execution_count": null,
      "metadata": {
        "colab": {
          "base_uri": "https://localhost:8080/",
          "height": 408
        },
        "id": "uC8G1Z5JYyUp",
        "outputId": "5fefbe95-01b7-466d-e8cb-0cb5385d2ad2"
      },
      "outputs": [
        {
          "data": {
            "image/png": "[encoded data removed]",
            "text/plain": [
              "<Figure size 648x360 with 1 Axes>"
            ]
          },
          "metadata": {},
          "output_type": "display_data"
        }
      ],
      "source": [
        "ordered_human_dam_categories = [\"no_human_risk\", \"human_risk\"]\n",
        "fig = plot_per_class_metric_bar_chart(\"human_risk\", \n",
        "                                      y_test, \n",
        "                                      svm_preds, \n",
        "                                      human_risk_class_str_idx_map, \n",
        "                                      ordered_human_dam_categories, \n",
        "                                      fig_size = (9, 5), \n",
        "                                      width = 0.35, \n",
        "                                      label_size = 13,\n",
        "                                      title_padding = 10, \n",
        "                                      colors = ['slategray', 'orange'],\n",
        "                                      legend_outside_plot = True)\n",
        "# Had to maneuver the legend to be outside the plot since the performance bars were interfering with the legend\n",
        "plot_margin=0.08\n",
        "x0, x1, y0, y1 = plt.axis()\n",
        "plt.axis((x0, x1, y0, y1 + plot_margin))\n",
        "plt.legend(bbox_to_anchor = (0.30, -0.19), loc = 'upper left', borderaxespad = 0, edgecolor = 'black', shadow = True, frameon = True)\n",
        "fig.savefig(join(CLASSIFICATION_PLOTS_DIR, \"human_risk_per_class_metric.png\"), bbox_inches = 'tight', dpi = 150)"
      ]
    },
    {
      "cell_type": "markdown",
      "metadata": {
        "id": "GEM-lWtzerrE"
      },
      "source": [
        "#### **Area Under the Precision-Recall Curve (AUCPR)**"
      ]
    },
    {
      "cell_type": "code",
      "execution_count": null,
      "metadata": {
        "id": "fm7C0BwGFvD7"
      },
      "outputs": [],
      "source": [
        "from url_text_module import (\n",
        "    STRATIFIED_STR,\n",
        "    compute_aucpr,\n",
        "    plot_precision_recall_curve_for_model\n",
        ")"
      ]
    },
    {
      "cell_type": "code",
      "execution_count": null,
      "metadata": {
        "id": "w-H7fpSx5Txz"
      },
      "outputs": [],
      "source": [
        "# Code inspired from https://machinelearningmastery.com/roc-curves-and-precision-recall-curves-for-classification-in-python/"
      ]
    },
    {
      "cell_type": "code",
      "execution_count": null,
      "metadata": {
        "colab": {
          "base_uri": "https://localhost:8080/"
        },
        "id": "LWhH749gq6A3",
        "outputId": "7fb54b8f-236f-4d9e-c7fa-ccbc30372ef8"
      },
      "outputs": [
        {
          "name": "stdout",
          "output_type": "stream",
          "text": [
            "Always predicts 1 AUCPR: 0.566\n"
          ]
        }
      ],
      "source": [
        "# calculate the precision-recall auc for dummy classifier which always predicts 'Human Risk'\n",
        "aucpr_all_pos = compute_aucpr(y_test, all_pos_probas[:, 1])\n",
        "print('Always predicts 1 AUCPR: %.3f' % aucpr_all_pos)"
      ]
    },
    {
      "cell_type": "code",
      "execution_count": null,
      "metadata": {
        "colab": {
          "base_uri": "https://localhost:8080/"
        },
        "id": "AkKJyelYRpbq",
        "outputId": "53caf2ca-d3a5-446e-cef1-a0bf511bdac5"
      },
      "outputs": [
        {
          "name": "stdout",
          "output_type": "stream",
          "text": [
            "No Skill AUCPR: 0.334\n"
          ]
        }
      ],
      "source": [
        "# calculate the precision-recall auc for dummy classifier which respects the training class distributions\n",
        "stratified_dummy_options = {STRATEGY_KEY: STRATIFIED_STR, RANDOM_STATE_STR: SEED}\n",
        "stratified_preds, stratified_probas = get_dummy_classifier_preds_and_probs(stratified_dummy_options, train_bert_embeddings, y_train, test_bert_embeddings)\n",
        "aucpr_stratified = compute_aucpr(y_test, stratified_probas[:, 1])\n",
        "print('No Skill AUCPR: %.3f' % aucpr_stratified)"
      ]
    },
    {
      "cell_type": "code",
      "execution_count": null,
      "metadata": {
        "colab": {
          "base_uri": "https://localhost:8080/"
        },
        "id": "b7kc6CXj35hz",
        "outputId": "43b5bde5-3513-48a0-fb58-16d698c09b10"
      },
      "outputs": [
        {
          "name": "stdout",
          "output_type": "stream",
          "text": [
            "SVM AUCPR score on test data: 0.9189100943052382\n"
          ]
        }
      ],
      "source": [
        "decision_func_scores = fitted_svm_grid_search_obj.decision_function(test_bert_embeddings)\n",
        "svm_aucpr_score = compute_aucpr(y_test, decision_func_scores)\n",
        "print(f'SVM AUCPR score on test data: {svm_aucpr_score}')"
      ]
    },
    {
      "cell_type": "code",
      "execution_count": null,
      "metadata": {
        "id": "0zs_MvVwWdZI"
      },
      "outputs": [],
      "source": [
        "model_name = SUPPORT_VECTOR_MACHINE_KEY\n",
        "title = 'Precision-Recall Curve for Human Risk SVM Model'"
      ]
    },
    {
      "cell_type": "code",
      "execution_count": null,
      "metadata": {
        "colab": {
          "base_uri": "https://localhost:8080/",
          "height": 415
        },
        "id": "nC17WRzNZmS1",
        "outputId": "84d89717-9a06-4d15-817c-e93907c67225"
      },
      "outputs": [
        {
          "name": "stdout",
          "output_type": "stream",
          "text": [
            "SVM: f2=0.928 aucpr=0.919\n"
          ]
        },
        {
          "data": {
            "image/png": "[encoded data removed]",
            "text/plain": [
              "<Figure size 432x360 with 1 Axes>"
            ]
          },
          "metadata": {},
          "output_type": "display_data"
        }
      ],
      "source": [
        "# summarize scores\n",
        "print('SVM: f2=%.3f aucpr=%.3f' % (svm_test_f2, svm_aucpr_score))\n",
        "# Plot precision-recall curve for fitted SVM model\n",
        "plot_precision_recall_curve_for_model(\n",
        "    model_name,\n",
        "    decision_func_scores,\n",
        "    y_test,\n",
        "    title = title,\n",
        "    save_path = join(CLASSIFICATION_PLOTS_DIR, \"human_risk_precision_recall_curve_svm.png\")\n",
        ")"
      ]
    },
    {
      "cell_type": "markdown",
      "metadata": {
        "id": "54J6PHQG34mf"
      },
      "source": [
        "### Refit model on entire dataset, i.e. both training and test, then save to host's filesystem for future inference"
      ]
    },
    {
      "cell_type": "code",
      "execution_count": null,
      "metadata": {
        "id": "skd_6RHeZuCv"
      },
      "outputs": [],
      "source": [
        "from url_text_module import (\n",
        "    ModelMetadata,\n",
        "    create_directory_and_save_model_metadata,\n",
        "    load_sklearn_model\n",
        ")"
      ]
    },
    {
      "cell_type": "code",
      "execution_count": null,
      "metadata": {
        "id": "cUp2gfsI5LHv"
      },
      "outputs": [],
      "source": [
        "full_X = np.array(human_risk_dataset[EMBEDDINGS_COL_NAME].to_list())"
      ]
    },
    {
      "cell_type": "code",
      "execution_count": null,
      "metadata": {
        "colab": {
          "base_uri": "https://localhost:8080/"
        },
        "id": "N00u9T0Jd00q",
        "outputId": "a9d176e9-f99c-4a71-f9fc-f231ee991914"
      },
      "outputs": [
        {
          "data": {
            "text/plain": [
              "Pipeline(steps=[('standard_scaler', StandardScaler()),\n",
              "                ('classifier', SVC(random_state=1))])"
            ]
          },
          "execution_count": 69,
          "metadata": {},
          "output_type": "execute_result"
        }
      ],
      "source": [
        "svm_model = fitted_svm_grid_search_obj.estimator\n",
        "svm_model.fit(full_X, y)"
      ]
    },
    {
      "cell_type": "code",
      "execution_count": null,
      "metadata": {
        "id": "bM-40mka-qPd"
      },
      "outputs": [],
      "source": [
        "svm_hyperparams = {name.split('__')[1]: value for name, value in fitted_svm_grid_search_obj.best_params_.items()}\n",
        "model_name = 'svm_human_risk'\n",
        "svm_model_metadata = ModelMetadata(\n",
        "    model_name, \n",
        "    svm_model,\n",
        "    human_risk_class_str_idx_map, \n",
        "    svm_hyperparams, \n",
        "    best_featurization, \n",
        "    all_algos_metadata_dict[SUPPORT_VECTOR_MACHINE_KEY].normalizer_type, \n",
        "    SEED\n",
        ")"
      ]
    },
    {
      "cell_type": "code",
      "execution_count": null,
      "metadata": {
        "id": "xav3WzEZ_tu4"
      },
      "outputs": [],
      "source": [
        "svm_model_dir = create_directory_and_save_model_metadata(\n",
        "    CLASSIFICATION_PLOTS_DIR,\n",
        "    svm_model_metadata\n",
        ")"
      ]
    },
    {
      "cell_type": "code",
      "execution_count": null,
      "metadata": {
        "id": "qBPzDBkDHtPo"
      },
      "outputs": [],
      "source": [
        "svm_model_loaded = load_sklearn_model(svm_model_dir, model_name)"
      ]
    },
    {
      "cell_type": "code",
      "execution_count": null,
      "metadata": {
        "id": "Wf-tcO_4h9tZ"
      },
      "outputs": [],
      "source": [
        "from url_text_module import (\n",
        "    create_input_string_preprocessor\n",
        ")"
      ]
    },
    {
      "cell_type": "code",
      "execution_count": null,
      "metadata": {
        "colab": {
          "base_uri": "https://localhost:8080/",
          "height": 249,
          "referenced_widgets": [
            "b8db1baa5af74b6ca9c21c96903431ea",
            "7132af09ab854e5588e1b5693cf71847",
            "3052dee0ea99444184caef57d3d7140c",
            "bb5dcffd8f97452fbfffae207ad5cf0c",
            "3fa621dc38df4909ac7f54c3830313a1",
            "773f168514ca48b8bf430d87c55c9872",
            "e5dabc6e53dd4c86a0a793eb77c9b0ea",
            "4c877ca94c69437e8b1aa43e2cbcca1e",
            "cd20d91ee0224ebfa8e259324ed063db",
            "349de014d02345c497b871fc42111ef0",
            "147cdd0c5f544b7caf0dd5f17c94efde",
            "c8628f1f40e3412e9c28c2f9cd2b7273",
            "80577a2b62514251b0abc1e2f4bad6e0",
            "ced54f5ade4c4b2296b2dd13a39b7aca",
            "b11d57632f3f47bea42ca22b1705a263",
            "8c6751fc714743eda20bbd5b5121be4e",
            "11ce8cdaad1244968624e3bb679cb839",
            "29ba51c8a1c3452e94d3a0be9f334392",
            "1062d94b86944259a97bc65ca4ebd242",
            "135fca2304384719a402df5ada9e6470",
            "57bba83a67784c699b8b54d2a97e1ceb",
            "b6ba091812d54792982e6d373d360bed",
            "a38f45fa483248ff8ef72f54545dec44",
            "46c6614ed5e241e7809c056fcf39bf07",
            "a069098473834289a2cea90f6b4dd130",
            "e9897ca6a52c45189012e430e7b1db39",
            "dccf5fe51b564d5a90b815bb160a4a5f",
            "11f74da085134418a2d823d6aabc2c51",
            "6757a4a246414f1b9dd0889f5f818f71",
            "e60043d5f57a41688a22e78a041da131",
            "0edf15f36bc8440cbca31dd5cfc4ad72",
            "de6c824039f34104a1aff3385a9360a1",
            "e1e302ed6282455895f76ed679a5c52a",
            "cd7735d55239453889fc56c531fdc7fb",
            "505e2efb3f9e4e2d9713c838a732122a",
            "f53d9be5905642e3bae009499c9ba134",
            "f43908e1ae524ec9ac7f84366bdc9ab5",
            "868952ec199e43b69aa7e94b2d8c8795",
            "258d084daa8741149021652cf9dd9587",
            "db403740c72e4f5b9f344ddaf2c6b616",
            "4c04b18554514326a2b7059094df234a",
            "fe41afd7b68f47f28694f9637b31ad84",
            "7e957be37a644497802c527e0cc9b07a",
            "0402e6b54b524044823854bc0358817d",
            "cc96560ee41c40b6b14659c2679c9447",
            "7318fbb7602e494588a4eb426c311020",
            "4dabf6ae5631421faf888b5f65ec55e5",
            "471fb8dfd4174d28aab4e5dc14135cb4",
            "7612ab68c5d940e7b45e8febd0f4cd4c",
            "de5af5cbc05c40e7bd0882081681ae44",
            "3571ab30f57d4c1c91f7d46add5e29e4",
            "b23b66f7c060485a9291cf4c73c04f73",
            "1630058fc8114a738d0fcc70e4a09b80",
            "ed1eb21bfc5c4497a792e188d2b6a85e",
            "078da5a1c8d84c2d87fe0dd5e604561a"
          ]
        },
        "id": "Z_UGOMhYmtUl",
        "outputId": "1d2a696f-6ffc-47ba-e79f-f1d311ac41f7"
      },
      "outputs": [
        {
          "data": {
            "application/vnd.jupyter.widget-view+json": {
              "model_id": "b8db1baa5af74b6ca9c21c96903431ea",
              "version_major": 2,
              "version_minor": 0
            },
            "text/plain": [
              "Downloading:   0%|          | 0.00/174 [00:00<?, ?B/s]"
            ]
          },
          "metadata": {},
          "output_type": "display_data"
        },
        {
          "data": {
            "application/vnd.jupyter.widget-view+json": {
              "model_id": "c8628f1f40e3412e9c28c2f9cd2b7273",
              "version_major": 2,
              "version_minor": 0
            },
            "text/plain": [
              "Downloading:   0%|          | 0.00/517 [00:00<?, ?B/s]"
            ]
          },
          "metadata": {},
          "output_type": "display_data"
        },
        {
          "data": {
            "application/vnd.jupyter.widget-view+json": {
              "model_id": "a38f45fa483248ff8ef72f54545dec44",
              "version_major": 2,
              "version_minor": 0
            },
            "text/plain": [
              "Downloading:   0%|          | 0.00/230k [00:00<?, ?B/s]"
            ]
          },
          "metadata": {},
          "output_type": "display_data"
        },
        {
          "data": {
            "application/vnd.jupyter.widget-view+json": {
              "model_id": "cd7735d55239453889fc56c531fdc7fb",
              "version_major": 2,
              "version_minor": 0
            },
            "text/plain": [
              "Downloading:   0%|          | 0.00/517 [00:00<?, ?B/s]"
            ]
          },
          "metadata": {},
          "output_type": "display_data"
        },
        {
          "data": {
            "application/vnd.jupyter.widget-view+json": {
              "model_id": "cc96560ee41c40b6b14659c2679c9447",
              "version_major": 2,
              "version_minor": 0
            },
            "text/plain": [
              "Downloading:   0%|          | 0.00/427M [00:00<?, ?B/s]"
            ]
          },
          "metadata": {},
          "output_type": "display_data"
        },
        {
          "name": "stderr",
          "output_type": "stream",
          "text": [
            "Some weights of the model checkpoint at cl-tohoku/bert-base-japanese-v2 were not used when initializing BertForMaskedLM: ['cls.seq_relationship.weight', 'cls.seq_relationship.bias']\n",
            "- This IS expected if you are initializing BertForMaskedLM from the checkpoint of a model trained on another task or with another architecture (e.g. initializing a BertForSequenceClassification model from a BertForPreTraining model).\n",
            "- This IS NOT expected if you are initializing BertForMaskedLM from the checkpoint of a model that you expect to be exactly identical (initializing a BertForSequenceClassification model from a BertForSequenceClassification model).\n"
          ]
        }
      ],
      "source": [
        "svm_input_str_preprocessor = create_input_string_preprocessor(best_featurization)"
      ]
    },
    {
      "cell_type": "markdown",
      "metadata": {
        "id": "fNKI7_tmLOYs"
      },
      "source": [
        "Predict on unseen, unlabeled **RiskMap Typhoon Hagibis** text data"
      ]
    },
    {
      "cell_type": "code",
      "execution_count": null,
      "metadata": {
        "id": "x_wC1jsBLROz"
      },
      "outputs": [],
      "source": [
        "typhoon_hagibis_csv_path = \"/content/drive/MyDrive/05_REACT AI/Research/AI & ML/REACT Simulation/jp.riskmap.org.csv\"\n",
        "riskmap_df = pd.read_csv(typhoon_hagibis_csv_path)"
      ]
    },
    {
      "cell_type": "code",
      "execution_count": null,
      "metadata": {
        "colab": {
          "base_uri": "https://localhost:8080/"
        },
        "id": "IDZWlDxBLSOo",
        "outputId": "542f92f2-a616-43db-f0ab-c22a142f259c"
      },
      "outputs": [
        {
          "name": "stderr",
          "output_type": "stream",
          "text": [
            "Asking to truncate to max_length but no maximum length is provided and the model has no predefined maximum length. Default to no truncation.\n"
          ]
        },
        {
          "name": "stdout",
          "output_type": "stream",
          "text": [
            "Text: 高台で自宅は無事ですが、眼前の黒目川周辺地域は避難勧告が出ました\n",
            "Predicted Label: human_risk\n",
            "Decision Function Score: 0.008499480556596106\n",
            "\n",
            "Text: 近くの黒目川はまた溢れていません\n",
            "Predicted Label: no_human_risk\n",
            "Decision Function Score: -0.7100695606972732\n",
            "\n",
            "Text: 護岸を超えて波がどうろに\n",
            "Predicted Label: no_human_risk\n",
            "Decision Function Score: -0.9384414677956463\n",
            "\n",
            "Text: 雨風ともに安定していますが、多摩川が心配で\n",
            "Predicted Label: no_human_risk\n",
            "Decision Function Score: -0.9577014405043922\n",
            "\n",
            "Text: 黒目川の水位が上昇しているため、午後３時３０分に警戒レベル４の避難勧告を発令しました。それに伴い、市民の安全を確保するため、新たにゆめぱれす（朝霞市民会館)を避難所として開設しました。\n",
            "Predicted Label: no_human_risk\n",
            "Decision Function Score: -0.5001094615340225\n",
            "\n",
            "Text: 隅田川テラスの遊歩道しんすい\n",
            "Predicted Label: no_human_risk\n",
            "Decision Function Score: -0.8916666333741781\n",
            "\n",
            "Text: まだ浸水被害は無い\n",
            "Predicted Label: no_human_risk\n",
            "Decision Function Score: -0.8813961028291075\n",
            "\n",
            "Text: 雨風は強いが倒木なし\n",
            "Predicted Label: no_human_risk\n",
            "Decision Function Score: -1.2545522974242875\n",
            "\n",
            "Text: 浸水はありません\n",
            "Predicted Label: no_human_risk\n",
            "Decision Function Score: -0.8551260250221542\n",
            "\n",
            "Text: 雨風が強いです。\n",
            "まだ避難勧告はないて゛す。\n",
            "\n",
            "Predicted Label: no_human_risk\n",
            "Decision Function Score: -0.21789017722898957\n",
            "\n",
            "Text: 洪水なしです\n",
            "Predicted Label: no_human_risk\n",
            "Decision Function Score: -0.8953448564500026\n",
            "\n",
            "Text: 道路の上に少し水の流れがあるれへ\n",
            "Predicted Label: no_human_risk\n",
            "Decision Function Score: -0.9253060805728932\n",
            "\n",
            "Text: 浸水ありません\n",
            "Predicted Label: no_human_risk\n",
            "Decision Function Score: -0.8490493457940353\n",
            "\n",
            "Text: たまがわ\n",
            "Predicted Label: no_human_risk\n",
            "Decision Function Score: -1.1623407476861096\n",
            "\n",
            "Text: 運河はあと1mくらいは大丈夫そう。水門は閉鎖中。\n",
            "Predicted Label: no_human_risk\n",
            "Decision Function Score: -0.9423924478600001\n",
            "\n",
            "Text: 現時点では、河川は溢れていません。\n",
            "Predicted Label: no_human_risk\n",
            "Decision Function Score: -0.7138337124101525\n",
            "\n",
            "Text: 浸水はありません\n",
            "Predicted Label: no_human_risk\n",
            "Decision Function Score: -0.8551260250221542\n",
            "\n",
            "Text: 浸水は今のところありません\n",
            "Predicted Label: no_human_risk\n",
            "Decision Function Score: -0.7991958019828604\n",
            "\n",
            "Text: 多摩川のようす\n",
            "Predicted Label: no_human_risk\n",
            "Decision Function Score: -1.2123650457106057\n",
            "\n",
            "Text: 靖国も雨で水が溜まりはじめてます\n",
            "Predicted Label: no_human_risk\n",
            "Decision Function Score: -0.7009531292577891\n",
            "\n",
            "Text: 道路の冠水や浸水等は発生しておらず、無事です。\n",
            "Predicted Label: no_human_risk\n",
            "Decision Function Score: -0.3182443778532106\n",
            "\n",
            "Text: 浸水ありません\n",
            "Predicted Label: no_human_risk\n",
            "Decision Function Score: -0.8490493457940353\n",
            "\n",
            "Text: 現状、自宅マンション内で無事。\n",
            "\n",
            "Predicted Label: no_human_risk\n",
            "Decision Function Score: -0.21053607624640897\n",
            "\n",
            "Text: 隅田川が、かなり水位が高いようですが、周りも避難していないようですし、問題ないと思います\n",
            "Predicted Label: no_human_risk\n",
            "Decision Function Score: -0.4681349537868721\n",
            "\n",
            "Text: 浸水はふくらはぎぐらいです。\n",
            "Predicted Label: no_human_risk\n",
            "Decision Function Score: -0.6813760657239184\n",
            "\n",
            "Text: 普段よりも雨風はひどいですが、全く問題ありません。物が飛んで来る様子もありません。マンション2階居住です。\n",
            "Predicted Label: no_human_risk\n",
            "Decision Function Score: -0.4170026995071357\n",
            "\n",
            "Text: 今は大丈夫です\n",
            "Predicted Label: no_human_risk\n",
            "Decision Function Score: -0.7592150721117257\n",
            "\n",
            "Text: Strong wind gusts and mild flooding of the streets. \n",
            "Predicted Label: no_human_risk\n",
            "Decision Function Score: -0.5071647599617397\n",
            "\n",
            "Text: 現段階で特に被害はありません。\n",
            "Predicted Label: no_human_risk\n",
            "Decision Function Score: -0.5530694627444157\n",
            "\n",
            "Text: 意外と洪水してない\n",
            "Predicted Label: no_human_risk\n",
            "Decision Function Score: -0.8217702137685139\n",
            "\n",
            "Text: 12日19:50現在 停電していません。\n",
            "Predicted Label: no_human_risk\n",
            "Decision Function Score: -0.6603185231702178\n",
            "\n",
            "Text: 今のところ被害なしです。\n",
            "Predicted Label: no_human_risk\n",
            "Decision Function Score: -0.44540110016566814\n",
            "\n",
            "Text: まだ被害は出ていません\n",
            "Predicted Label: no_human_risk\n",
            "Decision Function Score: -0.32246447309855364\n",
            "\n",
            "Text: 雨風はかなり強いですが、\n",
            "被害はありません\n",
            "Predicted Label: no_human_risk\n",
            "Decision Function Score: -0.7579056661657584\n",
            "\n",
            "Text: こちらは特にまだ何も起きていません。\n",
            "世田谷付近の方は避難こちらにしたほうがいいかもしれません\n",
            "Predicted Label: no_human_risk\n",
            "Decision Function Score: -0.4155973878656703\n",
            "\n",
            "Text: 風と雨脚がつよい。\n",
            "Predicted Label: no_human_risk\n",
            "Decision Function Score: -1.1877162192894861\n",
            "\n",
            "Text: 停電なし\n",
            "Predicted Label: no_human_risk\n",
            "Decision Function Score: -0.9591719909767531\n",
            "\n",
            "Text: 家の中に浸水はしていません。無事です。\n",
            "Predicted Label: no_human_risk\n",
            "Decision Function Score: -0.17006462721414384\n",
            "\n",
            "Text: 添え木ごと倒れています。\n",
            "近くの公園も写真は撮れませんでしたが、倒れそうな木がありました。\n",
            "Predicted Label: no_human_risk\n",
            "Decision Function Score: -0.5782517627606643\n",
            "\n",
            "Text: なし\n",
            "Predicted Label: no_human_risk\n",
            "Decision Function Score: -0.8206235985860286\n",
            "\n",
            "Text: なし\n",
            "Predicted Label: no_human_risk\n",
            "Decision Function Score: -0.8206235985860286\n",
            "\n",
            "Text: 現時点、倒木やインフラ被害は出ていません。\n",
            "Predicted Label: no_human_risk\n",
            "Decision Function Score: -0.9666112900818173\n",
            "\n",
            "Text: 多摩川、防波堤越水、レベル5\n",
            "Predicted Label: no_human_risk\n",
            "Decision Function Score: -0.9987593681277159\n",
            "\n",
            "Text: 無事\n",
            "Predicted Label: no_human_risk\n",
            "Decision Function Score: -0.37277249483598907\n",
            "\n",
            "Text: 大きな被害はないです。\n",
            "風が強くなってきました　\n",
            "20:19げんざい\n",
            "Predicted Label: no_human_risk\n",
            "Decision Function Score: -0.6043884221536033\n",
            "\n",
            "Text: 今のところ浸水も停電も有りません。風は強くなってきた。\n",
            "Predicted Label: no_human_risk\n",
            "Decision Function Score: -0.8557879457792665\n",
            "\n",
            "Text: 風がとても強いです。\n",
            "Predicted Label: no_human_risk\n",
            "Decision Function Score: -0.5503993210381972\n",
            "\n",
            "Text: 10/12土2027現在、特に早稲田付近の神田川で氾濫はありません。\n",
            "Predicted Label: no_human_risk\n",
            "Decision Function Score: -0.8503919139863176\n",
            "\n",
            "Text: 問題なし\n",
            "Predicted Label: no_human_risk\n",
            "Decision Function Score: -0.7115971237672771\n",
            "\n",
            "Text: みさわがわ\n",
            "Predicted Label: no_human_risk\n",
            "Decision Function Score: -1.0666338681176586\n",
            "\n",
            "Text: 凄い風です。\n",
            "Predicted Label: no_human_risk\n",
            "Decision Function Score: -0.93496912889694\n",
            "\n",
            "Text: 風は強いけど、ライフラインはげんじょう問題ない状態\n",
            "Predicted Label: no_human_risk\n",
            "Decision Function Score: -0.4107363586086114\n",
            "\n",
            "Text: 浸水被害はありません。\n",
            "Predicted Label: no_human_risk\n",
            "Decision Function Score: -0.685615902085167\n",
            "\n",
            "Text: 浸水は無い\n",
            "かぜつよし\n",
            "Predicted Label: no_human_risk\n",
            "Decision Function Score: -0.7437015044263294\n",
            "\n",
            "Text: 鎌倉市由比ヶ浜付近134は冠水しています。しない停電中のため状況把握できません。\n",
            "Predicted Label: no_human_risk\n",
            "Decision Function Score: -0.719122388776914\n",
            "\n",
            "Text: 風は強いですが、浸水や倒木はまっあくありません\n",
            "Predicted Label: no_human_risk\n",
            "Decision Function Score: -0.8477949562317706\n",
            "\n",
            "Text: 断続的にていでん\n",
            "Predicted Label: no_human_risk\n",
            "Decision Function Score: -0.910031041298322\n",
            "\n",
            "Text: 30分程まえから鎌倉市停電しています。\n",
            "Predicted Label: no_human_risk\n",
            "Decision Function Score: -0.4205810953553003\n",
            "\n",
            "Text: とくに\n",
            "Predicted Label: no_human_risk\n",
            "Decision Function Score: -0.9537349397339068\n",
            "\n",
            "Text: 雨風が非常に強いが無事\n",
            "隅田川の始まりである新岩淵水門が近いが、隅田川が氾濫している形跡もありません\n",
            "電気・水も滞りなく利用できています(オール電化のためガスは不明)\n",
            "Predicted Label: no_human_risk\n",
            "Decision Function Score: -0.7004484489653179\n",
            "\n",
            "Text: 用水路の増水は見られるものの、とりあえず被害はありません。\n",
            "Predicted Label: no_human_risk\n",
            "Decision Function Score: -0.7538858257326699\n",
            "\n",
            "Text: 特に何もありません\n",
            "Predicted Label: no_human_risk\n",
            "Decision Function Score: -0.621200937227647\n",
            "\n",
            "Text: 風がものすごい\n",
            "Predicted Label: no_human_risk\n",
            "Decision Function Score: -1.0183509162661384\n",
            "\n",
            "Text: 今のところ問題なし\n",
            "Predicted Label: no_human_risk\n",
            "Decision Function Score: -0.7994954452646537\n",
            "\n",
            "Text: 21:00いつもの台風より静かな気がしていたのに家が雨漏りし始めた。あなどってはいけない。\n",
            "Predicted Label: no_human_risk\n",
            "Decision Function Score: -0.6257714917856766\n",
            "\n",
            "Text: 暴風雨、強まる。現在、台風の目が上空を通過していると推測する。\n",
            "Predicted Label: no_human_risk\n",
            "Decision Function Score: -0.9260286192938413\n",
            "\n",
            "Text: 雨は依然として強いままだが、風はピークを過ぎ落ち着いてきた\n",
            "Predicted Label: no_human_risk\n",
            "Decision Function Score: -1.0376646265930944\n",
            "\n",
            "Text: 被害ありません\n",
            "Predicted Label: no_human_risk\n",
            "Decision Function Score: -0.7995566407779854\n",
            "\n"
          ]
        }
      ],
      "source": [
        "idx_to_class_dict = {idx: class_name for class_name, idx in human_risk_class_str_idx_map.items()}\n",
        "for idx, row in riskmap_df.iterrows():\n",
        "  text = row['text']\n",
        "  embedded_text = svm_input_str_preprocessor(text)\n",
        "  predicted_hum_risk_int_label, prediction_score = svm_model_loaded.predict(embedded_text)[0], svm_model_loaded.decision_function(embedded_text)[0]\n",
        "  class_name_label = idx_to_class_dict[predicted_hum_risk_int_label]\n",
        "  print(f'Text: {text}')\n",
        "  print(f'Predicted Label: {class_name_label}')\n",
        "  print(f'Decision Function Score: {prediction_score}\\n')"
      ]
    }
  ],
  "metadata": {
    "colab": {
      "collapsed_sections": [],
      "name": "FC_txt_data_classification.ipynb",
      "provenance": []
    },
    "gpuClass": "standard",
    "kernelspec": {
      "display_name": "Python 3",
      "name": "python3"
    },
    "language_info": {
      "name": "python"
    },
    "widgets": {
      "application/vnd.jupyter.widget-state+json": {
        "0402e6b54b524044823854bc0358817d": {
          "model_module": "@jupyter-widgets/controls",
          "model_module_version": "1.5.0",
          "model_name": "DescriptionStyleModel",
          "state": {
            "_model_module": "@jupyter-widgets/controls",
            "_model_module_version": "1.5.0",
            "_model_name": "DescriptionStyleModel",
            "_view_count": null,
            "_view_module": "@jupyter-widgets/base",
            "_view_module_version": "1.2.0",
            "_view_name": "StyleView",
            "description_width": ""
          }
        },
        "078da5a1c8d84c2d87fe0dd5e604561a": {
          "model_module": "@jupyter-widgets/controls",
          "model_module_version": "1.5.0",
          "model_name": "DescriptionStyleModel",
          "state": {
            "_model_module": "@jupyter-widgets/controls",
            "_model_module_version": "1.5.0",
            "_model_name": "DescriptionStyleModel",
            "_view_count": null,
            "_view_module": "@jupyter-widgets/base",
            "_view_module_version": "1.2.0",
            "_view_name": "StyleView",
            "description_width": ""
          }
        },
        "0edf15f36bc8440cbca31dd5cfc4ad72": {
          "model_module": "@jupyter-widgets/controls",
          "model_module_version": "1.5.0",
          "model_name": "ProgressStyleModel",
          "state": {
            "_model_module": "@jupyter-widgets/controls",
            "_model_module_version": "1.5.0",
            "_model_name": "ProgressStyleModel",
            "_view_count": null,
            "_view_module": "@jupyter-widgets/base",
            "_view_module_version": "1.2.0",
            "_view_name": "StyleView",
            "bar_color": null,
            "description_width": ""
          }
        },
        "1062d94b86944259a97bc65ca4ebd242": {
          "model_module": "@jupyter-widgets/base",
          "model_module_version": "1.2.0",
          "model_name": "LayoutModel",
          "state": {
            "_model_module": "@jupyter-widgets/base",
            "_model_module_version": "1.2.0",
            "_model_name": "LayoutModel",
            "_view_count": null,
            "_view_module": "@jupyter-widgets/base",
            "_view_module_version": "1.2.0",
            "_view_name": "LayoutView",
            "align_content": null,
            "align_items": null,
            "align_self": null,
            "border": null,
            "bottom": null,
            "display": null,
            "flex": null,
            "flex_flow": null,
            "grid_area": null,
            "grid_auto_columns": null,
            "grid_auto_flow": null,
            "grid_auto_rows": null,
            "grid_column": null,
            "grid_gap": null,
            "grid_row": null,
            "grid_template_areas": null,
            "grid_template_columns": null,
            "grid_template_rows": null,
            "height": null,
            "justify_content": null,
            "justify_items": null,
            "left": null,
            "margin": null,
            "max_height": null,
            "max_width": null,
            "min_height": null,
            "min_width": null,
            "object_fit": null,
            "object_position": null,
            "order": null,
            "overflow": null,
            "overflow_x": null,
            "overflow_y": null,
            "padding": null,
            "right": null,
            "top": null,
            "visibility": null,
            "width": null
          }
        },
        "11ce8cdaad1244968624e3bb679cb839": {
          "model_module": "@jupyter-widgets/base",
          "model_module_version": "1.2.0",
          "model_name": "LayoutModel",
          "state": {
            "_model_module": "@jupyter-widgets/base",
            "_model_module_version": "1.2.0",
            "_model_name": "LayoutModel",
            "_view_count": null,
            "_view_module": "@jupyter-widgets/base",
            "_view_module_version": "1.2.0",
            "_view_name": "LayoutView",
            "align_content": null,
            "align_items": null,
            "align_self": null,
            "border": null,
            "bottom": null,
            "display": null,
            "flex": null,
            "flex_flow": null,
            "grid_area": null,
            "grid_auto_columns": null,
            "grid_auto_flow": null,
            "grid_auto_rows": null,
            "grid_column": null,
            "grid_gap": null,
            "grid_row": null,
            "grid_template_areas": null,
            "grid_template_columns": null,
            "grid_template_rows": null,
            "height": null,
            "justify_content": null,
            "justify_items": null,
            "left": null,
            "margin": null,
            "max_height": null,
            "max_width": null,
            "min_height": null,
            "min_width": null,
            "object_fit": null,
            "object_position": null,
            "order": null,
            "overflow": null,
            "overflow_x": null,
            "overflow_y": null,
            "padding": null,
            "right": null,
            "top": null,
            "visibility": null,
            "width": null
          }
        },
        "11f74da085134418a2d823d6aabc2c51": {
          "model_module": "@jupyter-widgets/base",
          "model_module_version": "1.2.0",
          "model_name": "LayoutModel",
          "state": {
            "_model_module": "@jupyter-widgets/base",
            "_model_module_version": "1.2.0",
            "_model_name": "LayoutModel",
            "_view_count": null,
            "_view_module": "@jupyter-widgets/base",
            "_view_module_version": "1.2.0",
            "_view_name": "LayoutView",
            "align_content": null,
            "align_items": null,
            "align_self": null,
            "border": null,
            "bottom": null,
            "display": null,
            "flex": null,
            "flex_flow": null,
            "grid_area": null,
            "grid_auto_columns": null,
            "grid_auto_flow": null,
            "grid_auto_rows": null,
            "grid_column": null,
            "grid_gap": null,
            "grid_row": null,
            "grid_template_areas": null,
            "grid_template_columns": null,
            "grid_template_rows": null,
            "height": null,
            "justify_content": null,
            "justify_items": null,
            "left": null,
            "margin": null,
            "max_height": null,
            "max_width": null,
            "min_height": null,
            "min_width": null,
            "object_fit": null,
            "object_position": null,
            "order": null,
            "overflow": null,
            "overflow_x": null,
            "overflow_y": null,
            "padding": null,
            "right": null,
            "top": null,
            "visibility": null,
            "width": null
          }
        },
        "135fca2304384719a402df5ada9e6470": {
          "model_module": "@jupyter-widgets/controls",
          "model_module_version": "1.5.0",
          "model_name": "ProgressStyleModel",
          "state": {
            "_model_module": "@jupyter-widgets/controls",
            "_model_module_version": "1.5.0",
            "_model_name": "ProgressStyleModel",
            "_view_count": null,
            "_view_module": "@jupyter-widgets/base",
            "_view_module_version": "1.2.0",
            "_view_name": "StyleView",
            "bar_color": null,
            "description_width": ""
          }
        },
        "147cdd0c5f544b7caf0dd5f17c94efde": {
          "model_module": "@jupyter-widgets/controls",
          "model_module_version": "1.5.0",
          "model_name": "DescriptionStyleModel",
          "state": {
            "_model_module": "@jupyter-widgets/controls",
            "_model_module_version": "1.5.0",
            "_model_name": "DescriptionStyleModel",
            "_view_count": null,
            "_view_module": "@jupyter-widgets/base",
            "_view_module_version": "1.2.0",
            "_view_name": "StyleView",
            "description_width": ""
          }
        },
        "1630058fc8114a738d0fcc70e4a09b80": {
          "model_module": "@jupyter-widgets/controls",
          "model_module_version": "1.5.0",
          "model_name": "ProgressStyleModel",
          "state": {
            "_model_module": "@jupyter-widgets/controls",
            "_model_module_version": "1.5.0",
            "_model_name": "ProgressStyleModel",
            "_view_count": null,
            "_view_module": "@jupyter-widgets/base",
            "_view_module_version": "1.2.0",
            "_view_name": "StyleView",
            "bar_color": null,
            "description_width": ""
          }
        },
        "258d084daa8741149021652cf9dd9587": {
          "model_module": "@jupyter-widgets/base",
          "model_module_version": "1.2.0",
          "model_name": "LayoutModel",
          "state": {
            "_model_module": "@jupyter-widgets/base",
            "_model_module_version": "1.2.0",
            "_model_name": "LayoutModel",
            "_view_count": null,
            "_view_module": "@jupyter-widgets/base",
            "_view_module_version": "1.2.0",
            "_view_name": "LayoutView",
            "align_content": null,
            "align_items": null,
            "align_self": null,
            "border": null,
            "bottom": null,
            "display": null,
            "flex": null,
            "flex_flow": null,
            "grid_area": null,
            "grid_auto_columns": null,
            "grid_auto_flow": null,
            "grid_auto_rows": null,
            "grid_column": null,
            "grid_gap": null,
            "grid_row": null,
            "grid_template_areas": null,
            "grid_template_columns": null,
            "grid_template_rows": null,
            "height": null,
            "justify_content": null,
            "justify_items": null,
            "left": null,
            "margin": null,
            "max_height": null,
            "max_width": null,
            "min_height": null,
            "min_width": null,
            "object_fit": null,
            "object_position": null,
            "order": null,
            "overflow": null,
            "overflow_x": null,
            "overflow_y": null,
            "padding": null,
            "right": null,
            "top": null,
            "visibility": null,
            "width": null
          }
        },
        "29ba51c8a1c3452e94d3a0be9f334392": {
          "model_module": "@jupyter-widgets/controls",
          "model_module_version": "1.5.0",
          "model_name": "DescriptionStyleModel",
          "state": {
            "_model_module": "@jupyter-widgets/controls",
            "_model_module_version": "1.5.0",
            "_model_name": "DescriptionStyleModel",
            "_view_count": null,
            "_view_module": "@jupyter-widgets/base",
            "_view_module_version": "1.2.0",
            "_view_name": "StyleView",
            "description_width": ""
          }
        },
        "3052dee0ea99444184caef57d3d7140c": {
          "model_module": "@jupyter-widgets/controls",
          "model_module_version": "1.5.0",
          "model_name": "FloatProgressModel",
          "state": {
            "_dom_classes": [],
            "_model_module": "@jupyter-widgets/controls",
            "_model_module_version": "1.5.0",
            "_model_name": "FloatProgressModel",
            "_view_count": null,
            "_view_module": "@jupyter-widgets/controls",
            "_view_module_version": "1.5.0",
            "_view_name": "ProgressView",
            "bar_style": "success",
            "description": "",
            "description_tooltip": null,
            "layout": "IPY_MODEL_4c877ca94c69437e8b1aa43e2cbcca1e",
            "max": 174,
            "min": 0,
            "orientation": "horizontal",
            "style": "IPY_MODEL_cd20d91ee0224ebfa8e259324ed063db",
            "value": 174
          }
        },
        "349de014d02345c497b871fc42111ef0": {
          "model_module": "@jupyter-widgets/base",
          "model_module_version": "1.2.0",
          "model_name": "LayoutModel",
          "state": {
            "_model_module": "@jupyter-widgets/base",
            "_model_module_version": "1.2.0",
            "_model_name": "LayoutModel",
            "_view_count": null,
            "_view_module": "@jupyter-widgets/base",
            "_view_module_version": "1.2.0",
            "_view_name": "LayoutView",
            "align_content": null,
            "align_items": null,
            "align_self": null,
            "border": null,
            "bottom": null,
            "display": null,
            "flex": null,
            "flex_flow": null,
            "grid_area": null,
            "grid_auto_columns": null,
            "grid_auto_flow": null,
            "grid_auto_rows": null,
            "grid_column": null,
            "grid_gap": null,
            "grid_row": null,
            "grid_template_areas": null,
            "grid_template_columns": null,
            "grid_template_rows": null,
            "height": null,
            "justify_content": null,
            "justify_items": null,
            "left": null,
            "margin": null,
            "max_height": null,
            "max_width": null,
            "min_height": null,
            "min_width": null,
            "object_fit": null,
            "object_position": null,
            "order": null,
            "overflow": null,
            "overflow_x": null,
            "overflow_y": null,
            "padding": null,
            "right": null,
            "top": null,
            "visibility": null,
            "width": null
          }
        },
        "3571ab30f57d4c1c91f7d46add5e29e4": {
          "model_module": "@jupyter-widgets/controls",
          "model_module_version": "1.5.0",
          "model_name": "DescriptionStyleModel",
          "state": {
            "_model_module": "@jupyter-widgets/controls",
            "_model_module_version": "1.5.0",
            "_model_name": "DescriptionStyleModel",
            "_view_count": null,
            "_view_module": "@jupyter-widgets/base",
            "_view_module_version": "1.2.0",
            "_view_name": "StyleView",
            "description_width": ""
          }
        },
        "3fa621dc38df4909ac7f54c3830313a1": {
          "model_module": "@jupyter-widgets/base",
          "model_module_version": "1.2.0",
          "model_name": "LayoutModel",
          "state": {
            "_model_module": "@jupyter-widgets/base",
            "_model_module_version": "1.2.0",
            "_model_name": "LayoutModel",
            "_view_count": null,
            "_view_module": "@jupyter-widgets/base",
            "_view_module_version": "1.2.0",
            "_view_name": "LayoutView",
            "align_content": null,
            "align_items": null,
            "align_self": null,
            "border": null,
            "bottom": null,
            "display": null,
            "flex": null,
            "flex_flow": null,
            "grid_area": null,
            "grid_auto_columns": null,
            "grid_auto_flow": null,
            "grid_auto_rows": null,
            "grid_column": null,
            "grid_gap": null,
            "grid_row": null,
            "grid_template_areas": null,
            "grid_template_columns": null,
            "grid_template_rows": null,
            "height": null,
            "justify_content": null,
            "justify_items": null,
            "left": null,
            "margin": null,
            "max_height": null,
            "max_width": null,
            "min_height": null,
            "min_width": null,
            "object_fit": null,
            "object_position": null,
            "order": null,
            "overflow": null,
            "overflow_x": null,
            "overflow_y": null,
            "padding": null,
            "right": null,
            "top": null,
            "visibility": null,
            "width": null
          }
        },
        "46c6614ed5e241e7809c056fcf39bf07": {
          "model_module": "@jupyter-widgets/controls",
          "model_module_version": "1.5.0",
          "model_name": "HTMLModel",
          "state": {
            "_dom_classes": [],
            "_model_module": "@jupyter-widgets/controls",
            "_model_module_version": "1.5.0",
            "_model_name": "HTMLModel",
            "_view_count": null,
            "_view_module": "@jupyter-widgets/controls",
            "_view_module_version": "1.5.0",
            "_view_name": "HTMLView",
            "description": "",
            "description_tooltip": null,
            "layout": "IPY_MODEL_11f74da085134418a2d823d6aabc2c51",
            "placeholder": "​",
            "style": "IPY_MODEL_6757a4a246414f1b9dd0889f5f818f71",
            "value": "Downloading: 100%"
          }
        },
        "471fb8dfd4174d28aab4e5dc14135cb4": {
          "model_module": "@jupyter-widgets/controls",
          "model_module_version": "1.5.0",
          "model_name": "HTMLModel",
          "state": {
            "_dom_classes": [],
            "_model_module": "@jupyter-widgets/controls",
            "_model_module_version": "1.5.0",
            "_model_name": "HTMLModel",
            "_view_count": null,
            "_view_module": "@jupyter-widgets/controls",
            "_view_module_version": "1.5.0",
            "_view_name": "HTMLView",
            "description": "",
            "description_tooltip": null,
            "layout": "IPY_MODEL_ed1eb21bfc5c4497a792e188d2b6a85e",
            "placeholder": "​",
            "style": "IPY_MODEL_078da5a1c8d84c2d87fe0dd5e604561a",
            "value": " 427M/427M [00:11&lt;00:00, 41.5MB/s]"
          }
        },
        "4c04b18554514326a2b7059094df234a": {
          "model_module": "@jupyter-widgets/base",
          "model_module_version": "1.2.0",
          "model_name": "LayoutModel",
          "state": {
            "_model_module": "@jupyter-widgets/base",
            "_model_module_version": "1.2.0",
            "_model_name": "LayoutModel",
            "_view_count": null,
            "_view_module": "@jupyter-widgets/base",
            "_view_module_version": "1.2.0",
            "_view_name": "LayoutView",
            "align_content": null,
            "align_items": null,
            "align_self": null,
            "border": null,
            "bottom": null,
            "display": null,
            "flex": null,
            "flex_flow": null,
            "grid_area": null,
            "grid_auto_columns": null,
            "grid_auto_flow": null,
            "grid_auto_rows": null,
            "grid_column": null,
            "grid_gap": null,
            "grid_row": null,
            "grid_template_areas": null,
            "grid_template_columns": null,
            "grid_template_rows": null,
            "height": null,
            "justify_content": null,
            "justify_items": null,
            "left": null,
            "margin": null,
            "max_height": null,
            "max_width": null,
            "min_height": null,
            "min_width": null,
            "object_fit": null,
            "object_position": null,
            "order": null,
            "overflow": null,
            "overflow_x": null,
            "overflow_y": null,
            "padding": null,
            "right": null,
            "top": null,
            "visibility": null,
            "width": null
          }
        },
        "4c877ca94c69437e8b1aa43e2cbcca1e": {
          "model_module": "@jupyter-widgets/base",
          "model_module_version": "1.2.0",
          "model_name": "LayoutModel",
          "state": {
            "_model_module": "@jupyter-widgets/base",
            "_model_module_version": "1.2.0",
            "_model_name": "LayoutModel",
            "_view_count": null,
            "_view_module": "@jupyter-widgets/base",
            "_view_module_version": "1.2.0",
            "_view_name": "LayoutView",
            "align_content": null,
            "align_items": null,
            "align_self": null,
            "border": null,
            "bottom": null,
            "display": null,
            "flex": null,
            "flex_flow": null,
            "grid_area": null,
            "grid_auto_columns": null,
            "grid_auto_flow": null,
            "grid_auto_rows": null,
            "grid_column": null,
            "grid_gap": null,
            "grid_row": null,
            "grid_template_areas": null,
            "grid_template_columns": null,
            "grid_template_rows": null,
            "height": null,
            "justify_content": null,
            "justify_items": null,
            "left": null,
            "margin": null,
            "max_height": null,
            "max_width": null,
            "min_height": null,
            "min_width": null,
            "object_fit": null,
            "object_position": null,
            "order": null,
            "overflow": null,
            "overflow_x": null,
            "overflow_y": null,
            "padding": null,
            "right": null,
            "top": null,
            "visibility": null,
            "width": null
          }
        },
        "4dabf6ae5631421faf888b5f65ec55e5": {
          "model_module": "@jupyter-widgets/controls",
          "model_module_version": "1.5.0",
          "model_name": "FloatProgressModel",
          "state": {
            "_dom_classes": [],
            "_model_module": "@jupyter-widgets/controls",
            "_model_module_version": "1.5.0",
            "_model_name": "FloatProgressModel",
            "_view_count": null,
            "_view_module": "@jupyter-widgets/controls",
            "_view_module_version": "1.5.0",
            "_view_name": "ProgressView",
            "bar_style": "success",
            "description": "",
            "description_tooltip": null,
            "layout": "IPY_MODEL_b23b66f7c060485a9291cf4c73c04f73",
            "max": 447423557,
            "min": 0,
            "orientation": "horizontal",
            "style": "IPY_MODEL_1630058fc8114a738d0fcc70e4a09b80",
            "value": 447423557
          }
        },
        "505e2efb3f9e4e2d9713c838a732122a": {
          "model_module": "@jupyter-widgets/controls",
          "model_module_version": "1.5.0",
          "model_name": "HTMLModel",
          "state": {
            "_dom_classes": [],
            "_model_module": "@jupyter-widgets/controls",
            "_model_module_version": "1.5.0",
            "_model_name": "HTMLModel",
            "_view_count": null,
            "_view_module": "@jupyter-widgets/controls",
            "_view_module_version": "1.5.0",
            "_view_name": "HTMLView",
            "description": "",
            "description_tooltip": null,
            "layout": "IPY_MODEL_258d084daa8741149021652cf9dd9587",
            "placeholder": "​",
            "style": "IPY_MODEL_db403740c72e4f5b9f344ddaf2c6b616",
            "value": "Downloading: 100%"
          }
        },
        "57bba83a67784c699b8b54d2a97e1ceb": {
          "model_module": "@jupyter-widgets/base",
          "model_module_version": "1.2.0",
          "model_name": "LayoutModel",
          "state": {
            "_model_module": "@jupyter-widgets/base",
            "_model_module_version": "1.2.0",
            "_model_name": "LayoutModel",
            "_view_count": null,
            "_view_module": "@jupyter-widgets/base",
            "_view_module_version": "1.2.0",
            "_view_name": "LayoutView",
            "align_content": null,
            "align_items": null,
            "align_self": null,
            "border": null,
            "bottom": null,
            "display": null,
            "flex": null,
            "flex_flow": null,
            "grid_area": null,
            "grid_auto_columns": null,
            "grid_auto_flow": null,
            "grid_auto_rows": null,
            "grid_column": null,
            "grid_gap": null,
            "grid_row": null,
            "grid_template_areas": null,
            "grid_template_columns": null,
            "grid_template_rows": null,
            "height": null,
            "justify_content": null,
            "justify_items": null,
            "left": null,
            "margin": null,
            "max_height": null,
            "max_width": null,
            "min_height": null,
            "min_width": null,
            "object_fit": null,
            "object_position": null,
            "order": null,
            "overflow": null,
            "overflow_x": null,
            "overflow_y": null,
            "padding": null,
            "right": null,
            "top": null,
            "visibility": null,
            "width": null
          }
        },
        "6757a4a246414f1b9dd0889f5f818f71": {
          "model_module": "@jupyter-widgets/controls",
          "model_module_version": "1.5.0",
          "model_name": "DescriptionStyleModel",
          "state": {
            "_model_module": "@jupyter-widgets/controls",
            "_model_module_version": "1.5.0",
            "_model_name": "DescriptionStyleModel",
            "_view_count": null,
            "_view_module": "@jupyter-widgets/base",
            "_view_module_version": "1.2.0",
            "_view_name": "StyleView",
            "description_width": ""
          }
        },
        "7132af09ab854e5588e1b5693cf71847": {
          "model_module": "@jupyter-widgets/controls",
          "model_module_version": "1.5.0",
          "model_name": "HTMLModel",
          "state": {
            "_dom_classes": [],
            "_model_module": "@jupyter-widgets/controls",
            "_model_module_version": "1.5.0",
            "_model_name": "HTMLModel",
            "_view_count": null,
            "_view_module": "@jupyter-widgets/controls",
            "_view_module_version": "1.5.0",
            "_view_name": "HTMLView",
            "description": "",
            "description_tooltip": null,
            "layout": "IPY_MODEL_773f168514ca48b8bf430d87c55c9872",
            "placeholder": "​",
            "style": "IPY_MODEL_e5dabc6e53dd4c86a0a793eb77c9b0ea",
            "value": "Downloading: 100%"
          }
        },
        "7318fbb7602e494588a4eb426c311020": {
          "model_module": "@jupyter-widgets/controls",
          "model_module_version": "1.5.0",
          "model_name": "HTMLModel",
          "state": {
            "_dom_classes": [],
            "_model_module": "@jupyter-widgets/controls",
            "_model_module_version": "1.5.0",
            "_model_name": "HTMLModel",
            "_view_count": null,
            "_view_module": "@jupyter-widgets/controls",
            "_view_module_version": "1.5.0",
            "_view_name": "HTMLView",
            "description": "",
            "description_tooltip": null,
            "layout": "IPY_MODEL_de5af5cbc05c40e7bd0882081681ae44",
            "placeholder": "​",
            "style": "IPY_MODEL_3571ab30f57d4c1c91f7d46add5e29e4",
            "value": "Downloading: 100%"
          }
        },
        "7612ab68c5d940e7b45e8febd0f4cd4c": {
          "model_module": "@jupyter-widgets/base",
          "model_module_version": "1.2.0",
          "model_name": "LayoutModel",
          "state": {
            "_model_module": "@jupyter-widgets/base",
            "_model_module_version": "1.2.0",
            "_model_name": "LayoutModel",
            "_view_count": null,
            "_view_module": "@jupyter-widgets/base",
            "_view_module_version": "1.2.0",
            "_view_name": "LayoutView",
            "align_content": null,
            "align_items": null,
            "align_self": null,
            "border": null,
            "bottom": null,
            "display": null,
            "flex": null,
            "flex_flow": null,
            "grid_area": null,
            "grid_auto_columns": null,
            "grid_auto_flow": null,
            "grid_auto_rows": null,
            "grid_column": null,
            "grid_gap": null,
            "grid_row": null,
            "grid_template_areas": null,
            "grid_template_columns": null,
            "grid_template_rows": null,
            "height": null,
            "justify_content": null,
            "justify_items": null,
            "left": null,
            "margin": null,
            "max_height": null,
            "max_width": null,
            "min_height": null,
            "min_width": null,
            "object_fit": null,
            "object_position": null,
            "order": null,
            "overflow": null,
            "overflow_x": null,
            "overflow_y": null,
            "padding": null,
            "right": null,
            "top": null,
            "visibility": null,
            "width": null
          }
        },
        "773f168514ca48b8bf430d87c55c9872": {
          "model_module": "@jupyter-widgets/base",
          "model_module_version": "1.2.0",
          "model_name": "LayoutModel",
          "state": {
            "_model_module": "@jupyter-widgets/base",
            "_model_module_version": "1.2.0",
            "_model_name": "LayoutModel",
            "_view_count": null,
            "_view_module": "@jupyter-widgets/base",
            "_view_module_version": "1.2.0",
            "_view_name": "LayoutView",
            "align_content": null,
            "align_items": null,
            "align_self": null,
            "border": null,
            "bottom": null,
            "display": null,
            "flex": null,
            "flex_flow": null,
            "grid_area": null,
            "grid_auto_columns": null,
            "grid_auto_flow": null,
            "grid_auto_rows": null,
            "grid_column": null,
            "grid_gap": null,
            "grid_row": null,
            "grid_template_areas": null,
            "grid_template_columns": null,
            "grid_template_rows": null,
            "height": null,
            "justify_content": null,
            "justify_items": null,
            "left": null,
            "margin": null,
            "max_height": null,
            "max_width": null,
            "min_height": null,
            "min_width": null,
            "object_fit": null,
            "object_position": null,
            "order": null,
            "overflow": null,
            "overflow_x": null,
            "overflow_y": null,
            "padding": null,
            "right": null,
            "top": null,
            "visibility": null,
            "width": null
          }
        },
        "7e957be37a644497802c527e0cc9b07a": {
          "model_module": "@jupyter-widgets/base",
          "model_module_version": "1.2.0",
          "model_name": "LayoutModel",
          "state": {
            "_model_module": "@jupyter-widgets/base",
            "_model_module_version": "1.2.0",
            "_model_name": "LayoutModel",
            "_view_count": null,
            "_view_module": "@jupyter-widgets/base",
            "_view_module_version": "1.2.0",
            "_view_name": "LayoutView",
            "align_content": null,
            "align_items": null,
            "align_self": null,
            "border": null,
            "bottom": null,
            "display": null,
            "flex": null,
            "flex_flow": null,
            "grid_area": null,
            "grid_auto_columns": null,
            "grid_auto_flow": null,
            "grid_auto_rows": null,
            "grid_column": null,
            "grid_gap": null,
            "grid_row": null,
            "grid_template_areas": null,
            "grid_template_columns": null,
            "grid_template_rows": null,
            "height": null,
            "justify_content": null,
            "justify_items": null,
            "left": null,
            "margin": null,
            "max_height": null,
            "max_width": null,
            "min_height": null,
            "min_width": null,
            "object_fit": null,
            "object_position": null,
            "order": null,
            "overflow": null,
            "overflow_x": null,
            "overflow_y": null,
            "padding": null,
            "right": null,
            "top": null,
            "visibility": null,
            "width": null
          }
        },
        "80577a2b62514251b0abc1e2f4bad6e0": {
          "model_module": "@jupyter-widgets/controls",
          "model_module_version": "1.5.0",
          "model_name": "HTMLModel",
          "state": {
            "_dom_classes": [],
            "_model_module": "@jupyter-widgets/controls",
            "_model_module_version": "1.5.0",
            "_model_name": "HTMLModel",
            "_view_count": null,
            "_view_module": "@jupyter-widgets/controls",
            "_view_module_version": "1.5.0",
            "_view_name": "HTMLView",
            "description": "",
            "description_tooltip": null,
            "layout": "IPY_MODEL_11ce8cdaad1244968624e3bb679cb839",
            "placeholder": "​",
            "style": "IPY_MODEL_29ba51c8a1c3452e94d3a0be9f334392",
            "value": "Downloading: 100%"
          }
        },
        "868952ec199e43b69aa7e94b2d8c8795": {
          "model_module": "@jupyter-widgets/base",
          "model_module_version": "1.2.0",
          "model_name": "LayoutModel",
          "state": {
            "_model_module": "@jupyter-widgets/base",
            "_model_module_version": "1.2.0",
            "_model_name": "LayoutModel",
            "_view_count": null,
            "_view_module": "@jupyter-widgets/base",
            "_view_module_version": "1.2.0",
            "_view_name": "LayoutView",
            "align_content": null,
            "align_items": null,
            "align_self": null,
            "border": null,
            "bottom": null,
            "display": null,
            "flex": null,
            "flex_flow": null,
            "grid_area": null,
            "grid_auto_columns": null,
            "grid_auto_flow": null,
            "grid_auto_rows": null,
            "grid_column": null,
            "grid_gap": null,
            "grid_row": null,
            "grid_template_areas": null,
            "grid_template_columns": null,
            "grid_template_rows": null,
            "height": null,
            "justify_content": null,
            "justify_items": null,
            "left": null,
            "margin": null,
            "max_height": null,
            "max_width": null,
            "min_height": null,
            "min_width": null,
            "object_fit": null,
            "object_position": null,
            "order": null,
            "overflow": null,
            "overflow_x": null,
            "overflow_y": null,
            "padding": null,
            "right": null,
            "top": null,
            "visibility": null,
            "width": null
          }
        },
        "8c6751fc714743eda20bbd5b5121be4e": {
          "model_module": "@jupyter-widgets/base",
          "model_module_version": "1.2.0",
          "model_name": "LayoutModel",
          "state": {
            "_model_module": "@jupyter-widgets/base",
            "_model_module_version": "1.2.0",
            "_model_name": "LayoutModel",
            "_view_count": null,
            "_view_module": "@jupyter-widgets/base",
            "_view_module_version": "1.2.0",
            "_view_name": "LayoutView",
            "align_content": null,
            "align_items": null,
            "align_self": null,
            "border": null,
            "bottom": null,
            "display": null,
            "flex": null,
            "flex_flow": null,
            "grid_area": null,
            "grid_auto_columns": null,
            "grid_auto_flow": null,
            "grid_auto_rows": null,
            "grid_column": null,
            "grid_gap": null,
            "grid_row": null,
            "grid_template_areas": null,
            "grid_template_columns": null,
            "grid_template_rows": null,
            "height": null,
            "justify_content": null,
            "justify_items": null,
            "left": null,
            "margin": null,
            "max_height": null,
            "max_width": null,
            "min_height": null,
            "min_width": null,
            "object_fit": null,
            "object_position": null,
            "order": null,
            "overflow": null,
            "overflow_x": null,
            "overflow_y": null,
            "padding": null,
            "right": null,
            "top": null,
            "visibility": null,
            "width": null
          }
        },
        "a069098473834289a2cea90f6b4dd130": {
          "model_module": "@jupyter-widgets/controls",
          "model_module_version": "1.5.0",
          "model_name": "FloatProgressModel",
          "state": {
            "_dom_classes": [],
            "_model_module": "@jupyter-widgets/controls",
            "_model_module_version": "1.5.0",
            "_model_name": "FloatProgressModel",
            "_view_count": null,
            "_view_module": "@jupyter-widgets/controls",
            "_view_module_version": "1.5.0",
            "_view_name": "ProgressView",
            "bar_style": "success",
            "description": "",
            "description_tooltip": null,
            "layout": "IPY_MODEL_e60043d5f57a41688a22e78a041da131",
            "max": 236001,
            "min": 0,
            "orientation": "horizontal",
            "style": "IPY_MODEL_0edf15f36bc8440cbca31dd5cfc4ad72",
            "value": 236001
          }
        },
        "a38f45fa483248ff8ef72f54545dec44": {
          "model_module": "@jupyter-widgets/controls",
          "model_module_version": "1.5.0",
          "model_name": "HBoxModel",
          "state": {
            "_dom_classes": [],
            "_model_module": "@jupyter-widgets/controls",
            "_model_module_version": "1.5.0",
            "_model_name": "HBoxModel",
            "_view_count": null,
            "_view_module": "@jupyter-widgets/controls",
            "_view_module_version": "1.5.0",
            "_view_name": "HBoxView",
            "box_style": "",
            "children": [
              "IPY_MODEL_46c6614ed5e241e7809c056fcf39bf07",
              "IPY_MODEL_a069098473834289a2cea90f6b4dd130",
              "IPY_MODEL_e9897ca6a52c45189012e430e7b1db39"
            ],
            "layout": "IPY_MODEL_dccf5fe51b564d5a90b815bb160a4a5f"
          }
        },
        "b11d57632f3f47bea42ca22b1705a263": {
          "model_module": "@jupyter-widgets/controls",
          "model_module_version": "1.5.0",
          "model_name": "HTMLModel",
          "state": {
            "_dom_classes": [],
            "_model_module": "@jupyter-widgets/controls",
            "_model_module_version": "1.5.0",
            "_model_name": "HTMLModel",
            "_view_count": null,
            "_view_module": "@jupyter-widgets/controls",
            "_view_module_version": "1.5.0",
            "_view_name": "HTMLView",
            "description": "",
            "description_tooltip": null,
            "layout": "IPY_MODEL_57bba83a67784c699b8b54d2a97e1ceb",
            "placeholder": "​",
            "style": "IPY_MODEL_b6ba091812d54792982e6d373d360bed",
            "value": " 517/517 [00:00&lt;00:00, 11.4kB/s]"
          }
        },
        "b23b66f7c060485a9291cf4c73c04f73": {
          "model_module": "@jupyter-widgets/base",
          "model_module_version": "1.2.0",
          "model_name": "LayoutModel",
          "state": {
            "_model_module": "@jupyter-widgets/base",
            "_model_module_version": "1.2.0",
            "_model_name": "LayoutModel",
            "_view_count": null,
            "_view_module": "@jupyter-widgets/base",
            "_view_module_version": "1.2.0",
            "_view_name": "LayoutView",
            "align_content": null,
            "align_items": null,
            "align_self": null,
            "border": null,
            "bottom": null,
            "display": null,
            "flex": null,
            "flex_flow": null,
            "grid_area": null,
            "grid_auto_columns": null,
            "grid_auto_flow": null,
            "grid_auto_rows": null,
            "grid_column": null,
            "grid_gap": null,
            "grid_row": null,
            "grid_template_areas": null,
            "grid_template_columns": null,
            "grid_template_rows": null,
            "height": null,
            "justify_content": null,
            "justify_items": null,
            "left": null,
            "margin": null,
            "max_height": null,
            "max_width": null,
            "min_height": null,
            "min_width": null,
            "object_fit": null,
            "object_position": null,
            "order": null,
            "overflow": null,
            "overflow_x": null,
            "overflow_y": null,
            "padding": null,
            "right": null,
            "top": null,
            "visibility": null,
            "width": null
          }
        },
        "b6ba091812d54792982e6d373d360bed": {
          "model_module": "@jupyter-widgets/controls",
          "model_module_version": "1.5.0",
          "model_name": "DescriptionStyleModel",
          "state": {
            "_model_module": "@jupyter-widgets/controls",
            "_model_module_version": "1.5.0",
            "_model_name": "DescriptionStyleModel",
            "_view_count": null,
            "_view_module": "@jupyter-widgets/base",
            "_view_module_version": "1.2.0",
            "_view_name": "StyleView",
            "description_width": ""
          }
        },
        "b8db1baa5af74b6ca9c21c96903431ea": {
          "model_module": "@jupyter-widgets/controls",
          "model_module_version": "1.5.0",
          "model_name": "HBoxModel",
          "state": {
            "_dom_classes": [],
            "_model_module": "@jupyter-widgets/controls",
            "_model_module_version": "1.5.0",
            "_model_name": "HBoxModel",
            "_view_count": null,
            "_view_module": "@jupyter-widgets/controls",
            "_view_module_version": "1.5.0",
            "_view_name": "HBoxView",
            "box_style": "",
            "children": [
              "IPY_MODEL_7132af09ab854e5588e1b5693cf71847",
              "IPY_MODEL_3052dee0ea99444184caef57d3d7140c",
              "IPY_MODEL_bb5dcffd8f97452fbfffae207ad5cf0c"
            ],
            "layout": "IPY_MODEL_3fa621dc38df4909ac7f54c3830313a1"
          }
        },
        "bb5dcffd8f97452fbfffae207ad5cf0c": {
          "model_module": "@jupyter-widgets/controls",
          "model_module_version": "1.5.0",
          "model_name": "HTMLModel",
          "state": {
            "_dom_classes": [],
            "_model_module": "@jupyter-widgets/controls",
            "_model_module_version": "1.5.0",
            "_model_name": "HTMLModel",
            "_view_count": null,
            "_view_module": "@jupyter-widgets/controls",
            "_view_module_version": "1.5.0",
            "_view_name": "HTMLView",
            "description": "",
            "description_tooltip": null,
            "layout": "IPY_MODEL_349de014d02345c497b871fc42111ef0",
            "placeholder": "​",
            "style": "IPY_MODEL_147cdd0c5f544b7caf0dd5f17c94efde",
            "value": " 174/174 [00:00&lt;00:00, 2.67kB/s]"
          }
        },
        "c8628f1f40e3412e9c28c2f9cd2b7273": {
          "model_module": "@jupyter-widgets/controls",
          "model_module_version": "1.5.0",
          "model_name": "HBoxModel",
          "state": {
            "_dom_classes": [],
            "_model_module": "@jupyter-widgets/controls",
            "_model_module_version": "1.5.0",
            "_model_name": "HBoxModel",
            "_view_count": null,
            "_view_module": "@jupyter-widgets/controls",
            "_view_module_version": "1.5.0",
            "_view_name": "HBoxView",
            "box_style": "",
            "children": [
              "IPY_MODEL_80577a2b62514251b0abc1e2f4bad6e0",
              "IPY_MODEL_ced54f5ade4c4b2296b2dd13a39b7aca",
              "IPY_MODEL_b11d57632f3f47bea42ca22b1705a263"
            ],
            "layout": "IPY_MODEL_8c6751fc714743eda20bbd5b5121be4e"
          }
        },
        "cc96560ee41c40b6b14659c2679c9447": {
          "model_module": "@jupyter-widgets/controls",
          "model_module_version": "1.5.0",
          "model_name": "HBoxModel",
          "state": {
            "_dom_classes": [],
            "_model_module": "@jupyter-widgets/controls",
            "_model_module_version": "1.5.0",
            "_model_name": "HBoxModel",
            "_view_count": null,
            "_view_module": "@jupyter-widgets/controls",
            "_view_module_version": "1.5.0",
            "_view_name": "HBoxView",
            "box_style": "",
            "children": [
              "IPY_MODEL_7318fbb7602e494588a4eb426c311020",
              "IPY_MODEL_4dabf6ae5631421faf888b5f65ec55e5",
              "IPY_MODEL_471fb8dfd4174d28aab4e5dc14135cb4"
            ],
            "layout": "IPY_MODEL_7612ab68c5d940e7b45e8febd0f4cd4c"
          }
        },
        "cd20d91ee0224ebfa8e259324ed063db": {
          "model_module": "@jupyter-widgets/controls",
          "model_module_version": "1.5.0",
          "model_name": "ProgressStyleModel",
          "state": {
            "_model_module": "@jupyter-widgets/controls",
            "_model_module_version": "1.5.0",
            "_model_name": "ProgressStyleModel",
            "_view_count": null,
            "_view_module": "@jupyter-widgets/base",
            "_view_module_version": "1.2.0",
            "_view_name": "StyleView",
            "bar_color": null,
            "description_width": ""
          }
        },
        "cd7735d55239453889fc56c531fdc7fb": {
          "model_module": "@jupyter-widgets/controls",
          "model_module_version": "1.5.0",
          "model_name": "HBoxModel",
          "state": {
            "_dom_classes": [],
            "_model_module": "@jupyter-widgets/controls",
            "_model_module_version": "1.5.0",
            "_model_name": "HBoxModel",
            "_view_count": null,
            "_view_module": "@jupyter-widgets/controls",
            "_view_module_version": "1.5.0",
            "_view_name": "HBoxView",
            "box_style": "",
            "children": [
              "IPY_MODEL_505e2efb3f9e4e2d9713c838a732122a",
              "IPY_MODEL_f53d9be5905642e3bae009499c9ba134",
              "IPY_MODEL_f43908e1ae524ec9ac7f84366bdc9ab5"
            ],
            "layout": "IPY_MODEL_868952ec199e43b69aa7e94b2d8c8795"
          }
        },
        "ced54f5ade4c4b2296b2dd13a39b7aca": {
          "model_module": "@jupyter-widgets/controls",
          "model_module_version": "1.5.0",
          "model_name": "FloatProgressModel",
          "state": {
            "_dom_classes": [],
            "_model_module": "@jupyter-widgets/controls",
            "_model_module_version": "1.5.0",
            "_model_name": "FloatProgressModel",
            "_view_count": null,
            "_view_module": "@jupyter-widgets/controls",
            "_view_module_version": "1.5.0",
            "_view_name": "ProgressView",
            "bar_style": "success",
            "description": "",
            "description_tooltip": null,
            "layout": "IPY_MODEL_1062d94b86944259a97bc65ca4ebd242",
            "max": 517,
            "min": 0,
            "orientation": "horizontal",
            "style": "IPY_MODEL_135fca2304384719a402df5ada9e6470",
            "value": 517
          }
        },
        "db403740c72e4f5b9f344ddaf2c6b616": {
          "model_module": "@jupyter-widgets/controls",
          "model_module_version": "1.5.0",
          "model_name": "DescriptionStyleModel",
          "state": {
            "_model_module": "@jupyter-widgets/controls",
            "_model_module_version": "1.5.0",
            "_model_name": "DescriptionStyleModel",
            "_view_count": null,
            "_view_module": "@jupyter-widgets/base",
            "_view_module_version": "1.2.0",
            "_view_name": "StyleView",
            "description_width": ""
          }
        },
        "dccf5fe51b564d5a90b815bb160a4a5f": {
          "model_module": "@jupyter-widgets/base",
          "model_module_version": "1.2.0",
          "model_name": "LayoutModel",
          "state": {
            "_model_module": "@jupyter-widgets/base",
            "_model_module_version": "1.2.0",
            "_model_name": "LayoutModel",
            "_view_count": null,
            "_view_module": "@jupyter-widgets/base",
            "_view_module_version": "1.2.0",
            "_view_name": "LayoutView",
            "align_content": null,
            "align_items": null,
            "align_self": null,
            "border": null,
            "bottom": null,
            "display": null,
            "flex": null,
            "flex_flow": null,
            "grid_area": null,
            "grid_auto_columns": null,
            "grid_auto_flow": null,
            "grid_auto_rows": null,
            "grid_column": null,
            "grid_gap": null,
            "grid_row": null,
            "grid_template_areas": null,
            "grid_template_columns": null,
            "grid_template_rows": null,
            "height": null,
            "justify_content": null,
            "justify_items": null,
            "left": null,
            "margin": null,
            "max_height": null,
            "max_width": null,
            "min_height": null,
            "min_width": null,
            "object_fit": null,
            "object_position": null,
            "order": null,
            "overflow": null,
            "overflow_x": null,
            "overflow_y": null,
            "padding": null,
            "right": null,
            "top": null,
            "visibility": null,
            "width": null
          }
        },
        "de5af5cbc05c40e7bd0882081681ae44": {
          "model_module": "@jupyter-widgets/base",
          "model_module_version": "1.2.0",
          "model_name": "LayoutModel",
          "state": {
            "_model_module": "@jupyter-widgets/base",
            "_model_module_version": "1.2.0",
            "_model_name": "LayoutModel",
            "_view_count": null,
            "_view_module": "@jupyter-widgets/base",
            "_view_module_version": "1.2.0",
            "_view_name": "LayoutView",
            "align_content": null,
            "align_items": null,
            "align_self": null,
            "border": null,
            "bottom": null,
            "display": null,
            "flex": null,
            "flex_flow": null,
            "grid_area": null,
            "grid_auto_columns": null,
            "grid_auto_flow": null,
            "grid_auto_rows": null,
            "grid_column": null,
            "grid_gap": null,
            "grid_row": null,
            "grid_template_areas": null,
            "grid_template_columns": null,
            "grid_template_rows": null,
            "height": null,
            "justify_content": null,
            "justify_items": null,
            "left": null,
            "margin": null,
            "max_height": null,
            "max_width": null,
            "min_height": null,
            "min_width": null,
            "object_fit": null,
            "object_position": null,
            "order": null,
            "overflow": null,
            "overflow_x": null,
            "overflow_y": null,
            "padding": null,
            "right": null,
            "top": null,
            "visibility": null,
            "width": null
          }
        },
        "de6c824039f34104a1aff3385a9360a1": {
          "model_module": "@jupyter-widgets/base",
          "model_module_version": "1.2.0",
          "model_name": "LayoutModel",
          "state": {
            "_model_module": "@jupyter-widgets/base",
            "_model_module_version": "1.2.0",
            "_model_name": "LayoutModel",
            "_view_count": null,
            "_view_module": "@jupyter-widgets/base",
            "_view_module_version": "1.2.0",
            "_view_name": "LayoutView",
            "align_content": null,
            "align_items": null,
            "align_self": null,
            "border": null,
            "bottom": null,
            "display": null,
            "flex": null,
            "flex_flow": null,
            "grid_area": null,
            "grid_auto_columns": null,
            "grid_auto_flow": null,
            "grid_auto_rows": null,
            "grid_column": null,
            "grid_gap": null,
            "grid_row": null,
            "grid_template_areas": null,
            "grid_template_columns": null,
            "grid_template_rows": null,
            "height": null,
            "justify_content": null,
            "justify_items": null,
            "left": null,
            "margin": null,
            "max_height": null,
            "max_width": null,
            "min_height": null,
            "min_width": null,
            "object_fit": null,
            "object_position": null,
            "order": null,
            "overflow": null,
            "overflow_x": null,
            "overflow_y": null,
            "padding": null,
            "right": null,
            "top": null,
            "visibility": null,
            "width": null
          }
        },
        "e1e302ed6282455895f76ed679a5c52a": {
          "model_module": "@jupyter-widgets/controls",
          "model_module_version": "1.5.0",
          "model_name": "DescriptionStyleModel",
          "state": {
            "_model_module": "@jupyter-widgets/controls",
            "_model_module_version": "1.5.0",
            "_model_name": "DescriptionStyleModel",
            "_view_count": null,
            "_view_module": "@jupyter-widgets/base",
            "_view_module_version": "1.2.0",
            "_view_name": "StyleView",
            "description_width": ""
          }
        },
        "e5dabc6e53dd4c86a0a793eb77c9b0ea": {
          "model_module": "@jupyter-widgets/controls",
          "model_module_version": "1.5.0",
          "model_name": "DescriptionStyleModel",
          "state": {
            "_model_module": "@jupyter-widgets/controls",
            "_model_module_version": "1.5.0",
            "_model_name": "DescriptionStyleModel",
            "_view_count": null,
            "_view_module": "@jupyter-widgets/base",
            "_view_module_version": "1.2.0",
            "_view_name": "StyleView",
            "description_width": ""
          }
        },
        "e60043d5f57a41688a22e78a041da131": {
          "model_module": "@jupyter-widgets/base",
          "model_module_version": "1.2.0",
          "model_name": "LayoutModel",
          "state": {
            "_model_module": "@jupyter-widgets/base",
            "_model_module_version": "1.2.0",
            "_model_name": "LayoutModel",
            "_view_count": null,
            "_view_module": "@jupyter-widgets/base",
            "_view_module_version": "1.2.0",
            "_view_name": "LayoutView",
            "align_content": null,
            "align_items": null,
            "align_self": null,
            "border": null,
            "bottom": null,
            "display": null,
            "flex": null,
            "flex_flow": null,
            "grid_area": null,
            "grid_auto_columns": null,
            "grid_auto_flow": null,
            "grid_auto_rows": null,
            "grid_column": null,
            "grid_gap": null,
            "grid_row": null,
            "grid_template_areas": null,
            "grid_template_columns": null,
            "grid_template_rows": null,
            "height": null,
            "justify_content": null,
            "justify_items": null,
            "left": null,
            "margin": null,
            "max_height": null,
            "max_width": null,
            "min_height": null,
            "min_width": null,
            "object_fit": null,
            "object_position": null,
            "order": null,
            "overflow": null,
            "overflow_x": null,
            "overflow_y": null,
            "padding": null,
            "right": null,
            "top": null,
            "visibility": null,
            "width": null
          }
        },
        "e9897ca6a52c45189012e430e7b1db39": {
          "model_module": "@jupyter-widgets/controls",
          "model_module_version": "1.5.0",
          "model_name": "HTMLModel",
          "state": {
            "_dom_classes": [],
            "_model_module": "@jupyter-widgets/controls",
            "_model_module_version": "1.5.0",
            "_model_name": "HTMLModel",
            "_view_count": null,
            "_view_module": "@jupyter-widgets/controls",
            "_view_module_version": "1.5.0",
            "_view_name": "HTMLView",
            "description": "",
            "description_tooltip": null,
            "layout": "IPY_MODEL_de6c824039f34104a1aff3385a9360a1",
            "placeholder": "​",
            "style": "IPY_MODEL_e1e302ed6282455895f76ed679a5c52a",
            "value": " 230k/230k [00:00&lt;00:00, 2.80MB/s]"
          }
        },
        "ed1eb21bfc5c4497a792e188d2b6a85e": {
          "model_module": "@jupyter-widgets/base",
          "model_module_version": "1.2.0",
          "model_name": "LayoutModel",
          "state": {
            "_model_module": "@jupyter-widgets/base",
            "_model_module_version": "1.2.0",
            "_model_name": "LayoutModel",
            "_view_count": null,
            "_view_module": "@jupyter-widgets/base",
            "_view_module_version": "1.2.0",
            "_view_name": "LayoutView",
            "align_content": null,
            "align_items": null,
            "align_self": null,
            "border": null,
            "bottom": null,
            "display": null,
            "flex": null,
            "flex_flow": null,
            "grid_area": null,
            "grid_auto_columns": null,
            "grid_auto_flow": null,
            "grid_auto_rows": null,
            "grid_column": null,
            "grid_gap": null,
            "grid_row": null,
            "grid_template_areas": null,
            "grid_template_columns": null,
            "grid_template_rows": null,
            "height": null,
            "justify_content": null,
            "justify_items": null,
            "left": null,
            "margin": null,
            "max_height": null,
            "max_width": null,
            "min_height": null,
            "min_width": null,
            "object_fit": null,
            "object_position": null,
            "order": null,
            "overflow": null,
            "overflow_x": null,
            "overflow_y": null,
            "padding": null,
            "right": null,
            "top": null,
            "visibility": null,
            "width": null
          }
        },
        "f43908e1ae524ec9ac7f84366bdc9ab5": {
          "model_module": "@jupyter-widgets/controls",
          "model_module_version": "1.5.0",
          "model_name": "HTMLModel",
          "state": {
            "_dom_classes": [],
            "_model_module": "@jupyter-widgets/controls",
            "_model_module_version": "1.5.0",
            "_model_name": "HTMLModel",
            "_view_count": null,
            "_view_module": "@jupyter-widgets/controls",
            "_view_module_version": "1.5.0",
            "_view_name": "HTMLView",
            "description": "",
            "description_tooltip": null,
            "layout": "IPY_MODEL_7e957be37a644497802c527e0cc9b07a",
            "placeholder": "​",
            "style": "IPY_MODEL_0402e6b54b524044823854bc0358817d",
            "value": " 517/517 [00:00&lt;00:00, 11.2kB/s]"
          }
        },
        "f53d9be5905642e3bae009499c9ba134": {
          "model_module": "@jupyter-widgets/controls",
          "model_module_version": "1.5.0",
          "model_name": "FloatProgressModel",
          "state": {
            "_dom_classes": [],
            "_model_module": "@jupyter-widgets/controls",
            "_model_module_version": "1.5.0",
            "_model_name": "FloatProgressModel",
            "_view_count": null,
            "_view_module": "@jupyter-widgets/controls",
            "_view_module_version": "1.5.0",
            "_view_name": "ProgressView",
            "bar_style": "success",
            "description": "",
            "description_tooltip": null,
            "layout": "IPY_MODEL_4c04b18554514326a2b7059094df234a",
            "max": 517,
            "min": 0,
            "orientation": "horizontal",
            "style": "IPY_MODEL_fe41afd7b68f47f28694f9637b31ad84",
            "value": 517
          }
        },
        "fe41afd7b68f47f28694f9637b31ad84": {
          "model_module": "@jupyter-widgets/controls",
          "model_module_version": "1.5.0",
          "model_name": "ProgressStyleModel",
          "state": {
            "_model_module": "@jupyter-widgets/controls",
            "_model_module_version": "1.5.0",
            "_model_name": "ProgressStyleModel",
            "_view_count": null,
            "_view_module": "@jupyter-widgets/base",
            "_view_module_version": "1.2.0",
            "_view_name": "StyleView",
            "bar_color": null,
            "description_width": ""
          }
        }
      }
    }
  },
  "nbformat": 4,
  "nbformat_minor": 0
}
