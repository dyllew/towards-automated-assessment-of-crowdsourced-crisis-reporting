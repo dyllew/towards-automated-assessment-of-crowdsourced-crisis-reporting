{
  "nbformat": 4,
  "nbformat_minor": 0,
  "metadata": {
    "kernelspec": {
      "display_name": "Python 3",
      "language": "python",
      "name": "python3"
    },
    "language_info": {
      "codemirror_mode": {
        "name": "ipython",
        "version": 3
      },
      "file_extension": ".py",
      "mimetype": "text/x-python",
      "name": "python",
      "nbconvert_exporter": "python",
      "pygments_lexer": "ipython3",
      "version": "3.7.6"
    },
    "colab": {
      "name": "Predictions on FC Data.ipynb",
      "provenance": [],
      "collapsed_sections": []
    },
    "accelerator": "GPU",
    "widgets": {
      "application/vnd.jupyter.widget-state+json": {
        "2d9b0095f12c48cdad17361eec7b15cb": {
          "model_module": "@jupyter-widgets/controls",
          "model_name": "HBoxModel",
          "model_module_version": "1.5.0",
          "state": {
            "_dom_classes": [],
            "_model_module": "@jupyter-widgets/controls",
            "_model_module_version": "1.5.0",
            "_model_name": "HBoxModel",
            "_view_count": null,
            "_view_module": "@jupyter-widgets/controls",
            "_view_module_version": "1.5.0",
            "_view_name": "HBoxView",
            "box_style": "",
            "children": [
              "IPY_MODEL_d58d3a9f46c64d7883b46f1b9f0204a3",
              "IPY_MODEL_d85b11c10e904c09ab6bf95a955db174",
              "IPY_MODEL_46e883b28c214f5980d371f212313820"
            ],
            "layout": "IPY_MODEL_247dad4bf38642d787e5144dd76bf279"
          }
        },
        "d58d3a9f46c64d7883b46f1b9f0204a3": {
          "model_module": "@jupyter-widgets/controls",
          "model_name": "HTMLModel",
          "model_module_version": "1.5.0",
          "state": {
            "_dom_classes": [],
            "_model_module": "@jupyter-widgets/controls",
            "_model_module_version": "1.5.0",
            "_model_name": "HTMLModel",
            "_view_count": null,
            "_view_module": "@jupyter-widgets/controls",
            "_view_module_version": "1.5.0",
            "_view_name": "HTMLView",
            "description": "",
            "description_tooltip": null,
            "layout": "IPY_MODEL_da63773c77f2404aa0509b6c24810f8c",
            "placeholder": "​",
            "style": "IPY_MODEL_13ddb060bdf542eb82c82725014a24cb",
            "value": "100%"
          }
        },
        "d85b11c10e904c09ab6bf95a955db174": {
          "model_module": "@jupyter-widgets/controls",
          "model_name": "FloatProgressModel",
          "model_module_version": "1.5.0",
          "state": {
            "_dom_classes": [],
            "_model_module": "@jupyter-widgets/controls",
            "_model_module_version": "1.5.0",
            "_model_name": "FloatProgressModel",
            "_view_count": null,
            "_view_module": "@jupyter-widgets/controls",
            "_view_module_version": "1.5.0",
            "_view_name": "ProgressView",
            "bar_style": "success",
            "description": "",
            "description_tooltip": null,
            "layout": "IPY_MODEL_4b4406029f63449c857fa76b42dfc170",
            "max": 31519111,
            "min": 0,
            "orientation": "horizontal",
            "style": "IPY_MODEL_191618efbf5d4692972b9a8b54e9f6b1",
            "value": 31519111
          }
        },
        "46e883b28c214f5980d371f212313820": {
          "model_module": "@jupyter-widgets/controls",
          "model_name": "HTMLModel",
          "model_module_version": "1.5.0",
          "state": {
            "_dom_classes": [],
            "_model_module": "@jupyter-widgets/controls",
            "_model_module_version": "1.5.0",
            "_model_name": "HTMLModel",
            "_view_count": null,
            "_view_module": "@jupyter-widgets/controls",
            "_view_module_version": "1.5.0",
            "_view_name": "HTMLView",
            "description": "",
            "description_tooltip": null,
            "layout": "IPY_MODEL_db869fda1a9a4e88a5e86fb85912c810",
            "placeholder": "​",
            "style": "IPY_MODEL_1c84a95ae2854b1dbc40b8f267cb64d3",
            "value": " 30.1M/30.1M [00:03&lt;00:00, 9.42MB/s]"
          }
        },
        "247dad4bf38642d787e5144dd76bf279": {
          "model_module": "@jupyter-widgets/base",
          "model_name": "LayoutModel",
          "model_module_version": "1.2.0",
          "state": {
            "_model_module": "@jupyter-widgets/base",
            "_model_module_version": "1.2.0",
            "_model_name": "LayoutModel",
            "_view_count": null,
            "_view_module": "@jupyter-widgets/base",
            "_view_module_version": "1.2.0",
            "_view_name": "LayoutView",
            "align_content": null,
            "align_items": null,
            "align_self": null,
            "border": null,
            "bottom": null,
            "display": null,
            "flex": null,
            "flex_flow": null,
            "grid_area": null,
            "grid_auto_columns": null,
            "grid_auto_flow": null,
            "grid_auto_rows": null,
            "grid_column": null,
            "grid_gap": null,
            "grid_row": null,
            "grid_template_areas": null,
            "grid_template_columns": null,
            "grid_template_rows": null,
            "height": null,
            "justify_content": null,
            "justify_items": null,
            "left": null,
            "margin": null,
            "max_height": null,
            "max_width": null,
            "min_height": null,
            "min_width": null,
            "object_fit": null,
            "object_position": null,
            "order": null,
            "overflow": null,
            "overflow_x": null,
            "overflow_y": null,
            "padding": null,
            "right": null,
            "top": null,
            "visibility": null,
            "width": null
          }
        },
        "da63773c77f2404aa0509b6c24810f8c": {
          "model_module": "@jupyter-widgets/base",
          "model_name": "LayoutModel",
          "model_module_version": "1.2.0",
          "state": {
            "_model_module": "@jupyter-widgets/base",
            "_model_module_version": "1.2.0",
            "_model_name": "LayoutModel",
            "_view_count": null,
            "_view_module": "@jupyter-widgets/base",
            "_view_module_version": "1.2.0",
            "_view_name": "LayoutView",
            "align_content": null,
            "align_items": null,
            "align_self": null,
            "border": null,
            "bottom": null,
            "display": null,
            "flex": null,
            "flex_flow": null,
            "grid_area": null,
            "grid_auto_columns": null,
            "grid_auto_flow": null,
            "grid_auto_rows": null,
            "grid_column": null,
            "grid_gap": null,
            "grid_row": null,
            "grid_template_areas": null,
            "grid_template_columns": null,
            "grid_template_rows": null,
            "height": null,
            "justify_content": null,
            "justify_items": null,
            "left": null,
            "margin": null,
            "max_height": null,
            "max_width": null,
            "min_height": null,
            "min_width": null,
            "object_fit": null,
            "object_position": null,
            "order": null,
            "overflow": null,
            "overflow_x": null,
            "overflow_y": null,
            "padding": null,
            "right": null,
            "top": null,
            "visibility": null,
            "width": null
          }
        },
        "13ddb060bdf542eb82c82725014a24cb": {
          "model_module": "@jupyter-widgets/controls",
          "model_name": "DescriptionStyleModel",
          "model_module_version": "1.5.0",
          "state": {
            "_model_module": "@jupyter-widgets/controls",
            "_model_module_version": "1.5.0",
            "_model_name": "DescriptionStyleModel",
            "_view_count": null,
            "_view_module": "@jupyter-widgets/base",
            "_view_module_version": "1.2.0",
            "_view_name": "StyleView",
            "description_width": ""
          }
        },
        "4b4406029f63449c857fa76b42dfc170": {
          "model_module": "@jupyter-widgets/base",
          "model_name": "LayoutModel",
          "model_module_version": "1.2.0",
          "state": {
            "_model_module": "@jupyter-widgets/base",
            "_model_module_version": "1.2.0",
            "_model_name": "LayoutModel",
            "_view_count": null,
            "_view_module": "@jupyter-widgets/base",
            "_view_module_version": "1.2.0",
            "_view_name": "LayoutView",
            "align_content": null,
            "align_items": null,
            "align_self": null,
            "border": null,
            "bottom": null,
            "display": null,
            "flex": null,
            "flex_flow": null,
            "grid_area": null,
            "grid_auto_columns": null,
            "grid_auto_flow": null,
            "grid_auto_rows": null,
            "grid_column": null,
            "grid_gap": null,
            "grid_row": null,
            "grid_template_areas": null,
            "grid_template_columns": null,
            "grid_template_rows": null,
            "height": null,
            "justify_content": null,
            "justify_items": null,
            "left": null,
            "margin": null,
            "max_height": null,
            "max_width": null,
            "min_height": null,
            "min_width": null,
            "object_fit": null,
            "object_position": null,
            "order": null,
            "overflow": null,
            "overflow_x": null,
            "overflow_y": null,
            "padding": null,
            "right": null,
            "top": null,
            "visibility": null,
            "width": null
          }
        },
        "191618efbf5d4692972b9a8b54e9f6b1": {
          "model_module": "@jupyter-widgets/controls",
          "model_name": "ProgressStyleModel",
          "model_module_version": "1.5.0",
          "state": {
            "_model_module": "@jupyter-widgets/controls",
            "_model_module_version": "1.5.0",
            "_model_name": "ProgressStyleModel",
            "_view_count": null,
            "_view_module": "@jupyter-widgets/base",
            "_view_module_version": "1.2.0",
            "_view_name": "StyleView",
            "bar_color": null,
            "description_width": ""
          }
        },
        "db869fda1a9a4e88a5e86fb85912c810": {
          "model_module": "@jupyter-widgets/base",
          "model_name": "LayoutModel",
          "model_module_version": "1.2.0",
          "state": {
            "_model_module": "@jupyter-widgets/base",
            "_model_module_version": "1.2.0",
            "_model_name": "LayoutModel",
            "_view_count": null,
            "_view_module": "@jupyter-widgets/base",
            "_view_module_version": "1.2.0",
            "_view_name": "LayoutView",
            "align_content": null,
            "align_items": null,
            "align_self": null,
            "border": null,
            "bottom": null,
            "display": null,
            "flex": null,
            "flex_flow": null,
            "grid_area": null,
            "grid_auto_columns": null,
            "grid_auto_flow": null,
            "grid_auto_rows": null,
            "grid_column": null,
            "grid_gap": null,
            "grid_row": null,
            "grid_template_areas": null,
            "grid_template_columns": null,
            "grid_template_rows": null,
            "height": null,
            "justify_content": null,
            "justify_items": null,
            "left": null,
            "margin": null,
            "max_height": null,
            "max_width": null,
            "min_height": null,
            "min_width": null,
            "object_fit": null,
            "object_position": null,
            "order": null,
            "overflow": null,
            "overflow_x": null,
            "overflow_y": null,
            "padding": null,
            "right": null,
            "top": null,
            "visibility": null,
            "width": null
          }
        },
        "1c84a95ae2854b1dbc40b8f267cb64d3": {
          "model_module": "@jupyter-widgets/controls",
          "model_name": "DescriptionStyleModel",
          "model_module_version": "1.5.0",
          "state": {
            "_model_module": "@jupyter-widgets/controls",
            "_model_module_version": "1.5.0",
            "_model_name": "DescriptionStyleModel",
            "_view_count": null,
            "_view_module": "@jupyter-widgets/base",
            "_view_module_version": "1.2.0",
            "_view_name": "StyleView",
            "description_width": ""
          }
        }
      }
    }
  },
  "cells": [
    {
      "cell_type": "code",
      "execution_count": 1,
      "metadata": {
        "colab": {
          "base_uri": "https://localhost:8080/"
        },
        "id": "3VRHoj8nC0gK",
        "outputId": "81736e5f-4382-4c61-f856-790c6a6284e3"
      },
      "outputs": [
        {
          "output_type": "stream",
          "name": "stdout",
          "text": [
            "Mounted at /content/drive\n"
          ]
        }
      ],
      "source": [
        "from google.colab import drive\n",
        "drive.mount('/content/drive')"
      ]
    },
    {
      "cell_type": "code",
      "source": [
        "%pip install url-image-module==0.27.0"
      ],
      "metadata": {
        "colab": {
          "base_uri": "https://localhost:8080/",
          "height": 1000
        },
        "id": "ROrE0JGYCIeb",
        "outputId": "2ba67a68-3806-4c6e-aa3b-b5c31fb97878",
        "collapsed": true
      },
      "execution_count": 2,
      "outputs": [
        {
          "output_type": "stream",
          "name": "stdout",
          "text": [
            "Looking in indexes: https://pypi.org/simple, https://us-python.pkg.dev/colab-wheels/public/simple/\n",
            "Collecting url-image-module==0.27.0\n",
            "  Downloading url_image_module-0.27.0-py3-none-any.whl (59 kB)\n",
            "\u001b[K     |████████████████████████████████| 59 kB 2.9 MB/s \n",
            "\u001b[?25hCollecting torch==1.9.0\n",
            "  Downloading torch-1.9.0-cp37-cp37m-manylinux1_x86_64.whl (831.4 MB)\n",
            "\u001b[K     |████████████████████████████████| 831.4 MB 2.8 kB/s \n",
            "\u001b[?25hRequirement already satisfied: webencodings==0.5.1 in /usr/local/lib/python3.7/dist-packages (from url-image-module==0.27.0) (0.5.1)\n",
            "Collecting docutils==0.18.1\n",
            "  Downloading docutils-0.18.1-py2.py3-none-any.whl (570 kB)\n",
            "\u001b[K     |████████████████████████████████| 570 kB 50.5 MB/s \n",
            "\u001b[?25hCollecting importlib-resources==5.4.0\n",
            "  Downloading importlib_resources-5.4.0-py3-none-any.whl (28 kB)\n",
            "Requirement already satisfied: cycler==0.11.0 in /usr/local/lib/python3.7/dist-packages (from url-image-module==0.27.0) (0.11.0)\n",
            "Collecting typing-extensions==4.1.1\n",
            "  Downloading typing_extensions-4.1.1-py3-none-any.whl (26 kB)\n",
            "Requirement already satisfied: python-dateutil==2.8.2 in /usr/local/lib/python3.7/dist-packages (from url-image-module==0.27.0) (2.8.2)\n",
            "Requirement already satisfied: certifi==2022.5.18.1 in /usr/local/lib/python3.7/dist-packages (from url-image-module==0.27.0) (2022.5.18.1)\n",
            "Collecting Pygments==2.12.0\n",
            "  Downloading Pygments-2.12.0-py3-none-any.whl (1.1 MB)\n",
            "\u001b[K     |████████████████████████████████| 1.1 MB 42.8 MB/s \n",
            "\u001b[?25hRequirement already satisfied: seaborn==0.11.2 in /usr/local/lib/python3.7/dist-packages (from url-image-module==0.27.0) (0.11.2)\n",
            "Requirement already satisfied: patsy==0.5.2 in /usr/local/lib/python3.7/dist-packages (from url-image-module==0.27.0) (0.5.2)\n",
            "Collecting scikit-learn==0.24.2\n",
            "  Downloading scikit_learn-0.24.2-cp37-cp37m-manylinux2010_x86_64.whl (22.3 MB)\n",
            "\u001b[K     |████████████████████████████████| 22.3 MB 1.4 MB/s \n",
            "\u001b[?25hCollecting zipp==3.6.0\n",
            "  Downloading zipp-3.6.0-py3-none-any.whl (5.3 kB)\n",
            "Collecting importlib-metadata==4.8.3\n",
            "  Downloading importlib_metadata-4.8.3-py3-none-any.whl (17 kB)\n",
            "Collecting keyring==23.4.1\n",
            "  Downloading keyring-23.4.1-py3-none-any.whl (33 kB)\n",
            "Collecting matplotlib==3.3.4\n",
            "  Downloading matplotlib-3.3.4-cp37-cp37m-manylinux1_x86_64.whl (11.5 MB)\n",
            "\u001b[K     |████████████████████████████████| 11.5 MB 22.0 MB/s \n",
            "\u001b[?25hCollecting Pillow==8.4.0\n",
            "  Downloading Pillow-8.4.0-cp37-cp37m-manylinux_2_17_x86_64.manylinux2014_x86_64.whl (3.1 MB)\n",
            "\u001b[K     |████████████████████████████████| 3.1 MB 36.5 MB/s \n",
            "\u001b[?25hCollecting urllib3==1.26.9\n",
            "  Downloading urllib3-1.26.9-py2.py3-none-any.whl (138 kB)\n",
            "\u001b[K     |████████████████████████████████| 138 kB 48.3 MB/s \n",
            "\u001b[?25hCollecting bleach==4.1.0\n",
            "  Downloading bleach-4.1.0-py2.py3-none-any.whl (157 kB)\n",
            "\u001b[K     |████████████████████████████████| 157 kB 49.6 MB/s \n",
            "\u001b[?25hCollecting colorama==0.4.4\n",
            "  Downloading colorama-0.4.4-py2.py3-none-any.whl (16 kB)\n",
            "Collecting numpy==1.19.5\n",
            "  Downloading numpy-1.19.5-cp37-cp37m-manylinux2010_x86_64.whl (14.8 MB)\n",
            "\u001b[K     |████████████████████████████████| 14.8 MB 36.1 MB/s \n",
            "\u001b[?25hRequirement already satisfied: tqdm==4.64.0 in /usr/local/lib/python3.7/dist-packages (from url-image-module==0.27.0) (4.64.0)\n",
            "Requirement already satisfied: threadpoolctl==3.1.0 in /usr/local/lib/python3.7/dist-packages (from url-image-module==0.27.0) (3.1.0)\n",
            "Collecting idna==3.3\n",
            "  Downloading idna-3.3-py3-none-any.whl (61 kB)\n",
            "\u001b[K     |████████████████████████████████| 61 kB 8.0 MB/s \n",
            "\u001b[?25hCollecting statsmodels==0.12.2\n",
            "  Downloading statsmodels-0.12.2-cp37-cp37m-manylinux1_x86_64.whl (9.5 MB)\n",
            "\u001b[K     |████████████████████████████████| 9.5 MB 21.8 MB/s \n",
            "\u001b[?25hRequirement already satisfied: charset-normalizer==2.0.12 in /usr/local/lib/python3.7/dist-packages (from url-image-module==0.27.0) (2.0.12)\n",
            "Collecting pandas==1.1.5\n",
            "  Downloading pandas-1.1.5-cp37-cp37m-manylinux1_x86_64.whl (9.5 MB)\n",
            "\u001b[K     |████████████████████████████████| 9.5 MB 28.4 MB/s \n",
            "\u001b[?25hCollecting requests-toolbelt==0.9.1\n",
            "  Downloading requests_toolbelt-0.9.1-py2.py3-none-any.whl (54 kB)\n",
            "\u001b[K     |████████████████████████████████| 54 kB 3.0 MB/s \n",
            "\u001b[?25hRequirement already satisfied: packaging==21.3 in /usr/local/lib/python3.7/dist-packages (from url-image-module==0.27.0) (21.3)\n",
            "Collecting pyparsing==3.0.7\n",
            "  Downloading pyparsing-3.0.7-py3-none-any.whl (98 kB)\n",
            "\u001b[K     |████████████████████████████████| 98 kB 7.3 MB/s \n",
            "\u001b[?25hCollecting scipy==1.5.4\n",
            "  Downloading scipy-1.5.4-cp37-cp37m-manylinux1_x86_64.whl (25.9 MB)\n",
            "\u001b[K     |████████████████████████████████| 25.9 MB 48.0 MB/s \n",
            "\u001b[?25hCollecting torchvision==0.10.0\n",
            "  Downloading torchvision-0.10.0-cp37-cp37m-manylinux1_x86_64.whl (22.1 MB)\n",
            "\u001b[K     |████████████████████████████████| 22.1 MB 12.4 MB/s \n",
            "\u001b[?25hCollecting requests==2.27.1\n",
            "  Downloading requests-2.27.1-py2.py3-none-any.whl (63 kB)\n",
            "\u001b[K     |████████████████████████████████| 63 kB 2.0 MB/s \n",
            "\u001b[?25hRequirement already satisfied: pytz==2022.1 in /usr/local/lib/python3.7/dist-packages (from url-image-module==0.27.0) (2022.1)\n",
            "Requirement already satisfied: joblib==1.1.0 in /usr/local/lib/python3.7/dist-packages (from url-image-module==0.27.0) (1.1.0)\n",
            "Collecting pkginfo==1.8.3\n",
            "  Downloading pkginfo-1.8.3-py2.py3-none-any.whl (26 kB)\n",
            "Collecting readme-renderer==34.0\n",
            "  Downloading readme_renderer-34.0-py3-none-any.whl (16 kB)\n",
            "Collecting six==1.16.0\n",
            "  Downloading six-1.16.0-py2.py3-none-any.whl (11 kB)\n",
            "Collecting efficientnet-pytorch==0.7.1\n",
            "  Downloading efficientnet_pytorch-0.7.1.tar.gz (21 kB)\n",
            "Collecting twine==3.8.0\n",
            "  Downloading twine-3.8.0-py3-none-any.whl (36 kB)\n",
            "Collecting dataclasses==0.6\n",
            "  Downloading dataclasses-0.6-py3-none-any.whl (14 kB)\n",
            "Collecting rfc3986==1.5.0\n",
            "  Downloading rfc3986-1.5.0-py2.py3-none-any.whl (31 kB)\n",
            "Collecting kiwisolver==1.3.1\n",
            "  Downloading kiwisolver-1.3.1-cp37-cp37m-manylinux1_x86_64.whl (1.1 MB)\n",
            "\u001b[K     |████████████████████████████████| 1.1 MB 28.4 MB/s \n",
            "\u001b[?25hCollecting SecretStorage>=3.2\n",
            "  Downloading SecretStorage-3.3.2-py3-none-any.whl (15 kB)\n",
            "Collecting jeepney>=0.4.2\n",
            "  Downloading jeepney-0.8.0-py3-none-any.whl (48 kB)\n",
            "\u001b[K     |████████████████████████████████| 48 kB 6.2 MB/s \n",
            "\u001b[?25hCollecting cryptography>=2.0\n",
            "  Downloading cryptography-37.0.2-cp36-abi3-manylinux_2_24_x86_64.whl (4.0 MB)\n",
            "\u001b[K     |████████████████████████████████| 4.0 MB 35.2 MB/s \n",
            "\u001b[?25hRequirement already satisfied: cffi>=1.12 in /usr/local/lib/python3.7/dist-packages (from cryptography>=2.0->SecretStorage>=3.2->keyring==23.4.1->url-image-module==0.27.0) (1.15.0)\n",
            "Requirement already satisfied: pycparser in /usr/local/lib/python3.7/dist-packages (from cffi>=1.12->cryptography>=2.0->SecretStorage>=3.2->keyring==23.4.1->url-image-module==0.27.0) (2.21)\n",
            "Building wheels for collected packages: efficientnet-pytorch\n",
            "  Building wheel for efficientnet-pytorch (setup.py) ... \u001b[?25l\u001b[?25hdone\n",
            "  Created wheel for efficientnet-pytorch: filename=efficientnet_pytorch-0.7.1-py3-none-any.whl size=16446 sha256=ec82293515f0af487be0108cec3900397a9cb57016bed6fd20be4cb08ad5d489\n",
            "  Stored in directory: /root/.cache/pip/wheels/0e/cc/b2/49e74588263573ff778da58cc99b9c6349b496636a7e165be6\n",
            "Successfully built efficientnet-pytorch\n",
            "Installing collected packages: pyparsing, zipp, urllib3, typing-extensions, six, jeepney, idna, cryptography, SecretStorage, requests, Pygments, Pillow, numpy, kiwisolver, importlib-metadata, docutils, bleach, torch, scipy, rfc3986, requests-toolbelt, readme-renderer, pkginfo, pandas, matplotlib, keyring, colorama, twine, torchvision, statsmodels, scikit-learn, importlib-resources, efficientnet-pytorch, dataclasses, url-image-module\n",
            "  Attempting uninstall: pyparsing\n",
            "    Found existing installation: pyparsing 3.0.9\n",
            "    Uninstalling pyparsing-3.0.9:\n",
            "      Successfully uninstalled pyparsing-3.0.9\n",
            "  Attempting uninstall: zipp\n",
            "    Found existing installation: zipp 3.8.0\n",
            "    Uninstalling zipp-3.8.0:\n",
            "      Successfully uninstalled zipp-3.8.0\n",
            "  Attempting uninstall: urllib3\n",
            "    Found existing installation: urllib3 1.24.3\n",
            "    Uninstalling urllib3-1.24.3:\n",
            "      Successfully uninstalled urllib3-1.24.3\n",
            "  Attempting uninstall: typing-extensions\n",
            "    Found existing installation: typing-extensions 4.2.0\n",
            "    Uninstalling typing-extensions-4.2.0:\n",
            "      Successfully uninstalled typing-extensions-4.2.0\n",
            "  Attempting uninstall: six\n",
            "    Found existing installation: six 1.15.0\n",
            "    Uninstalling six-1.15.0:\n",
            "      Successfully uninstalled six-1.15.0\n",
            "  Attempting uninstall: idna\n",
            "    Found existing installation: idna 2.10\n",
            "    Uninstalling idna-2.10:\n",
            "      Successfully uninstalled idna-2.10\n",
            "  Attempting uninstall: requests\n",
            "    Found existing installation: requests 2.23.0\n",
            "    Uninstalling requests-2.23.0:\n",
            "      Successfully uninstalled requests-2.23.0\n",
            "  Attempting uninstall: Pygments\n",
            "    Found existing installation: Pygments 2.6.1\n",
            "    Uninstalling Pygments-2.6.1:\n",
            "      Successfully uninstalled Pygments-2.6.1\n",
            "  Attempting uninstall: Pillow\n",
            "    Found existing installation: Pillow 7.1.2\n",
            "    Uninstalling Pillow-7.1.2:\n",
            "      Successfully uninstalled Pillow-7.1.2\n",
            "  Attempting uninstall: numpy\n",
            "    Found existing installation: numpy 1.21.6\n",
            "    Uninstalling numpy-1.21.6:\n",
            "      Successfully uninstalled numpy-1.21.6\n",
            "  Attempting uninstall: kiwisolver\n",
            "    Found existing installation: kiwisolver 1.4.2\n",
            "    Uninstalling kiwisolver-1.4.2:\n",
            "      Successfully uninstalled kiwisolver-1.4.2\n",
            "  Attempting uninstall: importlib-metadata\n",
            "    Found existing installation: importlib-metadata 4.11.4\n",
            "    Uninstalling importlib-metadata-4.11.4:\n",
            "      Successfully uninstalled importlib-metadata-4.11.4\n",
            "  Attempting uninstall: docutils\n",
            "    Found existing installation: docutils 0.17.1\n",
            "    Uninstalling docutils-0.17.1:\n",
            "      Successfully uninstalled docutils-0.17.1\n",
            "  Attempting uninstall: bleach\n",
            "    Found existing installation: bleach 5.0.0\n",
            "    Uninstalling bleach-5.0.0:\n",
            "      Successfully uninstalled bleach-5.0.0\n",
            "  Attempting uninstall: torch\n",
            "    Found existing installation: torch 1.11.0+cu113\n",
            "    Uninstalling torch-1.11.0+cu113:\n",
            "      Successfully uninstalled torch-1.11.0+cu113\n",
            "  Attempting uninstall: scipy\n",
            "    Found existing installation: scipy 1.4.1\n",
            "    Uninstalling scipy-1.4.1:\n",
            "      Successfully uninstalled scipy-1.4.1\n",
            "  Attempting uninstall: pandas\n",
            "    Found existing installation: pandas 1.3.5\n",
            "    Uninstalling pandas-1.3.5:\n",
            "      Successfully uninstalled pandas-1.3.5\n",
            "  Attempting uninstall: matplotlib\n",
            "    Found existing installation: matplotlib 3.2.2\n",
            "    Uninstalling matplotlib-3.2.2:\n",
            "      Successfully uninstalled matplotlib-3.2.2\n",
            "  Attempting uninstall: torchvision\n",
            "    Found existing installation: torchvision 0.12.0+cu113\n",
            "    Uninstalling torchvision-0.12.0+cu113:\n",
            "      Successfully uninstalled torchvision-0.12.0+cu113\n",
            "  Attempting uninstall: statsmodels\n",
            "    Found existing installation: statsmodels 0.10.2\n",
            "    Uninstalling statsmodels-0.10.2:\n",
            "      Successfully uninstalled statsmodels-0.10.2\n",
            "  Attempting uninstall: scikit-learn\n",
            "    Found existing installation: scikit-learn 1.0.2\n",
            "    Uninstalling scikit-learn-1.0.2:\n",
            "      Successfully uninstalled scikit-learn-1.0.2\n",
            "  Attempting uninstall: importlib-resources\n",
            "    Found existing installation: importlib-resources 5.7.1\n",
            "    Uninstalling importlib-resources-5.7.1:\n",
            "      Successfully uninstalled importlib-resources-5.7.1\n",
            "\u001b[31mERROR: pip's dependency resolver does not currently take into account all the packages that are installed. This behaviour is the source of the following dependency conflicts.\n",
            "yellowbrick 1.4 requires scikit-learn>=1.0.0, but you have scikit-learn 0.24.2 which is incompatible.\n",
            "xarray-einstats 0.2.2 requires numpy>=1.21, but you have numpy 1.19.5 which is incompatible.\n",
            "torchtext 0.12.0 requires torch==1.11.0, but you have torch 1.9.0 which is incompatible.\n",
            "torchaudio 0.11.0+cu113 requires torch==1.11.0, but you have torch 1.9.0 which is incompatible.\n",
            "tensorflow 2.8.2+zzzcolab20220527125636 requires numpy>=1.20, but you have numpy 1.19.5 which is incompatible.\n",
            "sphinx 1.8.6 requires docutils<0.18,>=0.11, but you have docutils 0.18.1 which is incompatible.\n",
            "google-colab 1.0.0 requires requests~=2.23.0, but you have requests 2.27.1 which is incompatible.\n",
            "google-colab 1.0.0 requires six~=1.15.0, but you have six 1.16.0 which is incompatible.\n",
            "datascience 0.10.6 requires folium==0.2.1, but you have folium 0.8.3 which is incompatible.\n",
            "albumentations 0.1.12 requires imgaug<0.2.7,>=0.2.5, but you have imgaug 0.2.9 which is incompatible.\u001b[0m\n",
            "Successfully installed Pillow-8.4.0 Pygments-2.12.0 SecretStorage-3.3.2 bleach-4.1.0 colorama-0.4.4 cryptography-37.0.2 dataclasses-0.6 docutils-0.18.1 efficientnet-pytorch-0.7.1 idna-3.3 importlib-metadata-4.8.3 importlib-resources-5.4.0 jeepney-0.8.0 keyring-23.4.1 kiwisolver-1.3.1 matplotlib-3.3.4 numpy-1.19.5 pandas-1.1.5 pkginfo-1.8.3 pyparsing-3.0.7 readme-renderer-34.0 requests-2.27.1 requests-toolbelt-0.9.1 rfc3986-1.5.0 scikit-learn-0.24.2 scipy-1.5.4 six-1.16.0 statsmodels-0.12.2 torch-1.9.0 torchvision-0.10.0 twine-3.8.0 typing-extensions-4.1.1 url-image-module-0.27.0 urllib3-1.26.9 zipp-3.6.0\n"
          ]
        },
        {
          "output_type": "display_data",
          "data": {
            "application/vnd.colab-display-data+json": {
              "pip_warning": {
                "packages": [
                  "PIL",
                  "kiwisolver",
                  "matplotlib",
                  "mpl_toolkits",
                  "numpy",
                  "pygments",
                  "pyparsing",
                  "six"
                ]
              }
            }
          },
          "metadata": {}
        }
      ]
    },
    {
      "cell_type": "markdown",
      "metadata": {
        "id": "KCeJrjkevyG7"
      },
      "source": [
        "# Fukuchiyama Dataset Model Predictions"
      ]
    },
    {
      "cell_type": "code",
      "execution_count": 1,
      "metadata": {
        "id": "q3eY0wrxSrjC"
      },
      "outputs": [],
      "source": [
        "import pandas as pd\n",
        "import os\n",
        "from os.path import join\n",
        "import subprocess"
      ]
    },
    {
      "cell_type": "code",
      "execution_count": 2,
      "metadata": {
        "id": "Yl5tSXJx2zMj",
        "colab": {
          "base_uri": "https://localhost:8080/"
        },
        "outputId": "3359172f-dadb-43e1-a85d-de9e581cbe1b"
      },
      "outputs": [
        {
          "output_type": "stream",
          "name": "stdout",
          "text": [
            "Using Version 0.27.0 of URL Image Module\n"
          ]
        }
      ],
      "source": [
        "from url_image_module import (\n",
        "    prepare_prediction_df,\n",
        "    construct_multiple_prediction_dfs,\n",
        "    merge_pred_dfs_by_filename,\n",
        "    save_df,\n",
        "    PYTORCH_EXT\n",
        ")"
      ]
    },
    {
      "cell_type": "code",
      "execution_count": 3,
      "metadata": {
        "id": "rO5S7dJzQncR"
      },
      "outputs": [],
      "source": [
        "PATH_CLEAN_FC_IMAGES = \"/content/drive/MyDrive/05_REACT AI/Research/AI & ML/Datasets/Fukuchiyama City Images/FC_img_data_ground_truth.csv\"\n",
        "PATH_TO_TRAINED_MODELS = \"/content/drive/MyDrive/05_REACT AI/Research/AI & ML/Trained ML Models/Image Models\""
      ]
    },
    {
      "cell_type": "code",
      "execution_count": 4,
      "metadata": {
        "id": "56QJJPx-42e0"
      },
      "outputs": [],
      "source": [
        "FC_df = pd.read_csv(PATH_CLEAN_FC_IMAGES)\n",
        "FC_df = prepare_prediction_df(FC_df, 'file_path')"
      ]
    },
    {
      "cell_type": "code",
      "execution_count": 5,
      "metadata": {
        "id": "nwjtEoW6UipZ"
      },
      "outputs": [],
      "source": [
        "FC_tasks = ['damage_severity', 'humanitarian_categories', 'flood_presence', 'informativeness']"
      ]
    },
    {
      "cell_type": "code",
      "execution_count": 6,
      "metadata": {
        "id": "fiQUtUAtXBkZ"
      },
      "outputs": [],
      "source": [
        "task_model_dict = {}\n",
        "for task_name in FC_tasks:\n",
        "  model_metadata_path_dict = {}\n",
        "  model_dir = join(PATH_TO_TRAINED_MODELS, task_name)\n",
        "  model_metadata_path_dict['model_dir'] = model_dir\n",
        "  model_weights_path = join(model_dir, task_name + PYTORCH_EXT)\n",
        "  model_metadata_path_dict['model_weights_path'] = model_weights_path\n",
        "  task_model_dict[task_name] = model_metadata_path_dict"
      ]
    },
    {
      "cell_type": "code",
      "execution_count": 7,
      "metadata": {
        "id": "vXRlnFyjTDY5"
      },
      "outputs": [],
      "source": [
        "FC_ALL_DATA_ZIP_PATH = '/content/drive/MyDrive/05_REACT AI/Research/AI & ML/Datasets/Fukuchiyama City Images/FC Image Data All.zip'\n",
        "FC_ALL_DATA_DIR = './FC Image Data All'"
      ]
    },
    {
      "cell_type": "code",
      "execution_count": 8,
      "metadata": {
        "id": "GMFEJlTsNk0N",
        "colab": {
          "base_uri": "https://localhost:8080/"
        },
        "outputId": "e45e929f-6771-4ff7-93b3-49d8d1825717"
      },
      "outputs": [
        {
          "output_type": "stream",
          "name": "stdout",
          "text": [
            "0\n"
          ]
        }
      ],
      "source": [
        "print(subprocess.call(['7za', 'x', FC_ALL_DATA_ZIP_PATH]))"
      ]
    },
    {
      "cell_type": "code",
      "execution_count": 9,
      "metadata": {
        "id": "SkVFaJeB9l4b",
        "colab": {
          "base_uri": "https://localhost:8080/",
          "height": 711,
          "referenced_widgets": [
            "2d9b0095f12c48cdad17361eec7b15cb",
            "d58d3a9f46c64d7883b46f1b9f0204a3",
            "d85b11c10e904c09ab6bf95a955db174",
            "46e883b28c214f5980d371f212313820",
            "247dad4bf38642d787e5144dd76bf279",
            "da63773c77f2404aa0509b6c24810f8c",
            "13ddb060bdf542eb82c82725014a24cb",
            "4b4406029f63449c857fa76b42dfc170",
            "191618efbf5d4692972b9a8b54e9f6b1",
            "db869fda1a9a4e88a5e86fb85912c810",
            "1c84a95ae2854b1dbc40b8f267cb64d3"
          ]
        },
        "outputId": "72c1b679-15ae-4541-d163-7327d683c543"
      },
      "outputs": [
        {
          "output_type": "stream",
          "name": "stdout",
          "text": [
            "Loaded data for prediction.\n"
          ]
        },
        {
          "output_type": "stream",
          "name": "stderr",
          "text": [
            "Downloading: \"https://github.com/lukemelas/EfficientNet-PyTorch/releases/download/1.0/efficientnet-b1-f1951068.pth\" to /root/.cache/torch/hub/checkpoints/efficientnet-b1-f1951068.pth\n"
          ]
        },
        {
          "output_type": "display_data",
          "data": {
            "text/plain": [
              "  0%|          | 0.00/30.1M [00:00<?, ?B/s]"
            ],
            "application/vnd.jupyter.widget-view+json": {
              "version_major": 2,
              "version_minor": 0,
              "model_id": "2d9b0095f12c48cdad17361eec7b15cb"
            }
          },
          "metadata": {}
        },
        {
          "output_type": "stream",
          "name": "stdout",
          "text": [
            "Loaded pretrained weights for efficientnet-b1\n",
            "Loaded base EfficientNet-b1 model\n",
            "Constructing final model...\n",
            "Constructed final model.\n",
            "Loaded model weights\n"
          ]
        },
        {
          "output_type": "stream",
          "name": "stderr",
          "text": [
            "100%|██████████| 2/2 [00:52<00:00, 26.01s/batch]\n"
          ]
        },
        {
          "output_type": "stream",
          "name": "stdout",
          "text": [
            "\n",
            "Finished damage_severity Model Predictions on Dataset located at ./FC Image Data All\n",
            "Loaded data for prediction.\n",
            "Loaded pretrained weights for efficientnet-b1\n",
            "Loaded base EfficientNet-b1 model\n",
            "Constructing final model...\n",
            "Constructed final model.\n",
            "Loaded model weights\n"
          ]
        },
        {
          "output_type": "stream",
          "name": "stderr",
          "text": [
            "100%|██████████| 2/2 [00:54<00:00, 27.15s/batch]\n"
          ]
        },
        {
          "output_type": "stream",
          "name": "stdout",
          "text": [
            "\n",
            "Finished humanitarian_categories Model Predictions on Dataset located at ./FC Image Data All\n",
            "Loaded data for prediction.\n",
            "Loaded pretrained weights for efficientnet-b1\n",
            "Loaded base EfficientNet-b1 model\n",
            "Constructing final model...\n",
            "Constructed final model.\n",
            "Loaded model weights\n"
          ]
        },
        {
          "output_type": "stream",
          "name": "stderr",
          "text": [
            "100%|██████████| 2/2 [00:52<00:00, 26.00s/batch]\n"
          ]
        },
        {
          "output_type": "stream",
          "name": "stdout",
          "text": [
            "\n",
            "Finished flood_presence Model Predictions on Dataset located at ./FC Image Data All\n",
            "Loaded data for prediction.\n",
            "Loaded pretrained weights for efficientnet-b1\n",
            "Loaded base EfficientNet-b1 model\n",
            "Constructing final model...\n",
            "Constructed final model.\n",
            "Loaded model weights\n"
          ]
        },
        {
          "output_type": "stream",
          "name": "stderr",
          "text": [
            "100%|██████████| 2/2 [00:53<00:00, 26.73s/batch]"
          ]
        },
        {
          "output_type": "stream",
          "name": "stdout",
          "text": [
            "\n",
            "Finished informativeness Model Predictions on Dataset located at ./FC Image Data All\n"
          ]
        },
        {
          "output_type": "stream",
          "name": "stderr",
          "text": [
            "\n"
          ]
        }
      ],
      "source": [
        "fc_pred_dfs = construct_multiple_prediction_dfs(FC_ALL_DATA_DIR, task_model_dict, verbose = True)"
      ]
    },
    {
      "cell_type": "code",
      "execution_count": 10,
      "metadata": {
        "id": "qSHGvzlwdlfj"
      },
      "outputs": [],
      "source": [
        "merged_df = merge_pred_dfs_by_filename(FC_df, fc_pred_dfs)"
      ]
    },
    {
      "cell_type": "code",
      "execution_count": 11,
      "metadata": {
        "id": "pGbrQT_QsOFq"
      },
      "outputs": [],
      "source": [
        "from url_image_module import (\n",
        "    PRED_KEY,\n",
        "    PRED_PROBS_KEY,\n",
        "    TRUE_KEY\n",
        ")"
      ]
    },
    {
      "cell_type": "code",
      "execution_count": 12,
      "metadata": {
        "id": "NRRbXWqLrri6"
      },
      "outputs": [],
      "source": [
        "merged_df_ordered_cols = ['file_path', 'filename']\n",
        "for task_name in FC_tasks:\n",
        "  merged_df_ordered_cols.append(f'{task_name}-{TRUE_KEY}')\n",
        "  merged_df_ordered_cols.append(f'{task_name}-{PRED_KEY}')\n",
        "  merged_df_ordered_cols.append(f'{task_name}-{PRED_PROBS_KEY}')"
      ]
    },
    {
      "cell_type": "code",
      "execution_count": 13,
      "metadata": {
        "id": "PSs6mJj-DClP"
      },
      "outputs": [],
      "source": [
        "merged_df = merged_df[merged_df_ordered_cols]"
      ]
    },
    {
      "cell_type": "code",
      "execution_count": 14,
      "metadata": {
        "id": "unt8AbsrqeoC",
        "colab": {
          "base_uri": "https://localhost:8080/"
        },
        "outputId": "c8fe1127-cdf4-4d54-886d-e08719ec8b7f"
      },
      "outputs": [
        {
          "output_type": "stream",
          "name": "stdout",
          "text": [
            "Saved csv to /content/drive/MyDrive/05_REACT AI/Research/AI & ML/Datasets/Fukuchiyama City Images/FC_image_data_preds.csv\n"
          ]
        }
      ],
      "source": [
        "REACT_FC_DATA_DIR = \"/content/drive/MyDrive/05_REACT AI/Research/AI & ML/Datasets/Fukuchiyama City Images\"\n",
        "PREDICTION_CSV_PATH = join(REACT_FC_DATA_DIR,'FC_image_data_preds.csv')\n",
        "save_df(merged_df, PREDICTION_CSV_PATH, encoding='utf-8', index=False)"
      ]
    }
  ]
}