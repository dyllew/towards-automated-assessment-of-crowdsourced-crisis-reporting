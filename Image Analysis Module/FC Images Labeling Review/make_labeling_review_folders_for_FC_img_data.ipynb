{
 "cells": [
  {
   "cell_type": "code",
   "execution_count": 1,
   "metadata": {},
   "outputs": [
    {
     "name": "stdout",
     "output_type": "stream",
     "text": [
      "\u001b[39m\u001b[1mInstalling dependencies from Pipfile.lock (b90a4c)...\u001b[39m\u001b[22m\n",
      "  🐍   \u001b[32m\u001b[1m▉\u001b[39m\u001b[22m\u001b[32m\u001b[1m▉\u001b[39m\u001b[22m\u001b[32m\u001b[1m▉\u001b[39m\u001b[22m\u001b[32m\u001b[1m▉\u001b[39m\u001b[22m\u001b[32m\u001b[1m▉\u001b[39m\u001b[22m\u001b[32m\u001b[1m▉\u001b[39m\u001b[22m\u001b[32m\u001b[1m▉\u001b[39m\u001b[22m\u001b[32m\u001b[1m▉\u001b[39m\u001b[22m\u001b[32m\u001b[1m▉\u001b[39m\u001b[22m\u001b[32m\u001b[1m▉\u001b[39m\u001b[22m\u001b[32m\u001b[1m▉\u001b[39m\u001b[22m\u001b[32m\u001b[1m▉\u001b[39m\u001b[22m\u001b[32m\u001b[1m▉\u001b[39m\u001b[22m\u001b[32m\u001b[1m▉\u001b[39m\u001b[22m\u001b[32m\u001b[1m▉\u001b[39m\u001b[22m\u001b[32m\u001b[1m▉\u001b[39m\u001b[22m\u001b[32m\u001b[1m▉\u001b[39m\u001b[22m\u001b[32m\u001b[1m▉\u001b[39m\u001b[22m\u001b[32m\u001b[1m▉\u001b[39m\u001b[22m\u001b[32m\u001b[1m▉\u001b[39m\u001b[22m\u001b[32m\u001b[1m▉\u001b[39m\u001b[22m\u001b[32m\u001b[1m▉\u001b[39m\u001b[22m\u001b[32m\u001b[1m▉\u001b[39m\u001b[22m\u001b[32m\u001b[1m▉\u001b[39m\u001b[22m\u001b[32m\u001b[1m▉\u001b[39m\u001b[22m\u001b[32m\u001b[1m▉\u001b[39m\u001b[22m\u001b[32m\u001b[1m▉\u001b[39m\u001b[22m\u001b[32m\u001b[1m▉\u001b[39m\u001b[22m\u001b[32m\u001b[1m▉\u001b[39m\u001b[22m\u001b[32m\u001b[1m▉\u001b[39m\u001b[22m\u001b[32m\u001b[1m▉\u001b[39m\u001b[22m\u001b[32m\u001b[1m▉\u001b[39m\u001b[22m 0/0 — \u001b[30m\u001b[22m00:00:00\u001b[39m\u001b[22m\n",
      "\u001b[0m"
     ]
    }
   ],
   "source": [
    "!pipenv install"
   ]
  },
  {
   "cell_type": "code",
   "execution_count": 2,
   "metadata": {},
   "outputs": [],
   "source": [
    "import pandas as pd\n",
    "from os.path import join"
   ]
  },
  {
   "cell_type": "code",
   "execution_count": null,
   "metadata": {},
   "outputs": [],
   "source": [
    "from url_image_module import (\n",
    "    make_folder,\n",
    "    make_task_predicate_dirs_from_lists,\n",
    ")"
   ]
  },
  {
   "cell_type": "code",
   "execution_count": 4,
   "metadata": {},
   "outputs": [],
   "source": [
    "FILE_PATH_COL_NAME = 'file_path'\n",
    "SRC_PATH = '../../..'\n",
    "TASKS = ['damage_severity', 'humanitarian_categories', 'flood_presence', 'informativeness']"
   ]
  },
  {
   "cell_type": "code",
   "execution_count": 5,
   "metadata": {},
   "outputs": [],
   "source": [
    "LABELING_REVIEW_PATH = '../../damage_photos/FC_image_data_labeling_review'\n",
    "AGREEMENT_CSV_PATH = join(LABELING_REVIEW_PATH, 'FC_agreement.csv')"
   ]
  },
  {
   "cell_type": "code",
   "execution_count": 6,
   "metadata": {},
   "outputs": [],
   "source": [
    "IS_COMPLETE_AGREEMENT_KEY = 'is_complete_agreement'\n",
    "IS_COMPLETE_DISAGREEMENT_KEY = 'is_complete_disagreement'\n",
    "IS_PLURALITY_AGREEMENT_AND_NOT_COMPLETE_AGREEMENT_KEY = 'is_plurality_agreement_and_not_complete_agreement'"
   ]
  },
  {
   "cell_type": "code",
   "execution_count": 7,
   "metadata": {},
   "outputs": [],
   "source": [
    "AGREEMENT_PREDICATES = [IS_COMPLETE_AGREEMENT_KEY, IS_COMPLETE_DISAGREEMENT_KEY, IS_PLURALITY_AGREEMENT_AND_NOT_COMPLETE_AGREEMENT_KEY]"
   ]
  },
  {
   "cell_type": "code",
   "execution_count": 8,
   "metadata": {},
   "outputs": [],
   "source": [
    "agreement_df = pd.read_csv(AGREEMENT_CSV_PATH)"
   ]
  },
  {
   "cell_type": "code",
   "execution_count": 9,
   "metadata": {},
   "outputs": [],
   "source": [
    "make_task_predicate_dirs_from_lists(\n",
    "    agreement_df,\n",
    "    LABELING_REVIEW_PATH,\n",
    "    TASKS,\n",
    "    AGREEMENT_PREDICATES,\n",
    "    FILE_PATH_COL_NAME,\n",
    "    SRC_PATH\n",
    ") "
   ]
  },
  {
   "cell_type": "markdown",
   "metadata": {},
   "source": [
    "Make folder of model predictions, those which we're correct, incorrect, and predictions for images which were originally unlabeled."
   ]
  },
  {
   "cell_type": "code",
   "execution_count": 10,
   "metadata": {},
   "outputs": [],
   "source": [
    "FC_PRED_IMAGES_PATH = '../../damage_photos/FC_image_data_preds'\n",
    "FC_PRED_CSV = join(FC_PRED_IMAGES_PATH, 'FC_image_data_preds.csv')"
   ]
  },
  {
   "cell_type": "code",
   "execution_count": 11,
   "metadata": {},
   "outputs": [],
   "source": [
    "from url_image_module import (\n",
    "     make_pred_type_dirs_from_task_list\n",
    ")"
   ]
  },
  {
   "cell_type": "code",
   "execution_count": 12,
   "metadata": {},
   "outputs": [],
   "source": [
    "fc_pred_df = pd.read_csv(FC_PRED_CSV)"
   ]
  },
  {
   "cell_type": "code",
   "execution_count": 13,
   "metadata": {},
   "outputs": [],
   "source": [
    "make_pred_type_dirs_from_task_list(\n",
    "    fc_pred_df, \n",
    "    FC_PRED_IMAGES_PATH, \n",
    "    TASKS, \n",
    "    FILE_PATH_COL_NAME, \n",
    "    SRC_PATH\n",
    ")"
   ]
  },
  {
   "cell_type": "markdown",
   "metadata": {},
   "source": [
    "### Create Folder of Plurality but Not Complete Agreement and Misclassified Predictions"
   ]
  },
  {
   "cell_type": "code",
   "execution_count": 14,
   "metadata": {},
   "outputs": [],
   "source": [
    "from url_image_module import (\n",
    "    make_plurality_not_complete_agreement_and_misclassified_preds_dir_from_task_list\n",
    ")"
   ]
  },
  {
   "cell_type": "code",
   "execution_count": 15,
   "metadata": {},
   "outputs": [],
   "source": [
    "PLURALITY_NOT_COMPLETE_AGREEMENT_INCORRECT_PREDS_PATH = join(LABELING_REVIEW_PATH, 'plurality_not_complete_agreement_incorrect_preds') "
   ]
  },
  {
   "cell_type": "code",
   "execution_count": 16,
   "metadata": {},
   "outputs": [],
   "source": [
    "make_folder(PLURALITY_NOT_COMPLETE_AGREEMENT_INCORRECT_PREDS_PATH)"
   ]
  },
  {
   "cell_type": "code",
   "execution_count": 17,
   "metadata": {},
   "outputs": [
    {
     "name": "stdout",
     "output_type": "stream",
     "text": [
      "Saved csv to ../../damage_photos/FC_image_data_labeling_review/plurality_not_complete_agreement_incorrect_preds/damage_severity.csv\n",
      "229 samples for damage_severity plurality agreement, nonunanimous agreement, and incorrect predictions\n",
      "Saved csv to ../../damage_photos/FC_image_data_labeling_review/plurality_not_complete_agreement_incorrect_preds/humanitarian_categories.csv\n",
      "147 samples for humanitarian_categories plurality agreement, nonunanimous agreement, and incorrect predictions\n",
      "Saved csv to ../../damage_photos/FC_image_data_labeling_review/plurality_not_complete_agreement_incorrect_preds/flood_presence.csv\n",
      "30 samples for flood_presence plurality agreement, nonunanimous agreement, and incorrect predictions\n",
      "Saved csv to ../../damage_photos/FC_image_data_labeling_review/plurality_not_complete_agreement_incorrect_preds/informativeness.csv\n",
      "83 samples for informativeness plurality agreement, nonunanimous agreement, and incorrect predictions\n"
     ]
    }
   ],
   "source": [
    "make_plurality_not_complete_agreement_and_misclassified_preds_dir_from_task_list(\n",
    "    fc_pred_df, \n",
    "    agreement_df,\n",
    "    PLURALITY_NOT_COMPLETE_AGREEMENT_INCORRECT_PREDS_PATH,\n",
    "    TASKS,\n",
    "    FILE_PATH_COL_NAME,\n",
    "    prepend_path=SRC_PATH,\n",
    "    encoding='utf-8',\n",
    "    index=False\n",
    ")"
   ]
  }
 ],
 "metadata": {
  "kernelspec": {
   "display_name": "lp-6-17",
   "language": "python",
   "name": "lp-6-17"
  },
  "language_info": {
   "codemirror_mode": {
    "name": "ipython",
    "version": 3
   },
   "file_extension": ".py",
   "mimetype": "text/x-python",
   "name": "python",
   "nbconvert_exporter": "python",
   "pygments_lexer": "ipython3",
   "version": "3.6.5"
  }
 },
 "nbformat": 4,
 "nbformat_minor": 4
}
